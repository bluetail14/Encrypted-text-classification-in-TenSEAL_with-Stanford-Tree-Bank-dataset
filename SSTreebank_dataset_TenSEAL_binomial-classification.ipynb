{
 "cells": [
  {
   "cell_type": "markdown",
   "id": "0ca56d84-ed4e-4fa9-8c48-0e873ac1622c",
   "metadata": {},
   "source": [
    "Use data science 3 image"
   ]
  },
  {
   "cell_type": "markdown",
   "id": "f6e7b55d-f3a7-4140-aef9-dd5fd7bd78d9",
   "metadata": {},
   "source": [
    "# Installs"
   ]
  },
  {
   "cell_type": "code",
   "execution_count": null,
   "id": "3be2ddd9-83f4-4801-b22c-80af498b240d",
   "metadata": {
    "tags": []
   },
   "outputs": [],
   "source": [
    "!pip install torch tenseal numpy scikit-learn torchvision torchmetrics imblearn matplotlib tqdm seaborn \"pandas<=2.0.0\""
   ]
  },
  {
   "cell_type": "code",
   "execution_count": 4,
   "id": "f3089b16-18e0-48b3-a1fe-9306e9e28780",
   "metadata": {
    "tags": []
   },
   "outputs": [
    {
     "name": "stdout",
     "output_type": "stream",
     "text": [
      "\u001b[31mERROR: Invalid requirement: '@'\u001b[0m\u001b[31m\n",
      "\u001b[0m"
     ]
    }
   ],
   "source": [
    "!pip freeze | xargs pip uninstall -y"
   ]
  },
  {
   "cell_type": "code",
   "execution_count": 5,
   "id": "74d56973-089c-450c-9250-5289f87913bc",
   "metadata": {
    "tags": []
   },
   "outputs": [
    {
     "name": "stdout",
     "output_type": "stream",
     "text": [
      "3.10.6 (main, Oct  7 2022, 20:19:58) [GCC 11.2.0]\n"
     ]
    }
   ],
   "source": [
    "import sys\n",
    "print(sys.version)"
   ]
  },
  {
   "cell_type": "markdown",
   "id": "f20c7533-7135-4cc9-a3be-be6ee489ff4a",
   "metadata": {
    "tags": []
   },
   "source": [
    "# Imports"
   ]
  },
  {
   "cell_type": "code",
   "execution_count": 3,
   "id": "cf6abccd",
   "metadata": {
    "tags": []
   },
   "outputs": [],
   "source": [
    "import torch\n",
    "from torchmetrics.classification import BinaryAccuracy, BinaryPrecision, BinaryRecall, BinaryF1Score, AUROC\n",
    "from torch.utils.data import Dataset\n",
    "import tenseal as ts\n",
    "import pandas as pd\n",
    "import random\n",
    "from time import time\n",
    "import pickle\n",
    "import json\n",
    "import numpy as np\n",
    "#from sklearn.model_selection import train_test_split\n",
    "#from sklearn.metrics import classification_report\n",
    "import seaborn as sns\n",
    "\n",
    "import matplotlib.pyplot as plt\n",
    "from imblearn.under_sampling import RandomUnderSampler\n",
    "from imblearn.over_sampling import SMOTE\n",
    "from collections import Counter\n",
    "import tqdm as tqdm\n",
    "\n",
    "import random\n",
    "\n",
    "sns.set_context('notebook')\n",
    "sns.set_style('whitegrid')\n",
    "sns.set_palette('Set2')"
   ]
  },
  {
   "cell_type": "markdown",
   "id": "4eb48d7e-c933-45d1-9643-52e1afcad594",
   "metadata": {
    "tags": []
   },
   "source": [
    "## "
   ]
  },
  {
   "cell_type": "markdown",
   "id": "4fdab10a-3e47-483b-81ca-93f2bc9c2ef4",
   "metadata": {},
   "source": [
    "# Variables"
   ]
  },
  {
   "cell_type": "code",
   "execution_count": 4,
   "id": "7dda620a-7614-47cc-952f-538ac2d1f7f7",
   "metadata": {
    "tags": []
   },
   "outputs": [],
   "source": [
    "seed = 15\n",
    "#n_features = 60\n",
    "n_features = 20\n",
    "threshold = 0.5\n",
    "learning_rate = 1e-1\n",
    "momentum = 0.9\n",
    "train_data_path = \"./embeddings_sent_train_sstb_pca_20.pkl\"\n",
    "test_data_path = \"./embeddings_sent_test_sstb_pca_20.pkl\""
   ]
  },
  {
   "cell_type": "code",
   "execution_count": 5,
   "id": "c6bd4260-f4ae-446d-a249-17b734dbd080",
   "metadata": {
    "tags": []
   },
   "outputs": [
    {
     "name": "stdout",
     "output_type": "stream",
     "text": [
      "0.100000\n"
     ]
    }
   ],
   "source": [
    "# learning rate\n",
    "print(format(learning_rate, 'f'))"
   ]
  },
  {
   "cell_type": "markdown",
   "id": "0103273c-f010-4cbf-ade7-5475e844c881",
   "metadata": {
    "tags": []
   },
   "source": [
    "# Helpers"
   ]
  },
  {
   "cell_type": "code",
   "execution_count": 5,
   "id": "90d4fcbc-c8e6-456e-9b46-b8fd09084c9f",
   "metadata": {
    "tags": []
   },
   "outputs": [],
   "source": [
    "def set_seed(seed=seed):\n",
    "    torch.manual_seed(seed)\n",
    "    random.seed(seed)"
   ]
  },
  {
   "cell_type": "code",
   "execution_count": null,
   "id": "666887f5-88da-4e56-91c1-c7e7beba1f48",
   "metadata": {},
   "outputs": [],
   "source": []
  },
  {
   "cell_type": "code",
   "execution_count": 9,
   "id": "500efbde-2680-4062-ba6d-f016a1765c9a",
   "metadata": {
    "tags": []
   },
   "outputs": [
    {
     "data": {
      "text/html": [
       "<div>\n",
       "<style scoped>\n",
       "    .dataframe tbody tr th:only-of-type {\n",
       "        vertical-align: middle;\n",
       "    }\n",
       "\n",
       "    .dataframe tbody tr th {\n",
       "        vertical-align: top;\n",
       "    }\n",
       "\n",
       "    .dataframe thead th {\n",
       "        text-align: right;\n",
       "    }\n",
       "</style>\n",
       "<table border=\"1\" class=\"dataframe\">\n",
       "  <thead>\n",
       "    <tr style=\"text-align: right;\">\n",
       "      <th></th>\n",
       "      <th>0</th>\n",
       "      <th>1</th>\n",
       "      <th>2</th>\n",
       "      <th>3</th>\n",
       "      <th>4</th>\n",
       "      <th>5</th>\n",
       "      <th>6</th>\n",
       "      <th>7</th>\n",
       "      <th>8</th>\n",
       "      <th>9</th>\n",
       "      <th>10</th>\n",
       "      <th>11</th>\n",
       "      <th>12</th>\n",
       "      <th>13</th>\n",
       "      <th>14</th>\n",
       "      <th>15</th>\n",
       "      <th>16</th>\n",
       "      <th>17</th>\n",
       "      <th>18</th>\n",
       "      <th>19</th>\n",
       "    </tr>\n",
       "  </thead>\n",
       "  <tbody>\n",
       "    <tr>\n",
       "      <th>0</th>\n",
       "      <td>14.052566</td>\n",
       "      <td>-23.923035</td>\n",
       "      <td>-6.556353</td>\n",
       "      <td>-3.861839</td>\n",
       "      <td>-0.521402</td>\n",
       "      <td>2.790199</td>\n",
       "      <td>4.182197</td>\n",
       "      <td>-5.588435</td>\n",
       "      <td>0.182398</td>\n",
       "      <td>-2.729989</td>\n",
       "      <td>-5.241620</td>\n",
       "      <td>0.209205</td>\n",
       "      <td>-0.394859</td>\n",
       "      <td>-2.941516</td>\n",
       "      <td>0.385759</td>\n",
       "      <td>-0.677056</td>\n",
       "      <td>1.694376</td>\n",
       "      <td>-1.230819</td>\n",
       "      <td>1.490928</td>\n",
       "      <td>-2.028240</td>\n",
       "    </tr>\n",
       "    <tr>\n",
       "      <th>1</th>\n",
       "      <td>19.854282</td>\n",
       "      <td>0.497542</td>\n",
       "      <td>4.183672</td>\n",
       "      <td>10.819630</td>\n",
       "      <td>1.708729</td>\n",
       "      <td>2.526631</td>\n",
       "      <td>2.484919</td>\n",
       "      <td>-3.430412</td>\n",
       "      <td>0.817815</td>\n",
       "      <td>2.178958</td>\n",
       "      <td>-13.918652</td>\n",
       "      <td>-2.819229</td>\n",
       "      <td>-4.140326</td>\n",
       "      <td>2.395941</td>\n",
       "      <td>-1.314899</td>\n",
       "      <td>2.705606</td>\n",
       "      <td>-0.304852</td>\n",
       "      <td>-4.574224</td>\n",
       "      <td>2.070322</td>\n",
       "      <td>-2.748550</td>\n",
       "    </tr>\n",
       "    <tr>\n",
       "      <th>2</th>\n",
       "      <td>17.186382</td>\n",
       "      <td>-23.175190</td>\n",
       "      <td>-6.384917</td>\n",
       "      <td>-1.512172</td>\n",
       "      <td>-4.157166</td>\n",
       "      <td>-1.042760</td>\n",
       "      <td>-1.167418</td>\n",
       "      <td>2.208377</td>\n",
       "      <td>1.299185</td>\n",
       "      <td>-0.480950</td>\n",
       "      <td>-1.372745</td>\n",
       "      <td>-0.131752</td>\n",
       "      <td>-2.895539</td>\n",
       "      <td>-1.700357</td>\n",
       "      <td>-1.808056</td>\n",
       "      <td>1.374368</td>\n",
       "      <td>0.046249</td>\n",
       "      <td>-1.100810</td>\n",
       "      <td>-1.562679</td>\n",
       "      <td>1.266307</td>\n",
       "    </tr>\n",
       "    <tr>\n",
       "      <th>3</th>\n",
       "      <td>26.005203</td>\n",
       "      <td>21.063097</td>\n",
       "      <td>1.138029</td>\n",
       "      <td>0.532839</td>\n",
       "      <td>0.425382</td>\n",
       "      <td>-1.447903</td>\n",
       "      <td>-7.463132</td>\n",
       "      <td>-0.322506</td>\n",
       "      <td>-0.197895</td>\n",
       "      <td>4.782021</td>\n",
       "      <td>-1.181313</td>\n",
       "      <td>3.083845</td>\n",
       "      <td>-0.715277</td>\n",
       "      <td>-1.986995</td>\n",
       "      <td>0.629198</td>\n",
       "      <td>2.502158</td>\n",
       "      <td>-1.537187</td>\n",
       "      <td>-3.216022</td>\n",
       "      <td>-2.557100</td>\n",
       "      <td>-1.586898</td>\n",
       "    </tr>\n",
       "    <tr>\n",
       "      <th>4</th>\n",
       "      <td>23.649910</td>\n",
       "      <td>-2.761907</td>\n",
       "      <td>2.687742</td>\n",
       "      <td>8.025290</td>\n",
       "      <td>-5.350758</td>\n",
       "      <td>-1.527654</td>\n",
       "      <td>-0.635113</td>\n",
       "      <td>-4.391125</td>\n",
       "      <td>-3.094957</td>\n",
       "      <td>-1.521332</td>\n",
       "      <td>-3.295672</td>\n",
       "      <td>0.432543</td>\n",
       "      <td>-1.401680</td>\n",
       "      <td>4.816146</td>\n",
       "      <td>-3.094819</td>\n",
       "      <td>-3.269163</td>\n",
       "      <td>-0.365448</td>\n",
       "      <td>-1.877755</td>\n",
       "      <td>-0.462947</td>\n",
       "      <td>-0.622680</td>\n",
       "    </tr>\n",
       "  </tbody>\n",
       "</table>\n",
       "</div>"
      ],
      "text/plain": [
       "          0          1         2          3         4         5         6   \\\n",
       "0  14.052566 -23.923035 -6.556353  -3.861839 -0.521402  2.790199  4.182197   \n",
       "1  19.854282   0.497542  4.183672  10.819630  1.708729  2.526631  2.484919   \n",
       "2  17.186382 -23.175190 -6.384917  -1.512172 -4.157166 -1.042760 -1.167418   \n",
       "3  26.005203  21.063097  1.138029   0.532839  0.425382 -1.447903 -7.463132   \n",
       "4  23.649910  -2.761907  2.687742   8.025290 -5.350758 -1.527654 -0.635113   \n",
       "\n",
       "         7         8         9          10        11        12        13  \\\n",
       "0 -5.588435  0.182398 -2.729989  -5.241620  0.209205 -0.394859 -2.941516   \n",
       "1 -3.430412  0.817815  2.178958 -13.918652 -2.819229 -4.140326  2.395941   \n",
       "2  2.208377  1.299185 -0.480950  -1.372745 -0.131752 -2.895539 -1.700357   \n",
       "3 -0.322506 -0.197895  4.782021  -1.181313  3.083845 -0.715277 -1.986995   \n",
       "4 -4.391125 -3.094957 -1.521332  -3.295672  0.432543 -1.401680  4.816146   \n",
       "\n",
       "         14        15        16        17        18        19  \n",
       "0  0.385759 -0.677056  1.694376 -1.230819  1.490928 -2.028240  \n",
       "1 -1.314899  2.705606 -0.304852 -4.574224  2.070322 -2.748550  \n",
       "2 -1.808056  1.374368  0.046249 -1.100810 -1.562679  1.266307  \n",
       "3  0.629198  2.502158 -1.537187 -3.216022 -2.557100 -1.586898  \n",
       "4 -3.094819 -3.269163 -0.365448 -1.877755 -0.462947 -0.622680  "
      ]
     },
     "execution_count": 9,
     "metadata": {},
     "output_type": "execute_result"
    }
   ],
   "source": [
    "with open(train_data_path, \"rb\") as fIn:\n",
    "    stored_data = pickle.load(fIn)\n",
    "    stored_labels = stored_data['labels']\n",
    "    stored_embeddings = stored_data['embeddings']\n",
    "    # convert into a dataframe\n",
    "df = pd.DataFrame(pd.DataFrame(data = stored_embeddings))\n",
    "df.head()"
   ]
  },
  {
   "cell_type": "code",
   "execution_count": 10,
   "id": "f38085d0-7b55-4963-9ac1-eda3ea3146f1",
   "metadata": {
    "tags": []
   },
   "outputs": [
    {
     "data": {
      "text/plain": [
       "7792"
      ]
     },
     "execution_count": 10,
     "metadata": {},
     "output_type": "execute_result"
    }
   ],
   "source": [
    "X_train = df.iloc[:,0:20].values\n",
    "len(X_train)"
   ]
  },
  {
   "cell_type": "code",
   "execution_count": 13,
   "id": "5304ec78-4412-41a6-8223-12fb6cb32b6d",
   "metadata": {
    "tags": []
   },
   "outputs": [
    {
     "data": {
      "text/plain": [
       "array([0, 0, 0, ..., 1, 1, 1])"
      ]
     },
     "execution_count": 13,
     "metadata": {},
     "output_type": "execute_result"
    }
   ],
   "source": [
    "df['label'] = stored_labels.tolist()\n",
    "y_train = df.label.values \n",
    "y_train"
   ]
  },
  {
   "cell_type": "code",
   "execution_count": 14,
   "id": "3f734a4c-405b-4dfe-973b-bfbf5415c47c",
   "metadata": {
    "tags": []
   },
   "outputs": [
    {
     "name": "stderr",
     "output_type": "stream",
     "text": [
      "Exception ignored on calling ctypes callback function: <function _ThreadpoolInfo._find_modules_with_dl_iterate_phdr.<locals>.match_module_callback at 0x7f100a513f40>\n",
      "Traceback (most recent call last):\n",
      "  File \"/opt/conda/lib/python3.10/site-packages/threadpoolctl.py\", line 400, in match_module_callback\n",
      "    self._make_module_from_path(filepath)\n",
      "  File \"/opt/conda/lib/python3.10/site-packages/threadpoolctl.py\", line 515, in _make_module_from_path\n",
      "    module = module_class(filepath, prefix, user_api, internal_api)\n",
      "  File \"/opt/conda/lib/python3.10/site-packages/threadpoolctl.py\", line 606, in __init__\n",
      "    self.version = self.get_version()\n",
      "  File \"/opt/conda/lib/python3.10/site-packages/threadpoolctl.py\", line 646, in get_version\n",
      "    config = get_config().split()\n",
      "AttributeError: 'NoneType' object has no attribute 'split'\n"
     ]
    }
   ],
   "source": [
    "smote = SMOTE(random_state=15)\n",
    "X_train , y_train = smote.fit_resample(X_train, y_train)"
   ]
  },
  {
   "cell_type": "code",
   "execution_count": 15,
   "id": "6251188b-9462-4b17-8216-10aa3cee6f80",
   "metadata": {
    "tags": []
   },
   "outputs": [
    {
     "name": "stdout",
     "output_type": "stream",
     "text": [
      "y dist Counter({0: 4054, 1: 4054})\n",
      "y train shape torch.Size([8108, 1]) torch.float32\n",
      "x train shape torch.Size([8108, 20]) torch.float32\n"
     ]
    }
   ],
   "source": [
    "print('y dist', Counter(y_train))\n",
    "\n",
    "X_train = torch.FloatTensor(X_train)\n",
    "y_train = torch.FloatTensor(y_train).unsqueeze(-1)\n",
    "\n",
    "print('y train shape', y_train.shape, y_train.dtype)\n",
    "print('x train shape', X_train.shape, X_train.dtype)"
   ]
  },
  {
   "cell_type": "code",
   "execution_count": null,
   "id": "4e703768-f589-4771-8203-52e136a5f083",
   "metadata": {},
   "outputs": [],
   "source": []
  },
  {
   "cell_type": "code",
   "execution_count": 17,
   "id": "fa08513b-448a-41a2-8b19-79104037f659",
   "metadata": {
    "tags": []
   },
   "outputs": [
    {
     "data": {
      "text/html": [
       "<div>\n",
       "<style scoped>\n",
       "    .dataframe tbody tr th:only-of-type {\n",
       "        vertical-align: middle;\n",
       "    }\n",
       "\n",
       "    .dataframe tbody tr th {\n",
       "        vertical-align: top;\n",
       "    }\n",
       "\n",
       "    .dataframe thead th {\n",
       "        text-align: right;\n",
       "    }\n",
       "</style>\n",
       "<table border=\"1\" class=\"dataframe\">\n",
       "  <thead>\n",
       "    <tr style=\"text-align: right;\">\n",
       "      <th></th>\n",
       "      <th>0</th>\n",
       "      <th>1</th>\n",
       "      <th>2</th>\n",
       "      <th>3</th>\n",
       "      <th>4</th>\n",
       "      <th>5</th>\n",
       "      <th>6</th>\n",
       "      <th>7</th>\n",
       "      <th>8</th>\n",
       "      <th>9</th>\n",
       "      <th>...</th>\n",
       "      <th>50</th>\n",
       "      <th>51</th>\n",
       "      <th>52</th>\n",
       "      <th>53</th>\n",
       "      <th>54</th>\n",
       "      <th>55</th>\n",
       "      <th>56</th>\n",
       "      <th>57</th>\n",
       "      <th>58</th>\n",
       "      <th>59</th>\n",
       "    </tr>\n",
       "  </thead>\n",
       "  <tbody>\n",
       "    <tr>\n",
       "      <th>0</th>\n",
       "      <td>24.838589</td>\n",
       "      <td>2.772899</td>\n",
       "      <td>6.192329</td>\n",
       "      <td>-5.711214</td>\n",
       "      <td>-5.921356</td>\n",
       "      <td>-5.579364</td>\n",
       "      <td>2.758016</td>\n",
       "      <td>-2.517978</td>\n",
       "      <td>-1.700168</td>\n",
       "      <td>-2.665378</td>\n",
       "      <td>...</td>\n",
       "      <td>0.458046</td>\n",
       "      <td>-0.114620</td>\n",
       "      <td>0.467117</td>\n",
       "      <td>0.807749</td>\n",
       "      <td>0.441265</td>\n",
       "      <td>-0.132648</td>\n",
       "      <td>-0.183448</td>\n",
       "      <td>-0.270605</td>\n",
       "      <td>-0.654404</td>\n",
       "      <td>-0.965474</td>\n",
       "    </tr>\n",
       "    <tr>\n",
       "      <th>1</th>\n",
       "      <td>9.275372</td>\n",
       "      <td>-20.016434</td>\n",
       "      <td>-2.671589</td>\n",
       "      <td>1.874329</td>\n",
       "      <td>1.743079</td>\n",
       "      <td>1.100554</td>\n",
       "      <td>-0.448698</td>\n",
       "      <td>1.223266</td>\n",
       "      <td>-0.318874</td>\n",
       "      <td>1.556196</td>\n",
       "      <td>...</td>\n",
       "      <td>-1.182605</td>\n",
       "      <td>-0.009859</td>\n",
       "      <td>0.394505</td>\n",
       "      <td>-0.133958</td>\n",
       "      <td>-0.549358</td>\n",
       "      <td>-0.710158</td>\n",
       "      <td>0.087089</td>\n",
       "      <td>-1.721997</td>\n",
       "      <td>0.004093</td>\n",
       "      <td>0.714983</td>\n",
       "    </tr>\n",
       "    <tr>\n",
       "      <th>2</th>\n",
       "      <td>24.425743</td>\n",
       "      <td>1.974569</td>\n",
       "      <td>-4.349919</td>\n",
       "      <td>5.802249</td>\n",
       "      <td>-4.657108</td>\n",
       "      <td>-5.172925</td>\n",
       "      <td>2.169193</td>\n",
       "      <td>-5.134622</td>\n",
       "      <td>-0.304869</td>\n",
       "      <td>1.786149</td>\n",
       "      <td>...</td>\n",
       "      <td>-0.633044</td>\n",
       "      <td>-1.731556</td>\n",
       "      <td>0.183292</td>\n",
       "      <td>-0.300125</td>\n",
       "      <td>-0.774867</td>\n",
       "      <td>2.258275</td>\n",
       "      <td>0.713953</td>\n",
       "      <td>-0.237055</td>\n",
       "      <td>-2.807298</td>\n",
       "      <td>0.852026</td>\n",
       "    </tr>\n",
       "    <tr>\n",
       "      <th>3</th>\n",
       "      <td>-19.166903</td>\n",
       "      <td>0.096890</td>\n",
       "      <td>2.470870</td>\n",
       "      <td>2.112333</td>\n",
       "      <td>3.888633</td>\n",
       "      <td>0.672453</td>\n",
       "      <td>1.589819</td>\n",
       "      <td>-0.168794</td>\n",
       "      <td>-3.190851</td>\n",
       "      <td>-3.883037</td>\n",
       "      <td>...</td>\n",
       "      <td>-0.788513</td>\n",
       "      <td>-0.538511</td>\n",
       "      <td>-0.304908</td>\n",
       "      <td>0.132751</td>\n",
       "      <td>0.141823</td>\n",
       "      <td>-0.484662</td>\n",
       "      <td>0.329189</td>\n",
       "      <td>0.349774</td>\n",
       "      <td>-0.663601</td>\n",
       "      <td>-0.662485</td>\n",
       "    </tr>\n",
       "    <tr>\n",
       "      <th>4</th>\n",
       "      <td>-22.814823</td>\n",
       "      <td>7.818967</td>\n",
       "      <td>0.386258</td>\n",
       "      <td>0.562299</td>\n",
       "      <td>-4.302380</td>\n",
       "      <td>1.176964</td>\n",
       "      <td>1.176679</td>\n",
       "      <td>1.893128</td>\n",
       "      <td>-0.159800</td>\n",
       "      <td>0.138781</td>\n",
       "      <td>...</td>\n",
       "      <td>0.440979</td>\n",
       "      <td>-0.007396</td>\n",
       "      <td>-0.369705</td>\n",
       "      <td>-0.191070</td>\n",
       "      <td>0.166546</td>\n",
       "      <td>0.148282</td>\n",
       "      <td>-0.098242</td>\n",
       "      <td>-0.101657</td>\n",
       "      <td>0.033199</td>\n",
       "      <td>0.307078</td>\n",
       "    </tr>\n",
       "  </tbody>\n",
       "</table>\n",
       "<p>5 rows × 60 columns</p>\n",
       "</div>"
      ],
      "text/plain": [
       "          0          1         2         3         4         5         6   \\\n",
       "0  24.838589   2.772899  6.192329 -5.711214 -5.921356 -5.579364  2.758016   \n",
       "1   9.275372 -20.016434 -2.671589  1.874329  1.743079  1.100554 -0.448698   \n",
       "2  24.425743   1.974569 -4.349919  5.802249 -4.657108 -5.172925  2.169193   \n",
       "3 -19.166903   0.096890  2.470870  2.112333  3.888633  0.672453  1.589819   \n",
       "4 -22.814823   7.818967  0.386258  0.562299 -4.302380  1.176964  1.176679   \n",
       "\n",
       "         7         8         9   ...        50        51        52        53  \\\n",
       "0 -2.517978 -1.700168 -2.665378  ...  0.458046 -0.114620  0.467117  0.807749   \n",
       "1  1.223266 -0.318874  1.556196  ... -1.182605 -0.009859  0.394505 -0.133958   \n",
       "2 -5.134622 -0.304869  1.786149  ... -0.633044 -1.731556  0.183292 -0.300125   \n",
       "3 -0.168794 -3.190851 -3.883037  ... -0.788513 -0.538511 -0.304908  0.132751   \n",
       "4  1.893128 -0.159800  0.138781  ...  0.440979 -0.007396 -0.369705 -0.191070   \n",
       "\n",
       "         54        55        56        57        58        59  \n",
       "0  0.441265 -0.132648 -0.183448 -0.270605 -0.654404 -0.965474  \n",
       "1 -0.549358 -0.710158  0.087089 -1.721997  0.004093  0.714983  \n",
       "2 -0.774867  2.258275  0.713953 -0.237055 -2.807298  0.852026  \n",
       "3  0.141823 -0.484662  0.329189  0.349774 -0.663601 -0.662485  \n",
       "4  0.166546  0.148282 -0.098242 -0.101657  0.033199  0.307078  \n",
       "\n",
       "[5 rows x 60 columns]"
      ]
     },
     "execution_count": 17,
     "metadata": {},
     "output_type": "execute_result"
    }
   ],
   "source": [
    "with open(test_data_path, \"rb\") as fIn:\n",
    "    stored_data = pickle.load(fIn)\n",
    "    stored_labels = stored_data['labels']\n",
    "    stored_embeddings = stored_data['embeddings']\n",
    "    # convert into a dataframe\n",
    "df = pd.DataFrame(pd.DataFrame(data = stored_embeddings))\n",
    "df.head()"
   ]
  },
  {
   "cell_type": "code",
   "execution_count": 18,
   "id": "e65a2cb2-01c2-4940-b140-76d079d9c770",
   "metadata": {
    "tags": []
   },
   "outputs": [
    {
     "data": {
      "text/plain": [
       "1821"
      ]
     },
     "execution_count": 18,
     "metadata": {},
     "output_type": "execute_result"
    }
   ],
   "source": [
    "X_test = df.iloc[:,0:20].values\n",
    "len(X_test)"
   ]
  },
  {
   "cell_type": "code",
   "execution_count": 19,
   "id": "edd46e07-40ca-4982-9a30-9a77772d5b92",
   "metadata": {
    "tags": []
   },
   "outputs": [
    {
     "data": {
      "text/plain": [
       "array([0, 0, 0, ..., 0, 0, 1])"
      ]
     },
     "execution_count": 19,
     "metadata": {},
     "output_type": "execute_result"
    }
   ],
   "source": [
    "df['label'] = stored_labels.tolist()\n",
    "y_test = df.label.values \n",
    "y_test"
   ]
  },
  {
   "cell_type": "code",
   "execution_count": 20,
   "id": "adb230af-9e77-4d78-8999-7be0e2da89d7",
   "metadata": {
    "tags": []
   },
   "outputs": [
    {
     "name": "stdout",
     "output_type": "stream",
     "text": [
      "y dist Counter({1: 912, 0: 909})\n",
      "y test shape torch.Size([1821, 1]) torch.float32\n",
      "x test shape torch.Size([1821, 60]) torch.float32\n"
     ]
    }
   ],
   "source": [
    "print('y dist', Counter(y_test))\n",
    "\n",
    "X_test = torch.FloatTensor(X_test)\n",
    "y_test = torch.FloatTensor(y_test).unsqueeze(-1)\n",
    "\n",
    "print('y test shape', y_test.shape, y_test.dtype)\n",
    "print('x test shape', X_test.shape, X_test.dtype)"
   ]
  },
  {
   "cell_type": "code",
   "execution_count": null,
   "id": "6218f268-1580-42c3-9c94-f8a6d8f9f191",
   "metadata": {},
   "outputs": [],
   "source": []
  },
  {
   "cell_type": "code",
   "execution_count": null,
   "id": "b2473a3c-cca5-41fe-a937-9e7055c4e3c4",
   "metadata": {},
   "outputs": [],
   "source": []
  },
  {
   "cell_type": "code",
   "execution_count": null,
   "id": "2080ce5e-1a6f-4c6e-8e23-c154cc68440a",
   "metadata": {},
   "outputs": [],
   "source": []
  },
  {
   "cell_type": "markdown",
   "id": "a4c41bb0-5075-4c89-82fb-9d3676e21bb9",
   "metadata": {
    "tags": []
   },
   "source": [
    "## Data loader"
   ]
  },
  {
   "cell_type": "code",
   "execution_count": 6,
   "id": "f7a60e47-6767-48be-b9b9-c2301f900215",
   "metadata": {
    "tags": []
   },
   "outputs": [],
   "source": [
    "def mydata(embedding_fp,  num_samples, seed=15, n_features=n_features, balance=False):\n",
    "    # read the file\n",
    "    with open(embedding_fp, \"rb\") as fIn:\n",
    "        stored_data = pickle.load(fIn)\n",
    "        stored_labels = stored_data['labels']\n",
    "        stored_embeddings = stored_data['embeddings']\n",
    "    # convert into a dataframe\n",
    "    df = pd.DataFrame(pd.DataFrame(data = stored_embeddings))\n",
    "    print('Data frame length', len(df))\n",
    "    df['label'] = stored_labels.tolist()\n",
    "    \n",
    "    # select a subset of features\n",
    "    X = df.iloc[:,0:n_features].values\n",
    "    y = df.label.values  \n",
    "\n",
    "\n",
    "    if balance:\n",
    "        rus = RandomUnderSampler(random_state=seed, replacement=True)\n",
    "        X, y = rus.fit_resample(X, y)\n",
    "        \n",
    "#        smote = SMOTE(random_state=15)\n",
    "#        X,y = smote.fit_resample(X, y)\n",
    "    \n",
    "    if num_samples is not None:\n",
    "        # resample data\n",
    "        df = df.sample(num_samples, random_state=seed)\n",
    "    \n",
    "    print('y dist', Counter(y))\n",
    "    \n",
    "    X = torch.FloatTensor(X)\n",
    "    y = torch.FloatTensor(y).unsqueeze(-1)\n",
    "    \n",
    "    print('y shape', y.shape, y.dtype)\n",
    "    print('x shape', X.shape, X.dtype)\n",
    "    \n",
    "    return X, y"
   ]
  },
  {
   "cell_type": "markdown",
   "id": "86cbe50c-1e27-42c9-940b-7de8c354486a",
   "metadata": {
    "tags": []
   },
   "source": [
    "# Load training data"
   ]
  },
  {
   "cell_type": "code",
   "execution_count": 15,
   "id": "7b3ce3f6-70b6-4c1a-874d-3d706a4d7224",
   "metadata": {
    "tags": []
   },
   "outputs": [
    {
     "name": "stdout",
     "output_type": "stream",
     "text": [
      "Data frame length 7792\n",
      "y dist Counter({0: 3738, 1: 3738})\n",
      "y shape torch.Size([7476, 1]) torch.float32\n",
      "x shape torch.Size([7476, 20]) torch.float32\n"
     ]
    }
   ],
   "source": [
    "train_data = mydata(train_data_path, num_samples = 7792, balance=True, n_features=20)\n",
    "X_train, y_train = train_data"
   ]
  },
  {
   "cell_type": "code",
   "execution_count": null,
   "id": "2a72bdca-a4db-454b-8fe1-c5f3787c1533",
   "metadata": {
    "tags": []
   },
   "outputs": [],
   "source": []
  },
  {
   "cell_type": "markdown",
   "id": "7f4a8852-48c3-476a-8524-cb238eb2a17d",
   "metadata": {
    "tags": []
   },
   "source": [
    "# Load test data"
   ]
  },
  {
   "cell_type": "code",
   "execution_count": 8,
   "id": "17147c19-d64e-441d-8cf9-0bd528a258f1",
   "metadata": {
    "tags": []
   },
   "outputs": [
    {
     "name": "stdout",
     "output_type": "stream",
     "text": [
      "Data frame length 1821\n",
      "y dist Counter({1: 912, 0: 909})\n",
      "y shape torch.Size([1821, 1]) torch.float32\n",
      "x shape torch.Size([1821, 20]) torch.float32\n"
     ]
    }
   ],
   "source": [
    "test_data = mydata(test_data_path, balance=False, num_samples=None, n_features=n_features)\n",
    "X_test, y_test = test_data"
   ]
  },
  {
   "cell_type": "markdown",
   "id": "9652abad",
   "metadata": {},
   "source": [
    "## Training a Logistic Regression Model without encryption"
   ]
  },
  {
   "cell_type": "markdown",
   "id": "1c8522e4-24e4-4097-b314-18e0617b6e22",
   "metadata": {},
   "source": [
    "## Model"
   ]
  },
  {
   "cell_type": "code",
   "execution_count": 11,
   "id": "be752d17",
   "metadata": {
    "tags": []
   },
   "outputs": [],
   "source": [
    "class LR(torch.nn.Module):\n",
    "\n",
    "    def __init__(self, n_features):\n",
    "        super(LR, self).__init__()\n",
    "        self.lr = torch.nn.Linear(n_features, 1)\n",
    "        \n",
    "    def forward(self, x):\n",
    "        out = torch.sigmoid(self.lr(x))\n",
    "        return out"
   ]
  },
  {
   "cell_type": "markdown",
   "id": "aa10b96f-1c43-459f-b41e-ccfbcbeecf7f",
   "metadata": {
    "tags": []
   },
   "source": [
    "## Metrics"
   ]
  },
  {
   "cell_type": "code",
   "execution_count": 12,
   "id": "e760d554-c093-41d6-8efd-256b92fdceeb",
   "metadata": {
    "tags": []
   },
   "outputs": [],
   "source": [
    "acc_fn = BinaryAccuracy(threshold=threshold)\n",
    "f1_fn = BinaryF1Score(threshold=threshold)\n",
    "auroc_fn = AUROC(task=\"binary\")\n",
    "pre_fn = BinaryPrecision(threshold=threshold)\n",
    "recall_fn = BinaryRecall(threshold=threshold)"
   ]
  },
  {
   "cell_type": "markdown",
   "id": "9cc34fbf-5af0-4265-8d15-afed2acef815",
   "metadata": {
    "tags": []
   },
   "source": [
    "## Train"
   ]
  },
  {
   "cell_type": "code",
   "execution_count": 13,
   "id": "045ae36a",
   "metadata": {
    "tags": []
   },
   "outputs": [],
   "source": [
    "def train(model, optim, criterion, x, y, x_test, y_test, epochs=150):\n",
    "    for e in range(1, epochs + 1):\n",
    "        optim.zero_grad()\n",
    "        out = model(x)\n",
    "        loss = criterion(out, y)\n",
    "        train_loss_hist.append(loss.item())\n",
    "        loss.backward()\n",
    "        optim.step()\n",
    "        acc = acc_fn(out, y)\n",
    "        f1 = f1_fn(out, y)\n",
    "        auroc = auroc_fn(out, y)\n",
    "        pre = pre_fn(out,y)\n",
    "#        print(f\"Loss train data at epoch {e}: {loss.data}| Acc: {acc.data:.5f}% | Precision: {pre.data:.5f}% | F1-score: {f1.data:.5f}% | AUROC: {auroc.data:.5f}%\")\n",
    "               \n",
    "        out_test = model(x_test)\n",
    "        loss_test = criterion(out_test, y_test)\n",
    "        test_loss_hist.append(loss_test.item())\n",
    "        acc_ = acc_fn(out_test, y_test)\n",
    "        f1_ = f1_fn(out_test, y_test)\n",
    "        auroc_ = auroc_fn(out_test, y_test)\n",
    "        pre_ = pre_fn(out_test, y_test)\n",
    "        re_ = recall_fn(out_test, y_test)\n",
    "        \n",
    "        print(f\"Loss test data at epoch {e}: {loss_test.data:.4f}| Acc: {acc_.data:.5f}% | Recall: {re_.data:.4f}% |Precision: {pre_.data:.4f}% | F1-score: {f1_.data:.4f}% | AUROC: {auroc_.data:.4f}%\")\n",
    "    \n",
    "    return model"
   ]
  },
  {
   "cell_type": "code",
   "execution_count": 16,
   "id": "30a70fd8-68c3-4781-adb6-6de365acb479",
   "metadata": {
    "tags": []
   },
   "outputs": [
    {
     "name": "stdout",
     "output_type": "stream",
     "text": [
      "Loss test data at epoch 1: 0.8665| Acc: 0.82098% | Recall: 0.7741% |Precision: 0.8547% | F1-score: 0.8124% | AUROC: 0.8770%\n",
      "Loss test data at epoch 2: 0.9385| Acc: 0.82427% | Recall: 0.7664% |Precision: 0.8672% | F1-score: 0.8137% | AUROC: 0.8947%\n",
      "Loss test data at epoch 3: 0.4494| Acc: 0.86711% | Recall: 0.8596% |Precision: 0.8731% | F1-score: 0.8663% | AUROC: 0.9380%\n",
      "Loss test data at epoch 4: 0.7849| Acc: 0.80066% | Recall: 0.9287% |Precision: 0.7397% | F1-score: 0.8235% | AUROC: 0.7826%\n",
      "Loss test data at epoch 5: 0.5079| Acc: 0.83086% | Recall: 0.9035% |Precision: 0.7893% | F1-score: 0.8425% | AUROC: 0.9055%\n",
      "Loss test data at epoch 6: 0.7693| Acc: 0.77100% | Recall: 0.7489% |Precision: 0.7842% | F1-score: 0.7661% | AUROC: 0.8781%\n",
      "Loss test data at epoch 7: 0.7118| Acc: 0.84239% | Recall: 0.7796% |Precision: 0.8921% | F1-score: 0.8321% | AUROC: 0.9183%\n",
      "Loss test data at epoch 8: 0.6130| Acc: 0.85557% | Recall: 0.8783% |Precision: 0.8405% | F1-score: 0.8590% | AUROC: 0.9359%\n",
      "Loss test data at epoch 9: 0.6752| Acc: 0.84624% | Recall: 0.9189% |Precision: 0.8027% | F1-score: 0.8569% | AUROC: 0.9358%\n",
      "Loss test data at epoch 10: 0.6735| Acc: 0.83800% | Recall: 0.9211% |Precision: 0.7902% | F1-score: 0.8506% | AUROC: 0.9247%\n",
      "Loss test data at epoch 11: 0.5344| Acc: 0.84734% | Recall: 0.8849% |Precision: 0.8235% | F1-score: 0.8531% | AUROC: 0.9244%\n",
      "Loss test data at epoch 12: 0.6927| Acc: 0.75892% | Recall: 0.7752% |Precision: 0.7513% | F1-score: 0.7631% | AUROC: 0.8708%\n",
      "Loss test data at epoch 13: 0.5771| Acc: 0.82757% | Recall: 0.7928% |Precision: 0.8526% | F1-score: 0.8216% | AUROC: 0.9068%\n",
      "Loss test data at epoch 14: 0.5041| Acc: 0.86107% | Recall: 0.8717% |Precision: 0.8539% | F1-score: 0.8627% | AUROC: 0.9271%\n",
      "Loss test data at epoch 15: 0.5190| Acc: 0.84349% | Recall: 0.9123% |Precision: 0.8023% | F1-score: 0.8538% | AUROC: 0.9228%\n",
      "Loss test data at epoch 16: 0.5206| Acc: 0.83471% | Recall: 0.9112% |Precision: 0.7907% | F1-score: 0.8467% | AUROC: 0.9087%\n",
      "Loss test data at epoch 17: 0.5206| Acc: 0.84020% | Recall: 0.8410% |Precision: 0.8401% | F1-score: 0.8405% | AUROC: 0.9002%\n",
      "Loss test data at epoch 18: 0.6236| Acc: 0.82043% | Recall: 0.7895% |Precision: 0.8421% | F1-score: 0.8149% | AUROC: 0.8691%\n",
      "Loss test data at epoch 19: 0.5684| Acc: 0.82482% | Recall: 0.8026% |Precision: 0.8404% | F1-score: 0.8211% | AUROC: 0.8760%\n",
      "Loss test data at epoch 20: 0.5115| Acc: 0.82921% | Recall: 0.8673% |Precision: 0.8063% | F1-score: 0.8357% | AUROC: 0.8904%\n",
      "Loss test data at epoch 21: 0.5134| Acc: 0.83910% | Recall: 0.8849% |Precision: 0.8111% | F1-score: 0.8464% | AUROC: 0.9042%\n",
      "Loss test data at epoch 22: 0.5184| Acc: 0.84130% | Recall: 0.8366% |Precision: 0.8450% | F1-score: 0.8408% | AUROC: 0.9104%\n",
      "Loss test data at epoch 23: 0.5034| Acc: 0.84075% | Recall: 0.8125% |Precision: 0.8616% | F1-score: 0.8363% | AUROC: 0.9019%\n",
      "Loss test data at epoch 24: 0.4894| Acc: 0.81494% | Recall: 0.8103% |Precision: 0.8184% | F1-score: 0.8143% | AUROC: 0.8757%\n",
      "Loss test data at epoch 25: 0.4605| Acc: 0.82592% | Recall: 0.8224% |Precision: 0.8287% | F1-score: 0.8255% | AUROC: 0.8880%\n",
      "Loss test data at epoch 26: 0.4410| Acc: 0.84020% | Recall: 0.8202% |Precision: 0.8549% | F1-score: 0.8372% | AUROC: 0.9156%\n",
      "Loss test data at epoch 27: 0.4251| Acc: 0.85008% | Recall: 0.8377% |Precision: 0.8594% | F1-score: 0.8484% | AUROC: 0.9251%\n",
      "Loss test data at epoch 28: 0.3863| Acc: 0.85173% | Recall: 0.8640% |Precision: 0.8437% | F1-score: 0.8537% | AUROC: 0.9268%\n",
      "Loss test data at epoch 29: 0.3704| Acc: 0.85063% | Recall: 0.8432% |Precision: 0.8563% | F1-score: 0.8497% | AUROC: 0.9212%\n",
      "Loss test data at epoch 30: 0.3993| Acc: 0.83690% | Recall: 0.7763% |Precision: 0.8839% | F1-score: 0.8266% | AUROC: 0.9113%\n",
      "Loss test data at epoch 31: 0.3642| Acc: 0.85063% | Recall: 0.8037% |Precision: 0.8874% | F1-score: 0.8435% | AUROC: 0.9291%\n",
      "Loss test data at epoch 32: 0.3335| Acc: 0.86271% | Recall: 0.8805% |Precision: 0.8506% | F1-score: 0.8653% | AUROC: 0.9353%\n",
      "Loss test data at epoch 33: 0.3317| Acc: 0.86491% | Recall: 0.8684% |Precision: 0.8627% | F1-score: 0.8656% | AUROC: 0.9369%\n",
      "Loss test data at epoch 34: 0.3519| Acc: 0.85448% | Recall: 0.8059% |Precision: 0.8931% | F1-score: 0.8473% | AUROC: 0.9324%\n",
      "Loss test data at epoch 35: 0.3593| Acc: 0.85283% | Recall: 0.8037% |Precision: 0.8917% | F1-score: 0.8454% | AUROC: 0.9251%\n",
      "Loss test data at epoch 36: 0.3435| Acc: 0.85832% | Recall: 0.8399% |Precision: 0.8724% | F1-score: 0.8559% | AUROC: 0.9309%\n",
      "Loss test data at epoch 37: 0.3495| Acc: 0.85777% | Recall: 0.8443% |Precision: 0.8681% | F1-score: 0.8560% | AUROC: 0.9329%\n",
      "Loss test data at epoch 38: 0.3475| Acc: 0.85832% | Recall: 0.8542% |Precision: 0.8617% | F1-score: 0.8579% | AUROC: 0.9326%\n",
      "Loss test data at epoch 39: 0.3483| Acc: 0.85557% | Recall: 0.8410% |Precision: 0.8667% | F1-score: 0.8536% | AUROC: 0.9298%\n",
      "Loss test data at epoch 40: 0.3606| Acc: 0.84294% | Recall: 0.7873% |Precision: 0.8864% | F1-score: 0.8339% | AUROC: 0.9270%\n",
      "Loss test data at epoch 41: 0.3466| Acc: 0.85118% | Recall: 0.8147% |Precision: 0.8793% | F1-score: 0.8458% | AUROC: 0.9316%\n",
      "Loss test data at epoch 42: 0.3333| Acc: 0.86656% | Recall: 0.8629% |Precision: 0.8696% | F1-score: 0.8663% | AUROC: 0.9355%\n",
      "Loss test data at epoch 43: 0.3338| Acc: 0.86601% | Recall: 0.8542% |Precision: 0.8753% | F1-score: 0.8646% | AUROC: 0.9367%\n",
      "Loss test data at epoch 44: 0.3382| Acc: 0.86271% | Recall: 0.8366% |Precision: 0.8831% | F1-score: 0.8592% | AUROC: 0.9352%\n",
      "Loss test data at epoch 45: 0.3436| Acc: 0.85722% | Recall: 0.8268% |Precision: 0.8808% | F1-score: 0.8529% | AUROC: 0.9315%\n",
      "Loss test data at epoch 46: 0.3472| Acc: 0.85557% | Recall: 0.8202% |Precision: 0.8831% | F1-score: 0.8505% | AUROC: 0.9315%\n",
      "Loss test data at epoch 47: 0.3435| Acc: 0.86107% | Recall: 0.8344% |Precision: 0.8818% | F1-score: 0.8575% | AUROC: 0.9341%\n",
      "Loss test data at epoch 48: 0.3402| Acc: 0.86381% | Recall: 0.8542% |Precision: 0.8714% | F1-score: 0.8627% | AUROC: 0.9345%\n",
      "Loss test data at epoch 49: 0.3446| Acc: 0.86216% | Recall: 0.8443% |Precision: 0.8760% | F1-score: 0.8599% | AUROC: 0.9330%\n",
      "Loss test data at epoch 50: 0.3549| Acc: 0.85722% | Recall: 0.8180% |Precision: 0.8881% | F1-score: 0.8516% | AUROC: 0.9300%\n",
      "Loss test data at epoch 51: 0.3535| Acc: 0.85777% | Recall: 0.8224% |Precision: 0.8855% | F1-score: 0.8528% | AUROC: 0.9292%\n",
      "Loss test data at epoch 52: 0.3457| Acc: 0.86271% | Recall: 0.8355% |Precision: 0.8840% | F1-score: 0.8591% | AUROC: 0.9317%\n",
      "Loss test data at epoch 53: 0.3442| Acc: 0.86436% | Recall: 0.8355% |Precision: 0.8871% | F1-score: 0.8605% | AUROC: 0.9334%\n",
      "Loss test data at epoch 54: 0.3423| Acc: 0.86436% | Recall: 0.8355% |Precision: 0.8871% | F1-score: 0.8605% | AUROC: 0.9332%\n",
      "Loss test data at epoch 55: 0.3443| Acc: 0.86107% | Recall: 0.8279% |Precision: 0.8872% | F1-score: 0.8565% | AUROC: 0.9320%\n",
      "Loss test data at epoch 56: 0.3499| Acc: 0.85557% | Recall: 0.8081% |Precision: 0.8933% | F1-score: 0.8486% | AUROC: 0.9314%\n",
      "Loss test data at epoch 57: 0.3460| Acc: 0.85832% | Recall: 0.8213% |Precision: 0.8874% | F1-score: 0.8531% | AUROC: 0.9327%\n",
      "Loss test data at epoch 58: 0.3418| Acc: 0.86271% | Recall: 0.8399% |Precision: 0.8805% | F1-score: 0.8597% | AUROC: 0.9338%\n",
      "Loss test data at epoch 59: 0.3453| Acc: 0.86052% | Recall: 0.8344% |Precision: 0.8808% | F1-score: 0.8570% | AUROC: 0.9335%\n",
      "Loss test data at epoch 60: 0.3507| Acc: 0.85612% | Recall: 0.8202% |Precision: 0.8842% | F1-score: 0.8510% | AUROC: 0.9321%\n",
      "Loss test data at epoch 61: 0.3526| Acc: 0.85338% | Recall: 0.8180% |Precision: 0.8808% | F1-score: 0.8482% | AUROC: 0.9306%\n",
      "Loss test data at epoch 62: 0.3528| Acc: 0.85283% | Recall: 0.8169% |Precision: 0.8806% | F1-score: 0.8476% | AUROC: 0.9307%\n",
      "Loss test data at epoch 63: 0.3509| Acc: 0.85777% | Recall: 0.8246% |Precision: 0.8837% | F1-score: 0.8531% | AUROC: 0.9316%\n",
      "Loss test data at epoch 64: 0.3476| Acc: 0.85722% | Recall: 0.8311% |Precision: 0.8773% | F1-score: 0.8536% | AUROC: 0.9319%\n",
      "Loss test data at epoch 65: 0.3484| Acc: 0.85502% | Recall: 0.8257% |Precision: 0.8776% | F1-score: 0.8508% | AUROC: 0.9312%\n",
      "Loss test data at epoch 66: 0.3526| Acc: 0.85557% | Recall: 0.8180% |Precision: 0.8849% | F1-score: 0.8501% | AUROC: 0.9301%\n",
      "Loss test data at epoch 67: 0.3517| Acc: 0.85557% | Recall: 0.8191% |Precision: 0.8840% | F1-score: 0.8503% | AUROC: 0.9299%\n",
      "Loss test data at epoch 68: 0.3485| Acc: 0.85612% | Recall: 0.8279% |Precision: 0.8779% | F1-score: 0.8521% | AUROC: 0.9307%\n",
      "Loss test data at epoch 69: 0.3488| Acc: 0.85667% | Recall: 0.8300% |Precision: 0.8772% | F1-score: 0.8530% | AUROC: 0.9313%\n",
      "Loss test data at epoch 70: 0.3498| Acc: 0.85557% | Recall: 0.8268% |Precision: 0.8778% | F1-score: 0.8515% | AUROC: 0.9309%\n",
      "Loss test data at epoch 71: 0.3515| Acc: 0.85338% | Recall: 0.8235% |Precision: 0.8763% | F1-score: 0.8491% | AUROC: 0.9299%\n",
      "Loss test data at epoch 72: 0.3538| Acc: 0.85338% | Recall: 0.8202% |Precision: 0.8790% | F1-score: 0.8486% | AUROC: 0.9297%\n",
      "Loss test data at epoch 73: 0.3527| Acc: 0.85448% | Recall: 0.8224% |Precision: 0.8792% | F1-score: 0.8499% | AUROC: 0.9304%\n",
      "Loss test data at epoch 74: 0.3500| Acc: 0.85722% | Recall: 0.8300% |Precision: 0.8782% | F1-score: 0.8534% | AUROC: 0.9310%\n",
      "Loss test data at epoch 75: 0.3500| Acc: 0.85667% | Recall: 0.8279% |Precision: 0.8789% | F1-score: 0.8526% | AUROC: 0.9312%\n",
      "Loss test data at epoch 76: 0.3515| Acc: 0.85448% | Recall: 0.8213% |Precision: 0.8801% | F1-score: 0.8497% | AUROC: 0.9308%\n",
      "Loss test data at epoch 77: 0.3509| Acc: 0.85393% | Recall: 0.8213% |Precision: 0.8791% | F1-score: 0.8492% | AUROC: 0.9306%\n",
      "Loss test data at epoch 78: 0.3494| Acc: 0.85448% | Recall: 0.8224% |Precision: 0.8792% | F1-score: 0.8499% | AUROC: 0.9310%\n",
      "Loss test data at epoch 79: 0.3483| Acc: 0.85612% | Recall: 0.8235% |Precision: 0.8815% | F1-score: 0.8515% | AUROC: 0.9317%\n",
      "Loss test data at epoch 80: 0.3471| Acc: 0.85777% | Recall: 0.8268% |Precision: 0.8819% | F1-score: 0.8534% | AUROC: 0.9319%\n",
      "Loss test data at epoch 81: 0.3473| Acc: 0.85777% | Recall: 0.8268% |Precision: 0.8819% | F1-score: 0.8534% | AUROC: 0.9316%\n",
      "Loss test data at epoch 82: 0.3490| Acc: 0.85612% | Recall: 0.8224% |Precision: 0.8824% | F1-score: 0.8513% | AUROC: 0.9312%\n",
      "Loss test data at epoch 83: 0.3486| Acc: 0.85667% | Recall: 0.8235% |Precision: 0.8825% | F1-score: 0.8520% | AUROC: 0.9313%\n",
      "Loss test data at epoch 84: 0.3469| Acc: 0.85832% | Recall: 0.8300% |Precision: 0.8802% | F1-score: 0.8544% | AUROC: 0.9318%\n",
      "Loss test data at epoch 85: 0.3466| Acc: 0.85777% | Recall: 0.8289% |Precision: 0.8801% | F1-score: 0.8538% | AUROC: 0.9321%\n",
      "Loss test data at epoch 86: 0.3469| Acc: 0.85722% | Recall: 0.8268% |Precision: 0.8808% | F1-score: 0.8529% | AUROC: 0.9320%\n",
      "Loss test data at epoch 87: 0.3468| Acc: 0.85777% | Recall: 0.8279% |Precision: 0.8810% | F1-score: 0.8536% | AUROC: 0.9318%\n",
      "Loss test data at epoch 88: 0.3468| Acc: 0.85722% | Recall: 0.8257% |Precision: 0.8817% | F1-score: 0.8528% | AUROC: 0.9319%\n",
      "Loss test data at epoch 89: 0.3460| Acc: 0.85722% | Recall: 0.8268% |Precision: 0.8808% | F1-score: 0.8529% | AUROC: 0.9323%\n",
      "Loss test data at epoch 90: 0.3446| Acc: 0.85832% | Recall: 0.8311% |Precision: 0.8794% | F1-score: 0.8546% | AUROC: 0.9325%\n",
      "Loss test data at epoch 91: 0.3446| Acc: 0.85887% | Recall: 0.8311% |Precision: 0.8804% | F1-score: 0.8550% | AUROC: 0.9325%\n",
      "Loss test data at epoch 92: 0.3457| Acc: 0.85667% | Recall: 0.8257% |Precision: 0.8807% | F1-score: 0.8523% | AUROC: 0.9322%\n",
      "Loss test data at epoch 93: 0.3459| Acc: 0.85722% | Recall: 0.8268% |Precision: 0.8808% | F1-score: 0.8529% | AUROC: 0.9320%\n",
      "Loss test data at epoch 94: 0.3457| Acc: 0.85887% | Recall: 0.8300% |Precision: 0.8813% | F1-score: 0.8549% | AUROC: 0.9320%\n",
      "Loss test data at epoch 95: 0.3458| Acc: 0.85777% | Recall: 0.8289% |Precision: 0.8801% | F1-score: 0.8538% | AUROC: 0.9321%\n",
      "Loss test data at epoch 96: 0.3459| Acc: 0.85832% | Recall: 0.8300% |Precision: 0.8802% | F1-score: 0.8544% | AUROC: 0.9320%\n",
      "Loss test data at epoch 97: 0.3464| Acc: 0.85832% | Recall: 0.8300% |Precision: 0.8802% | F1-score: 0.8544% | AUROC: 0.9317%\n",
      "Loss test data at epoch 98: 0.3472| Acc: 0.85667% | Recall: 0.8257% |Precision: 0.8807% | F1-score: 0.8523% | AUROC: 0.9316%\n",
      "Loss test data at epoch 99: 0.3470| Acc: 0.85777% | Recall: 0.8279% |Precision: 0.8810% | F1-score: 0.8536% | AUROC: 0.9316%\n",
      "Loss test data at epoch 100: 0.3463| Acc: 0.85832% | Recall: 0.8300% |Precision: 0.8802% | F1-score: 0.8544% | AUROC: 0.9318%\n",
      "Loss test data at epoch 101: 0.3463| Acc: 0.85777% | Recall: 0.8289% |Precision: 0.8801% | F1-score: 0.8538% | AUROC: 0.9318%\n",
      "Loss test data at epoch 102: 0.3466| Acc: 0.85777% | Recall: 0.8279% |Precision: 0.8810% | F1-score: 0.8536% | AUROC: 0.9317%\n",
      "Loss test data at epoch 103: 0.3467| Acc: 0.85722% | Recall: 0.8268% |Precision: 0.8808% | F1-score: 0.8529% | AUROC: 0.9315%\n",
      "Loss test data at epoch 104: 0.3468| Acc: 0.85722% | Recall: 0.8268% |Precision: 0.8808% | F1-score: 0.8529% | AUROC: 0.9315%\n",
      "Loss test data at epoch 105: 0.3468| Acc: 0.85722% | Recall: 0.8279% |Precision: 0.8800% | F1-score: 0.8531% | AUROC: 0.9316%\n",
      "Loss test data at epoch 106: 0.3465| Acc: 0.85777% | Recall: 0.8289% |Precision: 0.8801% | F1-score: 0.8538% | AUROC: 0.9317%\n",
      "Loss test data at epoch 107: 0.3468| Acc: 0.85777% | Recall: 0.8289% |Precision: 0.8801% | F1-score: 0.8538% | AUROC: 0.9316%\n",
      "Loss test data at epoch 108: 0.3474| Acc: 0.85722% | Recall: 0.8279% |Precision: 0.8800% | F1-score: 0.8531% | AUROC: 0.9314%\n",
      "Loss test data at epoch 109: 0.3474| Acc: 0.85722% | Recall: 0.8279% |Precision: 0.8800% | F1-score: 0.8531% | AUROC: 0.9313%\n",
      "Loss test data at epoch 110: 0.3471| Acc: 0.85777% | Recall: 0.8289% |Precision: 0.8801% | F1-score: 0.8538% | AUROC: 0.9314%\n",
      "Loss test data at epoch 111: 0.3470| Acc: 0.85777% | Recall: 0.8289% |Precision: 0.8801% | F1-score: 0.8538% | AUROC: 0.9314%\n",
      "Loss test data at epoch 112: 0.3470| Acc: 0.85777% | Recall: 0.8289% |Precision: 0.8801% | F1-score: 0.8538% | AUROC: 0.9314%\n",
      "Loss test data at epoch 113: 0.3470| Acc: 0.85722% | Recall: 0.8289% |Precision: 0.8791% | F1-score: 0.8533% | AUROC: 0.9313%\n",
      "Loss test data at epoch 114: 0.3472| Acc: 0.85722% | Recall: 0.8279% |Precision: 0.8800% | F1-score: 0.8531% | AUROC: 0.9313%\n",
      "Loss test data at epoch 115: 0.3470| Acc: 0.85722% | Recall: 0.8279% |Precision: 0.8800% | F1-score: 0.8531% | AUROC: 0.9314%\n",
      "Loss test data at epoch 116: 0.3467| Acc: 0.85722% | Recall: 0.8289% |Precision: 0.8791% | F1-score: 0.8533% | AUROC: 0.9315%\n",
      "Loss test data at epoch 117: 0.3467| Acc: 0.85777% | Recall: 0.8289% |Precision: 0.8801% | F1-score: 0.8538% | AUROC: 0.9315%\n",
      "Loss test data at epoch 118: 0.3469| Acc: 0.85777% | Recall: 0.8279% |Precision: 0.8810% | F1-score: 0.8536% | AUROC: 0.9314%\n",
      "Loss test data at epoch 119: 0.3469| Acc: 0.85777% | Recall: 0.8289% |Precision: 0.8801% | F1-score: 0.8538% | AUROC: 0.9314%\n",
      "Loss test data at epoch 120: 0.3468| Acc: 0.85777% | Recall: 0.8289% |Precision: 0.8801% | F1-score: 0.8538% | AUROC: 0.9314%\n",
      "Loss test data at epoch 121: 0.3467| Acc: 0.85777% | Recall: 0.8289% |Precision: 0.8801% | F1-score: 0.8538% | AUROC: 0.9315%\n",
      "Loss test data at epoch 122: 0.3465| Acc: 0.85777% | Recall: 0.8289% |Precision: 0.8801% | F1-score: 0.8538% | AUROC: 0.9315%\n",
      "Loss test data at epoch 123: 0.3465| Acc: 0.85777% | Recall: 0.8289% |Precision: 0.8801% | F1-score: 0.8538% | AUROC: 0.9315%\n",
      "Loss test data at epoch 124: 0.3465| Acc: 0.85777% | Recall: 0.8289% |Precision: 0.8801% | F1-score: 0.8538% | AUROC: 0.9315%\n",
      "Loss test data at epoch 125: 0.3464| Acc: 0.85777% | Recall: 0.8289% |Precision: 0.8801% | F1-score: 0.8538% | AUROC: 0.9315%\n",
      "Loss test data at epoch 126: 0.3462| Acc: 0.85777% | Recall: 0.8289% |Precision: 0.8801% | F1-score: 0.8538% | AUROC: 0.9316%\n",
      "Loss test data at epoch 127: 0.3461| Acc: 0.85777% | Recall: 0.8289% |Precision: 0.8801% | F1-score: 0.8538% | AUROC: 0.9316%\n",
      "Loss test data at epoch 128: 0.3462| Acc: 0.85777% | Recall: 0.8289% |Precision: 0.8801% | F1-score: 0.8538% | AUROC: 0.9316%\n",
      "Loss test data at epoch 129: 0.3462| Acc: 0.85777% | Recall: 0.8289% |Precision: 0.8801% | F1-score: 0.8538% | AUROC: 0.9315%\n",
      "Loss test data at epoch 130: 0.3463| Acc: 0.85722% | Recall: 0.8279% |Precision: 0.8800% | F1-score: 0.8531% | AUROC: 0.9315%\n",
      "Loss test data at epoch 131: 0.3463| Acc: 0.85722% | Recall: 0.8279% |Precision: 0.8800% | F1-score: 0.8531% | AUROC: 0.9316%\n",
      "Loss test data at epoch 132: 0.3462| Acc: 0.85777% | Recall: 0.8289% |Precision: 0.8801% | F1-score: 0.8538% | AUROC: 0.9316%\n",
      "Loss test data at epoch 133: 0.3462| Acc: 0.85777% | Recall: 0.8289% |Precision: 0.8801% | F1-score: 0.8538% | AUROC: 0.9316%\n",
      "Loss test data at epoch 134: 0.3464| Acc: 0.85722% | Recall: 0.8279% |Precision: 0.8800% | F1-score: 0.8531% | AUROC: 0.9315%\n",
      "Loss test data at epoch 135: 0.3463| Acc: 0.85722% | Recall: 0.8279% |Precision: 0.8800% | F1-score: 0.8531% | AUROC: 0.9315%\n",
      "Loss test data at epoch 136: 0.3463| Acc: 0.85722% | Recall: 0.8279% |Precision: 0.8800% | F1-score: 0.8531% | AUROC: 0.9315%\n",
      "Loss test data at epoch 137: 0.3462| Acc: 0.85722% | Recall: 0.8279% |Precision: 0.8800% | F1-score: 0.8531% | AUROC: 0.9315%\n",
      "Loss test data at epoch 138: 0.3462| Acc: 0.85722% | Recall: 0.8279% |Precision: 0.8800% | F1-score: 0.8531% | AUROC: 0.9315%\n",
      "Loss test data at epoch 139: 0.3463| Acc: 0.85722% | Recall: 0.8279% |Precision: 0.8800% | F1-score: 0.8531% | AUROC: 0.9315%\n",
      "Loss test data at epoch 140: 0.3463| Acc: 0.85722% | Recall: 0.8279% |Precision: 0.8800% | F1-score: 0.8531% | AUROC: 0.9315%\n",
      "Loss test data at epoch 141: 0.3463| Acc: 0.85722% | Recall: 0.8279% |Precision: 0.8800% | F1-score: 0.8531% | AUROC: 0.9315%\n",
      "Loss test data at epoch 142: 0.3462| Acc: 0.85777% | Recall: 0.8289% |Precision: 0.8801% | F1-score: 0.8538% | AUROC: 0.9315%\n",
      "Loss test data at epoch 143: 0.3463| Acc: 0.85722% | Recall: 0.8279% |Precision: 0.8800% | F1-score: 0.8531% | AUROC: 0.9315%\n",
      "Loss test data at epoch 144: 0.3463| Acc: 0.85722% | Recall: 0.8279% |Precision: 0.8800% | F1-score: 0.8531% | AUROC: 0.9315%\n",
      "Loss test data at epoch 145: 0.3463| Acc: 0.85722% | Recall: 0.8279% |Precision: 0.8800% | F1-score: 0.8531% | AUROC: 0.9315%\n",
      "Loss test data at epoch 146: 0.3463| Acc: 0.85722% | Recall: 0.8279% |Precision: 0.8800% | F1-score: 0.8531% | AUROC: 0.9315%\n",
      "Loss test data at epoch 147: 0.3463| Acc: 0.85722% | Recall: 0.8279% |Precision: 0.8800% | F1-score: 0.8531% | AUROC: 0.9315%\n",
      "Loss test data at epoch 148: 0.3462| Acc: 0.85777% | Recall: 0.8289% |Precision: 0.8801% | F1-score: 0.8538% | AUROC: 0.9315%\n",
      "Loss test data at epoch 149: 0.3462| Acc: 0.85777% | Recall: 0.8289% |Precision: 0.8801% | F1-score: 0.8538% | AUROC: 0.9315%\n",
      "Loss test data at epoch 150: 0.3463| Acc: 0.85722% | Recall: 0.8279% |Precision: 0.8800% | F1-score: 0.8531% | AUROC: 0.9315%\n",
      "\n",
      "Plain model training took: 1 seconds\n"
     ]
    }
   ],
   "source": [
    "# 20 features\n",
    "t_start = time()\n",
    "\n",
    "set_seed()\n",
    "test_loss_hist = []\n",
    "train_loss_hist = []\n",
    "epochs = 150\n",
    "model = LR(n_features)\n",
    "# use gradient descent with a learning_rate=1\n",
    "optim = torch.optim.SGD(model.parameters(), lr=learning_rate, momentum=momentum)\n",
    "# use Binary Cross Entropy Loss\n",
    "criterion = torch.nn.BCELoss()\n",
    "\n",
    "model = train(model, optim, criterion, X_train, y_train, X_test, y_test, epochs=epochs) # 150 epochs\n",
    "\n",
    "t_end = time()\n",
    "print(f\"\\nPlain model training took: {int(t_end - t_start)} seconds\")"
   ]
  },
  {
   "cell_type": "code",
   "execution_count": 17,
   "id": "27eb6532-590a-4918-9131-ee28b9d9a9f1",
   "metadata": {
    "tags": []
   },
   "outputs": [
    {
     "name": "stderr",
     "output_type": "stream",
     "text": [
      "/opt/conda/lib/python3.10/site-packages/seaborn/_decorators.py:36: FutureWarning: Pass the following variables as keyword args: x, y. From version 0.12, the only valid positional argument will be `data`, and passing other arguments without an explicit keyword will result in an error or misinterpretation.\n",
      "  warnings.warn(\n"
     ]
    },
    {
     "data": {
      "image/png": "[encoded data removed]",
      "text/plain": [
       "<Figure size 640x480 with 1 Axes>"
      ]
     },
     "metadata": {},
     "output_type": "display_data"
    },
    {
     "data": {
      "image/png": "[encoded data removed]",
      "text/plain": [
       "<Figure size 640x480 with 1 Axes>"
      ]
     },
     "metadata": {},
     "output_type": "display_data"
    }
   ],
   "source": [
    "plt.figure()\n",
    "plt.title('Test loss')\n",
    "sns.lineplot(np.arange(len(test_loss_hist)), test_loss_hist)\n",
    "\n",
    "plt.xlabel('Epoch')\n",
    "plt.ylabel('Loss')\n",
    "plt.show()\n",
    "\n",
    "plt.figure()\n",
    "plt.title('Train loss')\n",
    "plt.plot(np.arange(len(train_loss_hist)), train_loss_hist)\n",
    "plt.xlabel('Epoch')\n",
    "plt.ylabel('Loss')\n",
    "plt.show()"
   ]
  },
  {
   "cell_type": "code",
   "execution_count": null,
   "id": "666ff15a-5780-4ae0-adc9-41e31153aed8",
   "metadata": {},
   "outputs": [],
   "source": []
  },
  {
   "cell_type": "markdown",
   "id": "64671685",
   "metadata": {},
   "source": [
    "## Training an Encrypted Logistic Regression Model on Encrypted Data"
   ]
  },
  {
   "cell_type": "code",
   "execution_count": 18,
   "id": "92455acd-c7cc-4095-aa04-555491ca401a",
   "metadata": {
    "tags": []
   },
   "outputs": [],
   "source": [
    "class EncryptedLR:\n",
    "    \n",
    "    def __init__(self, torch_lr , is_encrypted=True, approx_sigmoid=True, learning_rate=1e-5, l1=0.005):\n",
    "        \n",
    "        self.is_encrypted = is_encrypted\n",
    "        self.approx_sigmoid = approx_sigmoid\n",
    "        self.learning_rate = learning_rate\n",
    "        self.l1 = l1\n",
    "        \n",
    "        if is_encrypted:\n",
    "            self.weight = torch_lr.lr.weight.data.tolist()[0]\n",
    "            self.bias = torch_lr.lr.bias.data.tolist()\n",
    "        else:\n",
    "            self.weight = torch_lr.lr.weight[0].clone().detach()\n",
    "            self.bias = torch_lr.lr.bias.clone().detach()\n",
    "        \n",
    "        # we accumulate gradients and counts the number of iterations\n",
    "        self._delta_w = 0\n",
    "        self._delta_b = 0\n",
    "        self._count = 0\n",
    "        \n",
    "    def forward(self, enc_x):\n",
    "        enc_out = enc_x.dot(self.weight) + self.bias\n",
    "        enc_out = self.sigmoid(enc_out)\n",
    "        return enc_out\n",
    "    \n",
    "    def backward(self, enc_x, enc_out, enc_y):\n",
    "        out_minus_y = (enc_out - enc_y)\n",
    "        self._delta_w += enc_x * out_minus_y\n",
    "        self._delta_b += out_minus_y\n",
    "        self._count += 1\n",
    "        \n",
    "        \n",
    "    def update_parameters(self):\n",
    "        if self._count == 0:\n",
    "            raise RuntimeError(\"You should at least run one forward iteration\")\n",
    "        # update weights\n",
    "        # We use a small regularization term to keep the output\n",
    "        # of the linear layer in the range of the sigmoid approximation\n",
    "#        self.weight -= self._delta_w * (1 / self._count) + self.weight * 0.05\n",
    "        \n",
    "        if self.learning_rate is None:\n",
    "            self.weight -= self._delta_w * (1 / self._count) + self.weight * self.l1\n",
    "            self.bias -= self._delta_b * (1 / self._count)\n",
    "        else:\n",
    "            self.weight -= self._delta_w * self.learning_rate + self.weight * self.l1\n",
    "            self.bias -= self._delta_b * self.learning_rate\n",
    "        \n",
    "        # reset gradient accumulators and iterations count\n",
    "        self._delta_w = 0\n",
    "        self._delta_b = 0\n",
    "        self._count = 0\n",
    "        \n",
    "\n",
    "        # store class\n",
    "    def store_data(self):\n",
    "        with open(\"enc_data_class5.pkl\", \"wb\") as f:\n",
    "            pickle.dump({'enc_data': self}, f)\n",
    "             \n",
    "        joblib.dump(self, './enc_data_class5.joblib')\n",
    "    \n",
    "    def sigmoid(self, enc_x):\n",
    "        # We use the polynomial approximation of degree 3\n",
    "        # sigmoid(x) = 0.5 + 0.197 * x - 0.004 * x^3\n",
    "        # from https://eprint.iacr.org/2018/462.pdf\n",
    "        # which fits the function pretty well in the range [-5,5]\n",
    "        if self.is_encrypted:\n",
    "            return enc_x.polyval([0.500781, 0.14670403, 0.001198, -0.001006])\n",
    "        else:\n",
    "            if self.approx_sigmoid:\n",
    "                return 0.500781 + (0.14670403 * enc_x) + (0.001198 * enc_x**2) - (0.001006 * enc_x**3)\n",
    "            else:\n",
    "                return torch.sigmoid(enc_x)\n",
    "    \n",
    "    def bce_loss(self, x_test,  y_test):\n",
    "        w = torch.tensor(self.weight)\n",
    "        b = torch.tensor(self.bias)\n",
    "        out = torch.sigmoid(x_test.matmul(w) + b)#.reshape(-1, 1)\n",
    "#        print(out.shape)\n",
    "#        print(y_test[:, 0].shape)\n",
    "        loss = torch.nn.BCELoss()\n",
    "        loss_value = loss(out, y_test[:, 0])\n",
    "  \n",
    "        return loss_value\n",
    "    \n",
    "    def plain_accuracy(self, x_test, y_test):\n",
    "        # evaluate accuracy of the model on\n",
    "        # the plain (x_test, y_test) dataset\n",
    "        w = torch.tensor(self.weight)\n",
    "        b = torch.tensor(self.bias)\n",
    "        out = torch.sigmoid(x_test.matmul(w) + b).reshape(-1, 1)\n",
    "\n",
    "        acc = acc_fn(out, y_test)        \n",
    "        return acc\n",
    "    \n",
    "    def plain_f1score(self, x_test, y_test):\n",
    "        # evaluate accuracy of the model on\n",
    "        # the plain (x_test, y_test) dataset\n",
    "        w = torch.tensor(self.weight)\n",
    "        b = torch.tensor(self.bias)\n",
    "        out = torch.sigmoid(x_test.matmul(w) + b).reshape(-1, 1)\n",
    "\n",
    "        f1 = f1_fn(out, y_test)\n",
    "        return f1\n",
    "    \n",
    "    def plain_precision(self, x_test, y_test):\n",
    "        # evaluate accuracy of the model on\n",
    "        # the plain (x_test, y_test) dataset\n",
    "        w = torch.tensor(self.weight)\n",
    "        b = torch.tensor(self.bias)\n",
    "        out = torch.sigmoid(x_test.matmul(w) + b).reshape(-1, 1)\n",
    "\n",
    "        pre = pre_fn(out, y_test)\n",
    "        return pre\n",
    "    \n",
    "    def plain_auroc(self, X_test, y_test):\n",
    "        w = torch.tensor(self.weight)\n",
    "        b = torch.tensor(self.bias)\n",
    "\n",
    "        out = torch.sigmoid(X_test.matmul(w) + b)\n",
    "        \n",
    "        auc = auroc_fn(out, y_test) \n",
    "        return auc   \n",
    "    \n",
    "    def encrypt(self, context):\n",
    "        self.weight = ts.ckks_vector(context, self.weight)\n",
    "        self.bias = ts.ckks_vector(context, self.bias)\n",
    "        \n",
    "    def decrypt(self):\n",
    "        self.weight = self.weight.decrypt()\n",
    "        self.bias = self.bias.decrypt()\n",
    "        \n",
    "    def __call__(self, *args, **kwargs):\n",
    "        return self.forward(*args, **kwargs)"
   ]
  },
  {
   "cell_type": "markdown",
   "id": "bb85e0f5-32b7-466b-a88b-a53edb5c849d",
   "metadata": {},
   "source": [
    "## encryption params"
   ]
  },
  {
   "cell_type": "code",
   "execution_count": 19,
   "id": "b03a2d47-33d8-4d7a-831c-0e0af09c790c",
   "metadata": {
    "tags": []
   },
   "outputs": [],
   "source": [
    "# parameters\n",
    "poly_mod_degree = 8192\n",
    "coeff_mod_bit_sizes = [40, 21, 21, 21, 21, 21, 21, 40]\n",
    "# create TenSEALContext\n",
    "ctx_train = ts.context(ts.SCHEME_TYPE.CKKS, poly_mod_degree, -1, coeff_mod_bit_sizes)\n",
    "ctx_train.global_scale = 2 ** 21\n",
    "ctx_train.generate_galois_keys()"
   ]
  },
  {
   "cell_type": "markdown",
   "id": "229eeed8-93d3-494f-8104-3c773304ad39",
   "metadata": {},
   "source": [
    "## encrypt data"
   ]
  },
  {
   "cell_type": "code",
   "execution_count": 20,
   "id": "f4d72a2c-09b8-4b37-93ec-5d5b8cb35921",
   "metadata": {
    "tags": []
   },
   "outputs": [
    {
     "name": "stderr",
     "output_type": "stream",
     "text": [
      "Encrypt train data: 100%|██████████| 7476/7476 [01:15<00:00, 99.33it/s]\n",
      "Encrypt train data: 100%|██████████| 1821/1821 [00:18<00:00, 99.47it/s]\n",
      "Encrypt train data: 100%|██████████| 7476/7476 [01:12<00:00, 102.77it/s]\n",
      "Encrypt train data: 100%|██████████| 1821/1821 [00:17<00:00, 102.86it/s]\n"
     ]
    }
   ],
   "source": [
    "t_start = time()\n",
    "\n",
    "def encrypt_data(X, ctx_train):\n",
    "    enc_X = []\n",
    "\n",
    "    for i in tqdm.tqdm(range(len(X)), desc='Encrypt train data'):\n",
    "        x = X[i]\n",
    "        x_enc = ts.ckks_vector(ctx_train, x.tolist())\n",
    "        enc_X.append(x_enc)\n",
    "\n",
    "    t_end = time()\n",
    "    \n",
    "    return enc_X\n",
    "\n",
    "enc_x_train = encrypt_data(X_train, ctx_train)\n",
    "enc_x_test = encrypt_data(X_test, ctx_train)\n",
    "enc_y_train = encrypt_data(y_train, ctx_train)\n",
    "enc_y_test = encrypt_data(y_test, ctx_train)"
   ]
  },
  {
   "cell_type": "markdown",
   "id": "bb4fdb3a-0705-4bad-b604-90431936f10b",
   "metadata": {
    "tags": []
   },
   "source": [
    "## Looks at distribution of linear layer output"
   ]
  },
  {
   "cell_type": "code",
   "execution_count": 38,
   "id": "f7e9aedd-62a4-4934-acae-38192bfece74",
   "metadata": {
    "tags": []
   },
   "outputs": [
    {
     "name": "stdout",
     "output_type": "stream",
     "text": [
      "Distribution on plain data:\n"
     ]
    },
    {
     "data": {
      "image/png": "[encoded data removed]",
      "text/plain": [
       "<Figure size 640x480 with 1 Axes>"
      ]
     },
     "metadata": {},
     "output_type": "display_data"
    },
    {
     "name": "stdout",
     "output_type": "stream",
     "text": [
      "Distribution on encrypted data:\n"
     ]
    },
    {
     "data": {
      "image/png": "[encoded data removed]",
      "text/plain": [
       "<Figure size 640x480 with 1 Axes>"
      ]
     },
     "metadata": {},
     "output_type": "display_data"
    }
   ],
   "source": [
    "# model instance\n",
    "set_seed()\n",
    "\n",
    "epochs = 100\n",
    "model = LR(n_features)\n",
    "\n",
    "normal_dist = lambda x, mean, var: np.exp(- np.square(x - mean) / (2 * var)) / np.sqrt(2 * np.pi * var)\n",
    "\n",
    "def plot_normal_dist(mean, var, rmin=-10, rmax=10):\n",
    "    x = np.arange(rmin, rmax, 0.01)\n",
    "    y = normal_dist(x, mean, var)\n",
    "    fig = plt.plot(x, y)\n",
    "    \n",
    "# plain distribution\n",
    "data = model.lr(X_test)\n",
    "mean, var = map(float, [data.mean(), data.std() ** 2])\n",
    "plot_normal_dist(mean, var)\n",
    "print(\"Distribution on plain data:\")\n",
    "plt.show()\n",
    "\n",
    "# encrypted distribution\n",
    "def encrypted_out_distribution(eelr, enc_x_test):\n",
    "    w = eelr.weight\n",
    "    b = eelr.bias\n",
    "    data = []\n",
    "    for enc_x in enc_x_test:\n",
    "        enc_out = enc_x.dot(w) + b\n",
    "        data.append(enc_out.decrypt())\n",
    "    data = torch.tensor(data)\n",
    "    mean, var = map(float, [data.mean(), data.std() ** 2])\n",
    "    plot_normal_dist(mean, var)\n",
    "    print(\"Distribution on encrypted data:\")\n",
    "    plt.show()\n",
    "\n",
    "eelr = EncryptedLR(model)\n",
    "eelr.encrypt(ctx_train)\n",
    "encrypted_out_distribution(eelr, enc_x_train)"
   ]
  },
  {
   "cell_type": "markdown",
   "id": "0955b2af-7fcc-471c-b20e-465df7ad8ee2",
   "metadata": {
    "tags": []
   },
   "source": [
    "# train encrypted model on plain data. Use torch.softmax"
   ]
  },
  {
   "cell_type": "code",
   "execution_count": 25,
   "id": "c48c5b7b-e1c3-4a83-bcd7-e00a44389253",
   "metadata": {
    "tags": []
   },
   "outputs": [],
   "source": [
    "def train_enc_model_non_enc_data(learning_rate=1e-6, l1=0.005, epochs=200, approx_sigmoid=False):\n",
    "    set_seed()\n",
    "\n",
    "    # a model instance. change to True for encrypted data\n",
    "    lr = LR(n_features)\n",
    "    eelr = EncryptedLR(lr, is_encrypted=False, approx_sigmoid=approx_sigmoid, learning_rate=learning_rate, l1=l1)\n",
    "\n",
    "    #\n",
    "    # eelr.encrypt(ctx_train)\n",
    "\n",
    "\n",
    "    times = []\n",
    "    test_loss_hist = []\n",
    "    train_loss_hist = []\n",
    "    train_f1_hist = []\n",
    "    test_f1_hist = []\n",
    "    train_pr_hist = []\n",
    "    test_pr_hist = []\n",
    "    gradient_w = []\n",
    "    gradient_b = []\n",
    "\n",
    "    for epoch in tqdm.tqdm(range(epochs)):\n",
    "\n",
    "        t_start = time()\n",
    "        for enc_x, enc_y in zip(X_train, y_train):\n",
    "            enc_out = eelr.forward(enc_x)\n",
    "            eelr.backward(enc_x, enc_out, enc_y)\n",
    "\n",
    "        gradient_w.append(eelr._delta_w.abs().mean())\n",
    "        gradient_b.append(eelr._delta_b.abs().mean())\n",
    "\n",
    "        eelr.update_parameters()\n",
    "        t_end = time()\n",
    "        times.append(t_end - t_start)\n",
    "        \n",
    "#        eelr.decrypt()\n",
    "\n",
    "        enc_accuracy_test = eelr.plain_accuracy(X_test, y_test)\n",
    "        enc_precision_test = eelr.plain_precision(X_test, y_test)\n",
    "        enc_f1score_test = eelr.plain_f1score(X_test, y_test)\n",
    "        test_f1_hist.append(enc_f1score_test.item())\n",
    "        \n",
    "        test_pr_hist.append(enc_precision_test.item())\n",
    "        \n",
    "        enc_auc_test = eelr.plain_auroc(X_test, y_test)\n",
    "        enc_loss_test = eelr.bce_loss(X_test, y_test)\n",
    "        test_loss_hist.append(enc_loss_test.item())\n",
    "        #print(f\"Test Loss at epoch #{epoch + 1} is {enc_loss_test}|Test Accuracy at epoch #{epoch + 1} is {enc_accuracy_test}|Precision is {enc_precision_test}|F1-score is {enc_f1score_test}|AUC is {enc_auc_test}\")\n",
    "\n",
    "        enc_accuracy_train = eelr.plain_accuracy(X_train, y_train)\n",
    "        enc_precision_train = eelr.plain_precision(X_train, y_train)\n",
    "        enc_f1score_train = eelr.plain_f1score(X_train, y_train)\n",
    "        train_f1_hist.append(enc_f1score_train.item())\n",
    "        train_pr_hist.append(enc_precision_train.item())\n",
    "        enc_auc_train = eelr.plain_auroc(X_train, y_train)\n",
    "        enc_loss_train = eelr.bce_loss(X_train, y_train)\n",
    "        train_loss_hist.append(enc_loss_train.item())\n",
    "        \n",
    "    print('Results')\n",
    "    print(f'f1-score test set: {enc_f1score_test:.2f}')\n",
    "    print(f'precision test set: {enc_precision_test:.2f}')\n",
    "\n",
    "    plt.figure(figsize=(3, 2)) \n",
    "    plt.title('Test loss')\n",
    "    sns.lineplot(np.arange(len(test_loss_hist)), test_loss_hist)\n",
    "    plt.xlabel('Epoch')\n",
    "    plt.ylabel('Loss')\n",
    "    plt.show()\n",
    "\n",
    "    plt.figure(figsize=(3, 2)) \n",
    "    plt.title('Train loss')\n",
    "    plt.plot(np.arange(len(train_loss_hist)), train_loss_hist)\n",
    "    plt.xlabel('Epoch')\n",
    "    plt.ylabel('Loss')\n",
    "    plt.show()\n",
    "\n",
    "    plt.figure(figsize=(3, 2)) \n",
    "    plt.title('Test f1')\n",
    "    sns.lineplot(np.arange(len(test_f1_hist)), test_f1_hist)\n",
    "    plt.xlabel('Epoch')\n",
    "    plt.ylabel('f1 score')\n",
    "    plt.show()\n",
    "\n",
    "    plt.figure(figsize=(3, 2)) \n",
    "    plt.title('Train f1')\n",
    "    plt.plot(np.arange(len(train_f1_hist)), train_f1_hist)\n",
    "    plt.xlabel('Epoch')\n",
    "    plt.ylabel('f1 score')\n",
    "    plt.show()\n",
    "    \n",
    "    plt.figure(figsize=(3, 2)) \n",
    "    plt.title('Test precision')\n",
    "    sns.lineplot(np.arange(len(test_pr_hist)), test_pr_hist)\n",
    "    plt.xlabel('Epoch')\n",
    "    plt.ylabel('precision score')\n",
    "    plt.show()\n",
    "\n",
    "    plt.figure(figsize=(3, 2)) \n",
    "    plt.title('Train precision')\n",
    "    plt.plot(np.arange(len(train_pr_hist)), train_pr_hist)\n",
    "    plt.xlabel('Epoch')\n",
    "    plt.ylabel('precision score')\n",
    "    plt.show()\n",
    "\n",
    "    plt.figure(figsize=(3, 2)) \n",
    "    plt.title('Weight gradient')\n",
    "    plt.plot(np.arange(len(gradient_w)), gradient_w)\n",
    "    plt.xlabel('Epoch')\n",
    "    plt.ylabel('grad')\n",
    "    plt.show()\n",
    "    "
   ]
  },
  {
   "cell_type": "code",
   "execution_count": 111,
   "id": "4ff93b98-7ae6-401a-b7cc-17c4202e3a18",
   "metadata": {
    "tags": []
   },
   "outputs": [
    {
     "name": "stdout",
     "output_type": "stream",
     "text": [
      "0.010000\n"
     ]
    }
   ],
   "source": [
    "learning_rate = 1e-2\n",
    "# learning rate\n",
    "print(format(learning_rate, 'f'))"
   ]
  },
  {
   "cell_type": "code",
   "execution_count": 36,
   "id": "28d3e922-6ed1-4aa9-97bd-0e2f24c3ff4a",
   "metadata": {
    "tags": []
   },
   "outputs": [
    {
     "name": "stdout",
     "output_type": "stream",
     "text": [
      "0.000010\n"
     ]
    }
   ],
   "source": [
    "learning_rate = 1e-5\n",
    "# learning rate\n",
    "print(format(learning_rate, 'f'))"
   ]
  },
  {
   "cell_type": "code",
   "execution_count": 30,
   "id": "cfd68b9f-56ca-4e00-9e92-0bc9147bff29",
   "metadata": {
    "tags": []
   },
   "outputs": [
    {
     "name": "stderr",
     "output_type": "stream",
     "text": [
      "  0%|          | 0/200 [00:00<?, ?it/s]/tmp/ipykernel_6058/306009276.py:89: UserWarning: To copy construct from a tensor, it is recommended to use sourceTensor.clone().detach() or sourceTensor.clone().detach().requires_grad_(True), rather than torch.tensor(sourceTensor).\n",
      "  w = torch.tensor(self.weight)\n",
      "/tmp/ipykernel_6058/306009276.py:90: UserWarning: To copy construct from a tensor, it is recommended to use sourceTensor.clone().detach() or sourceTensor.clone().detach().requires_grad_(True), rather than torch.tensor(sourceTensor).\n",
      "  b = torch.tensor(self.bias)\n",
      "/tmp/ipykernel_6058/306009276.py:109: UserWarning: To copy construct from a tensor, it is recommended to use sourceTensor.clone().detach() or sourceTensor.clone().detach().requires_grad_(True), rather than torch.tensor(sourceTensor).\n",
      "  w = torch.tensor(self.weight)\n",
      "/tmp/ipykernel_6058/306009276.py:110: UserWarning: To copy construct from a tensor, it is recommended to use sourceTensor.clone().detach() or sourceTensor.clone().detach().requires_grad_(True), rather than torch.tensor(sourceTensor).\n",
      "  b = torch.tensor(self.bias)\n",
      "/tmp/ipykernel_6058/306009276.py:99: UserWarning: To copy construct from a tensor, it is recommended to use sourceTensor.clone().detach() or sourceTensor.clone().detach().requires_grad_(True), rather than torch.tensor(sourceTensor).\n",
      "  w = torch.tensor(self.weight)\n",
      "/tmp/ipykernel_6058/306009276.py:100: UserWarning: To copy construct from a tensor, it is recommended to use sourceTensor.clone().detach() or sourceTensor.clone().detach().requires_grad_(True), rather than torch.tensor(sourceTensor).\n",
      "  b = torch.tensor(self.bias)\n",
      "/tmp/ipykernel_6058/306009276.py:117: UserWarning: To copy construct from a tensor, it is recommended to use sourceTensor.clone().detach() or sourceTensor.clone().detach().requires_grad_(True), rather than torch.tensor(sourceTensor).\n",
      "  w = torch.tensor(self.weight)\n",
      "/tmp/ipykernel_6058/306009276.py:118: UserWarning: To copy construct from a tensor, it is recommended to use sourceTensor.clone().detach() or sourceTensor.clone().detach().requires_grad_(True), rather than torch.tensor(sourceTensor).\n",
      "  b = torch.tensor(self.bias)\n",
      "/tmp/ipykernel_6058/306009276.py:76: UserWarning: To copy construct from a tensor, it is recommended to use sourceTensor.clone().detach() or sourceTensor.clone().detach().requires_grad_(True), rather than torch.tensor(sourceTensor).\n",
      "  w = torch.tensor(self.weight)\n",
      "/tmp/ipykernel_6058/306009276.py:77: UserWarning: To copy construct from a tensor, it is recommended to use sourceTensor.clone().detach() or sourceTensor.clone().detach().requires_grad_(True), rather than torch.tensor(sourceTensor).\n",
      "  b = torch.tensor(self.bias)\n",
      "100%|██████████| 200/200 [00:36<00:00,  5.53it/s]\n",
      "/opt/conda/lib/python3.10/site-packages/seaborn/_decorators.py:36: FutureWarning: Pass the following variables as keyword args: x, y. From version 0.12, the only valid positional argument will be `data`, and passing other arguments without an explicit keyword will result in an error or misinterpretation.\n",
      "  warnings.warn(\n"
     ]
    },
    {
     "name": "stdout",
     "output_type": "stream",
     "text": [
      "Results\n",
      "f1-score test set: 0.88\n",
      "precision test set: 0.86\n"
     ]
    },
    {
     "data": {
      "image/png": "[encoded data removed]",
      "text/plain": [
       "<Figure size 300x200 with 1 Axes>"
      ]
     },
     "metadata": {},
     "output_type": "display_data"
    },
    {
     "data": {
      "image/png": "[encoded data removed]",
      "text/plain": [
       "<Figure size 300x200 with 1 Axes>"
      ]
     },
     "metadata": {},
     "output_type": "display_data"
    },
    {
     "name": "stderr",
     "output_type": "stream",
     "text": [
      "/opt/conda/lib/python3.10/site-packages/seaborn/_decorators.py:36: FutureWarning: Pass the following variables as keyword args: x, y. From version 0.12, the only valid positional argument will be `data`, and passing other arguments without an explicit keyword will result in an error or misinterpretation.\n",
      "  warnings.warn(\n"
     ]
    },
    {
     "data": {
      "image/png": "[encoded data removed]",
      "text/plain": [
       "<Figure size 300x200 with 1 Axes>"
      ]
     },
     "metadata": {},
     "output_type": "display_data"
    },
    {
     "data": {
      "image/png": "[encoded data removed]",
      "text/plain": [
       "<Figure size 300x200 with 1 Axes>"
      ]
     },
     "metadata": {},
     "output_type": "display_data"
    },
    {
     "name": "stderr",
     "output_type": "stream",
     "text": [
      "/opt/conda/lib/python3.10/site-packages/seaborn/_decorators.py:36: FutureWarning: Pass the following variables as keyword args: x, y. From version 0.12, the only valid positional argument will be `data`, and passing other arguments without an explicit keyword will result in an error or misinterpretation.\n",
      "  warnings.warn(\n"
     ]
    },
    {
     "data": {
      "image/png": "[encoded data removed]",
      "text/plain": [
       "<Figure size 300x200 with 1 Axes>"
      ]
     },
     "metadata": {},
     "output_type": "display_data"
    },
    {
     "data": {
      "image/png": "[encoded data removed]",
      "text/plain": [
       "<Figure size 300x200 with 1 Axes>"
      ]
     },
     "metadata": {},
     "output_type": "display_data"
    },
    {
     "data": {
      "image/png": "[encoded data removed]",
      "text/plain": [
       "<Figure size 300x200 with 1 Axes>"
      ]
     },
     "metadata": {},
     "output_type": "display_data"
    }
   ],
   "source": [
    "# with 20 features and learning rate 0.00001 and reg 0.005\n",
    "\n",
    "train_enc_model_non_enc_data(learning_rate=1e-6, l1=0.005, epochs=200)"
   ]
  },
  {
   "cell_type": "code",
   "execution_count": null,
   "id": "51007d96-c41e-48f8-b0d4-6190a8bd0176",
   "metadata": {},
   "outputs": [],
   "source": []
  },
  {
   "cell_type": "code",
   "execution_count": 45,
   "id": "f965dbcb-9292-48f0-b5ef-580e22ade072",
   "metadata": {
    "tags": []
   },
   "outputs": [],
   "source": [
    "def train_enc_model_non_enc_data(learning_rate=1e-6, l1=0.005, epochs=120, approx_sigmoid=False):\n",
    "    set_seed()\n",
    "\n",
    "    # a model instance. change to True for encrypted data\n",
    "    lr = LR(n_features)\n",
    "    eelr = EncryptedLR(lr, is_encrypted=True, approx_sigmoid=approx_sigmoid, learning_rate=learning_rate, l1=l1)\n",
    "\n",
    "    \n",
    "    times = []\n",
    "    test_loss_hist = []\n",
    "    train_loss_hist = []\n",
    "    train_f1_hist = []\n",
    "    test_f1_hist = []\n",
    "    train_pr_hist = []\n",
    "    test_pr_hist = []\n",
    "    gradient_w = []\n",
    "    gradient_b = []\n",
    "\n",
    "    for epoch in tqdm.tqdm(range(epochs)):\n",
    "        eelr.encrypt(ctx_train)\n",
    "\n",
    "        t_start = time()\n",
    "        for enc_x, enc_y in zip(enc_x_train, enc_y_train):\n",
    "            enc_out = eelr.forward(enc_x)\n",
    "            eelr.backward(enc_x, enc_out, enc_y)\n",
    "\n",
    "#        gradient_w.append(eelr._delta_w.abs().mean())\n",
    "#        gradient_b.append(eelr._delta_b.abs().mean())\n",
    "\n",
    "        eelr.update_parameters()\n",
    "        t_end = time()\n",
    "        times.append(t_end - t_start)\n",
    "        \n",
    "        eelr.decrypt()\n",
    "\n",
    "        enc_accuracy_test = eelr.plain_accuracy(X_test, y_test)\n",
    "        enc_precision_test = eelr.plain_precision(X_test, y_test)\n",
    "        enc_f1score_test = eelr.plain_f1score(X_test, y_test)\n",
    "        test_f1_hist.append(enc_f1score_test.item())\n",
    "        \n",
    "        test_pr_hist.append(enc_precision_test.item())\n",
    "        \n",
    "        enc_auc_test = eelr.plain_auroc(X_test, y_test)\n",
    "        enc_loss_test = eelr.bce_loss(X_test, y_test)\n",
    "        test_loss_hist.append(enc_loss_test.item())\n",
    "        #print(f\"Test Loss at epoch #{epoch + 1} is {enc_loss_test}|Test Accuracy at epoch #{epoch + 1} is {enc_accuracy_test}|Precision is {enc_precision_test}|F1-score is {enc_f1score_test}|AUC is {enc_auc_test}\")\n",
    "\n",
    "        enc_accuracy_train = eelr.plain_accuracy(X_train, y_train)\n",
    "        enc_precision_train = eelr.plain_precision(X_train, y_train)\n",
    "        enc_f1score_train = eelr.plain_f1score(X_train, y_train)\n",
    "        train_f1_hist.append(enc_f1score_train.item())\n",
    "        train_pr_hist.append(enc_precision_train.item())\n",
    "        enc_auc_train = eelr.plain_auroc(X_train, y_train)\n",
    "        enc_loss_train = eelr.bce_loss(X_train, y_train)\n",
    "        train_loss_hist.append(enc_loss_train.item())\n",
    "        \n",
    "    print('Results')\n",
    "    print(f'f1-score test set: {enc_f1score_test:.2f}')\n",
    "    print(f'precision test set: {enc_precision_test:.2f}')\n",
    "\n",
    "    plt.figure(figsize=(3, 2)) \n",
    "    plt.title('Test loss')\n",
    "    sns.lineplot(np.arange(len(test_loss_hist)), test_loss_hist)\n",
    "    plt.xlabel('Epoch')\n",
    "    plt.ylabel('Loss')\n",
    "    plt.show()\n",
    "\n",
    "    plt.figure(figsize=(3, 2)) \n",
    "    plt.title('Train loss')\n",
    "    plt.plot(np.arange(len(train_loss_hist)), train_loss_hist)\n",
    "    plt.xlabel('Epoch')\n",
    "    plt.ylabel('Loss')\n",
    "    plt.show()\n",
    "\n",
    "    plt.figure(figsize=(3, 2)) \n",
    "    plt.title('Test f1')\n",
    "    sns.lineplot(np.arange(len(test_f1_hist)), test_f1_hist)\n",
    "    plt.xlabel('Epoch')\n",
    "    plt.ylabel('f1 score')\n",
    "    plt.show()\n",
    "\n",
    "    plt.figure(figsize=(3, 2)) \n",
    "    plt.title('Train f1')\n",
    "    plt.plot(np.arange(len(train_f1_hist)), train_f1_hist)\n",
    "    plt.xlabel('Epoch')\n",
    "    plt.ylabel('f1 score')\n",
    "    plt.show()\n",
    "    \n",
    "    plt.figure(figsize=(3, 2)) \n",
    "    plt.title('Test precision')\n",
    "    sns.lineplot(np.arange(len(test_pr_hist)), test_pr_hist)\n",
    "    plt.xlabel('Epoch')\n",
    "    plt.ylabel('precision score')\n",
    "    plt.show()\n",
    "\n",
    "    plt.figure(figsize=(3, 2)) \n",
    "    plt.title('Train precision')\n",
    "    plt.plot(np.arange(len(train_pr_hist)), train_pr_hist)\n",
    "    plt.xlabel('Epoch')\n",
    "    plt.ylabel('precision score')\n",
    "    plt.show()\n",
    "\n",
    "    plt.figure(figsize=(3, 2)) \n",
    "    plt.title('Weight gradient')\n",
    "    plt.plot(np.arange(len(gradient_w)), gradient_w)\n",
    "    plt.xlabel('Epoch')\n",
    "    plt.ylabel('grad')\n",
    "    plt.show()\n",
    "    "
   ]
  },
  {
   "cell_type": "code",
   "execution_count": null,
   "id": "c8bcdd30-b801-42d6-945a-9ffc6fae5ecd",
   "metadata": {
    "tags": []
   },
   "outputs": [
    {
     "name": "stderr",
     "output_type": "stream",
     "text": [
      " 19%|█▉        | 38/200 [9:41:09<41:10:24, 914.97s/it]"
     ]
    }
   ],
   "source": [
    "train_enc_model_non_enc_data(learning_rate=1e-6, l1=0.005, epochs=200)"
   ]
  },
  {
   "cell_type": "code",
   "execution_count": null,
   "id": "b5037fef-973b-46f2-b7e2-a09702119beb",
   "metadata": {},
   "outputs": [],
   "source": []
  },
  {
   "cell_type": "code",
   "execution_count": null,
   "id": "24305a9a-36b0-4624-aeb5-1b8d9c16d664",
   "metadata": {},
   "outputs": [],
   "source": []
  },
  {
   "cell_type": "code",
   "execution_count": 42,
   "id": "d9c2f4ab-046e-43ec-aa32-9c7ff3eb2c20",
   "metadata": {
    "tags": []
   },
   "outputs": [
    {
     "name": "stdout",
     "output_type": "stream",
     "text": [
      "Test Loss at epoch #1 is 4.180527210235596|Test Accuracy at epoch #1 is 0.820977509021759|Precision is 0.8708860874176025|F1-score is 0.8084606528282166|AUC is 0.8694560527801514\n",
      "Train Loss at epoch #1 is 3.9518473148345947|Train Accuracy at epoch #1 is 0.832141101360321|Precision is 0.8622545003890991|F1-score is 0.8248616456985474|AUC is 0.8867460489273071\n",
      "Test Loss at epoch #2 is 17.695098876953125|Test Accuracy at epoch #2 is 0.8220757842063904|Precision is 0.8712121248245239|F1-score is 0.8098591566085815|AUC is 0.8230867385864258\n",
      "Train Loss at epoch #2 is 16.641399383544922|Train Accuracy at epoch #2 is 0.8330044150352478|Precision is 0.8638814091682434|F1-score is 0.8256053328514099|AUC is 0.8336061239242554\n",
      "Test Loss at epoch #3 is 44.75563049316406|Test Accuracy at epoch #3 is 0.5524436831474304|Precision is 0.5373364090919495|F1-score is 0.6313884854316711|AUC is 0.5520923137664795\n",
      "Train Loss at epoch #3 is 42.59990310668945|Train Accuracy at epoch #3 is 0.5740010142326355|Precision is 0.5521195530891418|F1-score is 0.6479102969169617|AUC is 0.5740010142326355\n",
      "Test Loss at epoch #4 is 50.08237075805664|Test Accuracy at epoch #4 is 0.4991762638092041|Precision is 0.0|F1-score is 0.0|AUC is 0.5\n",
      "Train Loss at epoch #4 is 50.0|Train Accuracy at epoch #4 is 0.5|Precision is 0.0|F1-score is 0.0|AUC is 0.5\n",
      "Test Loss at epoch #5 is 50.08237075805664|Test Accuracy at epoch #5 is 0.4991762638092041|Precision is 0.0|F1-score is 0.0|AUC is 0.5\n",
      "Train Loss at epoch #5 is 50.0|Train Accuracy at epoch #5 is 0.5|Precision is 0.0|F1-score is 0.0|AUC is 0.5\n",
      "Test Loss at epoch #6 is 49.91762924194336|Test Accuracy at epoch #6 is 0.5008237361907959|Precision is 0.5008237361907959|F1-score is 0.6673984527587891|AUC is 0.5\n",
      "Train Loss at epoch #6 is 50.0|Train Accuracy at epoch #6 is 0.5|Precision is 0.5|F1-score is 0.6666666865348816|AUC is 0.5\n",
      "Test Loss at epoch #7 is 50.08237075805664|Test Accuracy at epoch #7 is 0.4991762638092041|Precision is 0.0|F1-score is 0.0|AUC is 0.5\n",
      "Train Loss at epoch #7 is 50.0|Train Accuracy at epoch #7 is 0.5|Precision is 0.0|F1-score is 0.0|AUC is 0.5\n",
      "Test Loss at epoch #8 is 49.91762924194336|Test Accuracy at epoch #8 is 0.5008237361907959|Precision is 0.5008237361907959|F1-score is 0.6673984527587891|AUC is 0.5\n",
      "Train Loss at epoch #8 is 50.0|Train Accuracy at epoch #8 is 0.5|Precision is 0.5|F1-score is 0.6666666865348816|AUC is 0.5\n"
     ]
    },
    {
     "ename": "KeyboardInterrupt",
     "evalue": "",
     "output_type": "error",
     "traceback": [
      "\u001b[0;31m---------------------------------------------------------------------------\u001b[0m",
      "\u001b[0;31mKeyboardInterrupt\u001b[0m                         Traceback (most recent call last)",
      "Cell \u001b[0;32mIn[42], line 17\u001b[0m\n\u001b[1;32m     15\u001b[0m t_start \u001b[38;5;241m=\u001b[39m time()\n\u001b[1;32m     16\u001b[0m \u001b[38;5;28;01mfor\u001b[39;00m enc_x, enc_y \u001b[38;5;129;01min\u001b[39;00m \u001b[38;5;28mzip\u001b[39m(enc_x_train, enc_y_train):\n\u001b[0;32m---> 17\u001b[0m     enc_out \u001b[38;5;241m=\u001b[39m \u001b[43meelr\u001b[49m\u001b[38;5;241;43m.\u001b[39;49m\u001b[43mforward\u001b[49m\u001b[43m(\u001b[49m\u001b[43menc_x\u001b[49m\u001b[43m)\u001b[49m\n\u001b[1;32m     18\u001b[0m     eelr\u001b[38;5;241m.\u001b[39mbackward(enc_x, enc_out, enc_y)\n\u001b[1;32m     19\u001b[0m eelr\u001b[38;5;241m.\u001b[39mupdate_parameters()\n",
      "Cell \u001b[0;32mIn[29], line 24\u001b[0m, in \u001b[0;36mEncryptedLR.forward\u001b[0;34m(self, enc_x)\u001b[0m\n\u001b[1;32m     22\u001b[0m \u001b[38;5;28;01mdef\u001b[39;00m \u001b[38;5;21mforward\u001b[39m(\u001b[38;5;28mself\u001b[39m, enc_x):\n\u001b[1;32m     23\u001b[0m     enc_out \u001b[38;5;241m=\u001b[39m enc_x\u001b[38;5;241m.\u001b[39mdot(\u001b[38;5;28mself\u001b[39m\u001b[38;5;241m.\u001b[39mweight) \u001b[38;5;241m+\u001b[39m \u001b[38;5;28mself\u001b[39m\u001b[38;5;241m.\u001b[39mbias\n\u001b[0;32m---> 24\u001b[0m     enc_out \u001b[38;5;241m=\u001b[39m \u001b[38;5;28;43mself\u001b[39;49m\u001b[38;5;241;43m.\u001b[39;49m\u001b[43msigmoid\u001b[49m\u001b[43m(\u001b[49m\u001b[43menc_out\u001b[49m\u001b[43m)\u001b[49m\n\u001b[1;32m     25\u001b[0m     \u001b[38;5;28;01mreturn\u001b[39;00m enc_out\n",
      "Cell \u001b[0;32mIn[29], line 68\u001b[0m, in \u001b[0;36mEncryptedLR.sigmoid\u001b[0;34m(self, enc_x)\u001b[0m\n\u001b[1;32m     62\u001b[0m \u001b[38;5;28;01mdef\u001b[39;00m \u001b[38;5;21msigmoid\u001b[39m(\u001b[38;5;28mself\u001b[39m, enc_x):\n\u001b[1;32m     63\u001b[0m     \u001b[38;5;66;03m# We use the polynomial approximation of degree 3\u001b[39;00m\n\u001b[1;32m     64\u001b[0m     \u001b[38;5;66;03m# sigmoid(x) = 0.5 + 0.197 * x - 0.004 * x^3\u001b[39;00m\n\u001b[1;32m     65\u001b[0m     \u001b[38;5;66;03m# from https://eprint.iacr.org/2018/462.pdf\u001b[39;00m\n\u001b[1;32m     66\u001b[0m     \u001b[38;5;66;03m# which fits the function pretty well in the range [-5,5]\u001b[39;00m\n\u001b[1;32m     67\u001b[0m     \u001b[38;5;28;01mif\u001b[39;00m \u001b[38;5;28mself\u001b[39m\u001b[38;5;241m.\u001b[39mis_encrypted:\n\u001b[0;32m---> 68\u001b[0m         \u001b[38;5;28;01mreturn\u001b[39;00m \u001b[43menc_x\u001b[49m\u001b[38;5;241;43m.\u001b[39;49m\u001b[43mpolyval\u001b[49m\u001b[43m(\u001b[49m\u001b[43m[\u001b[49m\u001b[38;5;241;43m0.5\u001b[39;49m\u001b[43m,\u001b[49m\u001b[43m \u001b[49m\u001b[38;5;241;43m0.197\u001b[39;49m\u001b[43m,\u001b[49m\u001b[43m \u001b[49m\u001b[38;5;241;43m0\u001b[39;49m\u001b[43m,\u001b[49m\u001b[43m \u001b[49m\u001b[38;5;241;43m-\u001b[39;49m\u001b[38;5;241;43m0.004\u001b[39;49m\u001b[43m]\u001b[49m\u001b[43m)\u001b[49m\n\u001b[1;32m     69\u001b[0m     \u001b[38;5;28;01melse\u001b[39;00m:\n\u001b[1;32m     70\u001b[0m         \u001b[38;5;28;01mif\u001b[39;00m \u001b[38;5;28mself\u001b[39m\u001b[38;5;241m.\u001b[39mapprox_sigmoid:\n",
      "File \u001b[0;32m/usr/local/lib/python3.10/site-packages/tenseal/tensors/abstract_tensor.py:177\u001b[0m, in \u001b[0;36mAbstractTensor.polyval\u001b[0;34m(self, coefficients)\u001b[0m\n\u001b[1;32m    173\u001b[0m \u001b[38;5;28;01mdef\u001b[39;00m \u001b[38;5;21mpolyval\u001b[39m(\u001b[38;5;28mself\u001b[39m, coefficients: Union[List[\u001b[38;5;28mfloat\u001b[39m], List[\u001b[38;5;28mint\u001b[39m]]) \u001b[38;5;241m-\u001b[39m\u001b[38;5;241m>\u001b[39m \u001b[38;5;124m\"\u001b[39m\u001b[38;5;124mAbstractTensor\u001b[39m\u001b[38;5;124m\"\u001b[39m:\n\u001b[1;32m    174\u001b[0m \u001b[38;5;250m    \u001b[39m\u001b[38;5;124;03m\"\"\"Evaluate polynomial\u001b[39;00m\n\u001b[1;32m    175\u001b[0m \u001b[38;5;124;03m    `coefficients[0] + coefficients[1] * self + .... coefficients[n] * self ^ n`\u001b[39;00m\n\u001b[1;32m    176\u001b[0m \u001b[38;5;124;03m    \"\"\"\u001b[39;00m\n\u001b[0;32m--> 177\u001b[0m     \u001b[38;5;28;01mreturn\u001b[39;00m \u001b[38;5;28mself\u001b[39m\u001b[38;5;241m.\u001b[39m_wrap(\u001b[38;5;28;43mself\u001b[39;49m\u001b[38;5;241;43m.\u001b[39;49m\u001b[43mdata\u001b[49m\u001b[38;5;241;43m.\u001b[39;49m\u001b[43mpolyval\u001b[49m\u001b[43m(\u001b[49m\u001b[43mcoefficients\u001b[49m\u001b[43m)\u001b[49m)\n",
      "\u001b[0;31mKeyboardInterrupt\u001b[0m: "
     ]
    }
   ],
   "source": [
    "torch.manual_seed(15)\n",
    "random.seed(15)\n",
    "np.random.seed(15)\n",
    "\n",
    "    # a model instance\n",
    "lr = LR(n_features)\n",
    "eelr = EncryptedLR(lr,  learning_rate=1e-6, l1=0.005)\n",
    "\n",
    "EPOCHS=100\n",
    "\n",
    "times = []\n",
    "for epoch in range(EPOCHS):\n",
    "    eelr.encrypt(ctx_train)\n",
    "    \n",
    "    t_start = time()\n",
    "    for enc_x, enc_y in zip(enc_x_train, enc_y_train):\n",
    "        enc_out = eelr.forward(enc_x)\n",
    "        eelr.backward(enc_x, enc_out, enc_y)\n",
    "    eelr.update_parameters()\n",
    "    t_end = time()\n",
    "    times.append(t_end - t_start)\n",
    "    \n",
    "    eelr.decrypt()\n",
    "    \n",
    "    enc_accuracy_test = eelr.plain_accuracy(X_test, y_test)\n",
    "    enc_precision_test = eelr.plain_precision(X_test, y_test)\n",
    "    enc_f1score_test = eelr.plain_f1score(X_test, y_test)\n",
    "    enc_auc_test = eelr.plain_auroc(X_test, y_test)\n",
    "    enc_loss_test = eelr.bce_loss(X_test, y_test)\n",
    "    print(f\"Test Loss at epoch #{epoch + 1} is {enc_loss_test}|Test Accuracy at epoch #{epoch + 1} is {enc_accuracy_test}|Precision is {enc_precision_test}|F1-score is {enc_f1score_test}|AUC is {enc_auc_test}\")\n",
    "    \n",
    "    enc_accuracy_train = eelr.plain_accuracy(X_train, y_train)\n",
    "    enc_precision_train = eelr.plain_precision(X_train, y_train)\n",
    "    enc_f1score_train = eelr.plain_f1score(X_train, y_train)\n",
    "    enc_auc_train = eelr.plain_auroc(X_train, y_train)\n",
    "    enc_loss_train = eelr.bce_loss(X_train, y_train)\n",
    "    print(f\"Train Loss at epoch #{epoch + 1} is {enc_loss_train}|Train Accuracy at epoch #{epoch + 1} is {enc_accuracy_train}|Precision is {enc_precision_train}|F1-score is {enc_f1score_train}|AUC is {enc_auc_train}\")  "
   ]
  },
  {
   "cell_type": "code",
   "execution_count": null,
   "id": "551d1bae-9c64-4226-8e2b-62675f265fd9",
   "metadata": {},
   "outputs": [],
   "source": []
  },
  {
   "cell_type": "code",
   "execution_count": 41,
   "id": "22664336-3b8d-4b43-af2b-0f0caa08848b",
   "metadata": {
    "tags": []
   },
   "outputs": [
    {
     "name": "stdout",
     "output_type": "stream",
     "text": [
      "Test Loss at epoch #1 is 0.43950265645980835|Test Accuracy at epoch #1 is 0.8297638893127441|Precision is 0.8096708059310913|F1-score is 0.8354564905166626|AUC is 0.8908731937408447\n",
      "Train Loss at epoch #1 is 0.48106157779693604|Train Accuracy at epoch #1 is 0.8307918906211853|Precision is 0.8032867312431335|F1-score is 0.8381317853927612|AUC is 0.8813116550445557\n"
     ]
    }
   ],
   "source": [
    "torch.manual_seed(15)\n",
    "random.seed(15)\n",
    "np.random.seed(15)\n",
    "\n",
    "    # a model instance\n",
    "lr = LR(n_features)\n",
    "eelr = EncryptedLR(lr,  learning_rate=1e-6, l1=0.005)\n",
    "\n",
    "EPOCHS=1\n",
    "\n",
    "times = []\n",
    "for epoch in range(EPOCHS):\n",
    "    eelr.encrypt(ctx_train)\n",
    "    \n",
    "    t_start = time()\n",
    "    for enc_x, enc_y in zip(enc_x_train, enc_y_train):\n",
    "        enc_out = eelr.forward(enc_x)\n",
    "        eelr.backward(enc_x, enc_out, enc_y)\n",
    "    eelr.update_parameters()\n",
    "    t_end = time()\n",
    "    times.append(t_end - t_start)\n",
    "    \n",
    "    eelr.decrypt()\n",
    "    \n",
    "    enc_accuracy_test = eelr.plain_accuracy(X_test, y_test)\n",
    "    enc_precision_test = eelr.plain_precision(X_test, y_test)\n",
    "    enc_f1score_test = eelr.plain_f1score(X_test, y_test)\n",
    "    enc_auc_test = eelr.plain_auroc(X_test, y_test)\n",
    "    enc_loss_test = eelr.bce_loss(X_test, y_test)\n",
    "    print(f\"Test Loss at epoch #{epoch + 1} is {enc_loss_test}|Test Accuracy at epoch #{epoch + 1} is {enc_accuracy_test}|Precision is {enc_precision_test}|F1-score is {enc_f1score_test}|AUC is {enc_auc_test}\")\n",
    "    \n",
    "    enc_accuracy_train = eelr.plain_accuracy(X_train, y_train)\n",
    "    enc_precision_train = eelr.plain_precision(X_train, y_train)\n",
    "    enc_f1score_train = eelr.plain_f1score(X_train, y_train)\n",
    "    enc_auc_train = eelr.plain_auroc(X_train, y_train)\n",
    "    enc_loss_train = eelr.bce_loss(X_train, y_train)\n",
    "    print(f\"Train Loss at epoch #{epoch + 1} is {enc_loss_train}|Train Accuracy at epoch #{epoch + 1} is {enc_accuracy_train}|Precision is {enc_precision_train}|F1-score is {enc_f1score_train}|AUC is {enc_auc_train}\")  "
   ]
  },
  {
   "cell_type": "code",
   "execution_count": null,
   "id": "7fec612a-c858-41ff-81f2-c16a24a32d4c",
   "metadata": {},
   "outputs": [],
   "source": []
  }
 ],
 "metadata": {
  "availableInstances": [
   {
    "_defaultOrder": 0,
    "_isFastLaunch": true,
    "category": "General purpose",
    "gpuNum": 0,
    "hideHardwareSpecs": false,
    "memoryGiB": 4,
    "name": "ml.t3.medium",
    "vcpuNum": 2
   },
   {
    "_defaultOrder": 1,
    "_isFastLaunch": false,
    "category": "General purpose",
    "gpuNum": 0,
    "hideHardwareSpecs": false,
    "memoryGiB": 8,
    "name": "ml.t3.large",
    "vcpuNum": 2
   },
   {
    "_defaultOrder": 2,
    "_isFastLaunch": false,
    "category": "General purpose",
    "gpuNum": 0,
    "hideHardwareSpecs": false,
    "memoryGiB": 16,
    "name": "ml.t3.xlarge",
    "vcpuNum": 4
   },
   {
    "_defaultOrder": 3,
    "_isFastLaunch": false,
    "category": "General purpose",
    "gpuNum": 0,
    "hideHardwareSpecs": false,
    "memoryGiB": 32,
    "name": "ml.t3.2xlarge",
    "vcpuNum": 8
   },
   {
    "_defaultOrder": 4,
    "_isFastLaunch": true,
    "category": "General purpose",
    "gpuNum": 0,
    "hideHardwareSpecs": false,
    "memoryGiB": 8,
    "name": "ml.m5.large",
    "vcpuNum": 2
   },
   {
    "_defaultOrder": 5,
    "_isFastLaunch": false,
    "category": "General purpose",
    "gpuNum": 0,
    "hideHardwareSpecs": false,
    "memoryGiB": 16,
    "name": "ml.m5.xlarge",
    "vcpuNum": 4
   },
   {
    "_defaultOrder": 6,
    "_isFastLaunch": false,
    "category": "General purpose",
    "gpuNum": 0,
    "hideHardwareSpecs": false,
    "memoryGiB": 32,
    "name": "ml.m5.2xlarge",
    "vcpuNum": 8
   },
   {
    "_defaultOrder": 7,
    "_isFastLaunch": false,
    "category": "General purpose",
    "gpuNum": 0,
    "hideHardwareSpecs": false,
    "memoryGiB": 64,
    "name": "ml.m5.4xlarge",
    "vcpuNum": 16
   },
   {
    "_defaultOrder": 8,
    "_isFastLaunch": false,
    "category": "General purpose",
    "gpuNum": 0,
    "hideHardwareSpecs": false,
    "memoryGiB": 128,
    "name": "ml.m5.8xlarge",
    "vcpuNum": 32
   },
   {
    "_defaultOrder": 9,
    "_isFastLaunch": false,
    "category": "General purpose",
    "gpuNum": 0,
    "hideHardwareSpecs": false,
    "memoryGiB": 192,
    "name": "ml.m5.12xlarge",
    "vcpuNum": 48
   },
   {
    "_defaultOrder": 10,
    "_isFastLaunch": false,
    "category": "General purpose",
    "gpuNum": 0,
    "hideHardwareSpecs": false,
    "memoryGiB": 256,
    "name": "ml.m5.16xlarge",
    "vcpuNum": 64
   },
   {
    "_defaultOrder": 11,
    "_isFastLaunch": false,
    "category": "General purpose",
    "gpuNum": 0,
    "hideHardwareSpecs": false,
    "memoryGiB": 384,
    "name": "ml.m5.24xlarge",
    "vcpuNum": 96
   },
   {
    "_defaultOrder": 12,
    "_isFastLaunch": false,
    "category": "General purpose",
    "gpuNum": 0,
    "hideHardwareSpecs": false,
    "memoryGiB": 8,
    "name": "ml.m5d.large",
    "vcpuNum": 2
   },
   {
    "_defaultOrder": 13,
    "_isFastLaunch": false,
    "category": "General purpose",
    "gpuNum": 0,
    "hideHardwareSpecs": false,
    "memoryGiB": 16,
    "name": "ml.m5d.xlarge",
    "vcpuNum": 4
   },
   {
    "_defaultOrder": 14,
    "_isFastLaunch": false,
    "category": "General purpose",
    "gpuNum": 0,
    "hideHardwareSpecs": false,
    "memoryGiB": 32,
    "name": "ml.m5d.2xlarge",
    "vcpuNum": 8
   },
   {
    "_defaultOrder": 15,
    "_isFastLaunch": false,
    "category": "General purpose",
    "gpuNum": 0,
    "hideHardwareSpecs": false,
    "memoryGiB": 64,
    "name": "ml.m5d.4xlarge",
    "vcpuNum": 16
   },
   {
    "_defaultOrder": 16,
    "_isFastLaunch": false,
    "category": "General purpose",
    "gpuNum": 0,
    "hideHardwareSpecs": false,
    "memoryGiB": 128,
    "name": "ml.m5d.8xlarge",
    "vcpuNum": 32
   },
   {
    "_defaultOrder": 17,
    "_isFastLaunch": false,
    "category": "General purpose",
    "gpuNum": 0,
    "hideHardwareSpecs": false,
    "memoryGiB": 192,
    "name": "ml.m5d.12xlarge",
    "vcpuNum": 48
   },
   {
    "_defaultOrder": 18,
    "_isFastLaunch": false,
    "category": "General purpose",
    "gpuNum": 0,
    "hideHardwareSpecs": false,
    "memoryGiB": 256,
    "name": "ml.m5d.16xlarge",
    "vcpuNum": 64
   },
   {
    "_defaultOrder": 19,
    "_isFastLaunch": false,
    "category": "General purpose",
    "gpuNum": 0,
    "hideHardwareSpecs": false,
    "memoryGiB": 384,
    "name": "ml.m5d.24xlarge",
    "vcpuNum": 96
   },
   {
    "_defaultOrder": 20,
    "_isFastLaunch": false,
    "category": "General purpose",
    "gpuNum": 0,
    "hideHardwareSpecs": true,
    "memoryGiB": 0,
    "name": "ml.geospatial.interactive",
    "supportedImageNames": [
     "sagemaker-geospatial-v1-0"
    ],
    "vcpuNum": 0
   },
   {
    "_defaultOrder": 21,
    "_isFastLaunch": true,
    "category": "Compute optimized",
    "gpuNum": 0,
    "hideHardwareSpecs": false,
    "memoryGiB": 4,
    "name": "ml.c5.large",
    "vcpuNum": 2
   },
   {
    "_defaultOrder": 22,
    "_isFastLaunch": false,
    "category": "Compute optimized",
    "gpuNum": 0,
    "hideHardwareSpecs": false,
    "memoryGiB": 8,
    "name": "ml.c5.xlarge",
    "vcpuNum": 4
   },
   {
    "_defaultOrder": 23,
    "_isFastLaunch": false,
    "category": "Compute optimized",
    "gpuNum": 0,
    "hideHardwareSpecs": false,
    "memoryGiB": 16,
    "name": "ml.c5.2xlarge",
    "vcpuNum": 8
   },
   {
    "_defaultOrder": 24,
    "_isFastLaunch": false,
    "category": "Compute optimized",
    "gpuNum": 0,
    "hideHardwareSpecs": false,
    "memoryGiB": 32,
    "name": "ml.c5.4xlarge",
    "vcpuNum": 16
   },
   {
    "_defaultOrder": 25,
    "_isFastLaunch": false,
    "category": "Compute optimized",
    "gpuNum": 0,
    "hideHardwareSpecs": false,
    "memoryGiB": 72,
    "name": "ml.c5.9xlarge",
    "vcpuNum": 36
   },
   {
    "_defaultOrder": 26,
    "_isFastLaunch": false,
    "category": "Compute optimized",
    "gpuNum": 0,
    "hideHardwareSpecs": false,
    "memoryGiB": 96,
    "name": "ml.c5.12xlarge",
    "vcpuNum": 48
   },
   {
    "_defaultOrder": 27,
    "_isFastLaunch": false,
    "category": "Compute optimized",
    "gpuNum": 0,
    "hideHardwareSpecs": false,
    "memoryGiB": 144,
    "name": "ml.c5.18xlarge",
    "vcpuNum": 72
   },
   {
    "_defaultOrder": 28,
    "_isFastLaunch": false,
    "category": "Compute optimized",
    "gpuNum": 0,
    "hideHardwareSpecs": false,
    "memoryGiB": 192,
    "name": "ml.c5.24xlarge",
    "vcpuNum": 96
   },
   {
    "_defaultOrder": 29,
    "_isFastLaunch": true,
    "category": "Accelerated computing",
    "gpuNum": 1,
    "hideHardwareSpecs": false,
    "memoryGiB": 16,
    "name": "ml.g4dn.xlarge",
    "vcpuNum": 4
   },
   {
    "_defaultOrder": 30,
    "_isFastLaunch": false,
    "category": "Accelerated computing",
    "gpuNum": 1,
    "hideHardwareSpecs": false,
    "memoryGiB": 32,
    "name": "ml.g4dn.2xlarge",
    "vcpuNum": 8
   },
   {
    "_defaultOrder": 31,
    "_isFastLaunch": false,
    "category": "Accelerated computing",
    "gpuNum": 1,
    "hideHardwareSpecs": false,
    "memoryGiB": 64,
    "name": "ml.g4dn.4xlarge",
    "vcpuNum": 16
   },
   {
    "_defaultOrder": 32,
    "_isFastLaunch": false,
    "category": "Accelerated computing",
    "gpuNum": 1,
    "hideHardwareSpecs": false,
    "memoryGiB": 128,
    "name": "ml.g4dn.8xlarge",
    "vcpuNum": 32
   },
   {
    "_defaultOrder": 33,
    "_isFastLaunch": false,
    "category": "Accelerated computing",
    "gpuNum": 4,
    "hideHardwareSpecs": false,
    "memoryGiB": 192,
    "name": "ml.g4dn.12xlarge",
    "vcpuNum": 48
   },
   {
    "_defaultOrder": 34,
    "_isFastLaunch": false,
    "category": "Accelerated computing",
    "gpuNum": 1,
    "hideHardwareSpecs": false,
    "memoryGiB": 256,
    "name": "ml.g4dn.16xlarge",
    "vcpuNum": 64
   },
   {
    "_defaultOrder": 35,
    "_isFastLaunch": false,
    "category": "Accelerated computing",
    "gpuNum": 1,
    "hideHardwareSpecs": false,
    "memoryGiB": 61,
    "name": "ml.p3.2xlarge",
    "vcpuNum": 8
   },
   {
    "_defaultOrder": 36,
    "_isFastLaunch": false,
    "category": "Accelerated computing",
    "gpuNum": 4,
    "hideHardwareSpecs": false,
    "memoryGiB": 244,
    "name": "ml.p3.8xlarge",
    "vcpuNum": 32
   },
   {
    "_defaultOrder": 37,
    "_isFastLaunch": false,
    "category": "Accelerated computing",
    "gpuNum": 8,
    "hideHardwareSpecs": false,
    "memoryGiB": 488,
    "name": "ml.p3.16xlarge",
    "vcpuNum": 64
   },
   {
    "_defaultOrder": 38,
    "_isFastLaunch": false,
    "category": "Accelerated computing",
    "gpuNum": 8,
    "hideHardwareSpecs": false,
    "memoryGiB": 768,
    "name": "ml.p3dn.24xlarge",
    "vcpuNum": 96
   },
   {
    "_defaultOrder": 39,
    "_isFastLaunch": false,
    "category": "Memory Optimized",
    "gpuNum": 0,
    "hideHardwareSpecs": false,
    "memoryGiB": 16,
    "name": "ml.r5.large",
    "vcpuNum": 2
   },
   {
    "_defaultOrder": 40,
    "_isFastLaunch": false,
    "category": "Memory Optimized",
    "gpuNum": 0,
    "hideHardwareSpecs": false,
    "memoryGiB": 32,
    "name": "ml.r5.xlarge",
    "vcpuNum": 4
   },
   {
    "_defaultOrder": 41,
    "_isFastLaunch": false,
    "category": "Memory Optimized",
    "gpuNum": 0,
    "hideHardwareSpecs": false,
    "memoryGiB": 64,
    "name": "ml.r5.2xlarge",
    "vcpuNum": 8
   },
   {
    "_defaultOrder": 42,
    "_isFastLaunch": false,
    "category": "Memory Optimized",
    "gpuNum": 0,
    "hideHardwareSpecs": false,
    "memoryGiB": 128,
    "name": "ml.r5.4xlarge",
    "vcpuNum": 16
   },
   {
    "_defaultOrder": 43,
    "_isFastLaunch": false,
    "category": "Memory Optimized",
    "gpuNum": 0,
    "hideHardwareSpecs": false,
    "memoryGiB": 256,
    "name": "ml.r5.8xlarge",
    "vcpuNum": 32
   },
   {
    "_defaultOrder": 44,
    "_isFastLaunch": false,
    "category": "Memory Optimized",
    "gpuNum": 0,
    "hideHardwareSpecs": false,
    "memoryGiB": 384,
    "name": "ml.r5.12xlarge",
    "vcpuNum": 48
   },
   {
    "_defaultOrder": 45,
    "_isFastLaunch": false,
    "category": "Memory Optimized",
    "gpuNum": 0,
    "hideHardwareSpecs": false,
    "memoryGiB": 512,
    "name": "ml.r5.16xlarge",
    "vcpuNum": 64
   },
   {
    "_defaultOrder": 46,
    "_isFastLaunch": false,
    "category": "Memory Optimized",
    "gpuNum": 0,
    "hideHardwareSpecs": false,
    "memoryGiB": 768,
    "name": "ml.r5.24xlarge",
    "vcpuNum": 96
   },
   {
    "_defaultOrder": 47,
    "_isFastLaunch": false,
    "category": "Accelerated computing",
    "gpuNum": 1,
    "hideHardwareSpecs": false,
    "memoryGiB": 16,
    "name": "ml.g5.xlarge",
    "vcpuNum": 4
   },
   {
    "_defaultOrder": 48,
    "_isFastLaunch": false,
    "category": "Accelerated computing",
    "gpuNum": 1,
    "hideHardwareSpecs": false,
    "memoryGiB": 32,
    "name": "ml.g5.2xlarge",
    "vcpuNum": 8
   },
   {
    "_defaultOrder": 49,
    "_isFastLaunch": false,
    "category": "Accelerated computing",
    "gpuNum": 1,
    "hideHardwareSpecs": false,
    "memoryGiB": 64,
    "name": "ml.g5.4xlarge",
    "vcpuNum": 16
   },
   {
    "_defaultOrder": 50,
    "_isFastLaunch": false,
    "category": "Accelerated computing",
    "gpuNum": 1,
    "hideHardwareSpecs": false,
    "memoryGiB": 128,
    "name": "ml.g5.8xlarge",
    "vcpuNum": 32
   },
   {
    "_defaultOrder": 51,
    "_isFastLaunch": false,
    "category": "Accelerated computing",
    "gpuNum": 1,
    "hideHardwareSpecs": false,
    "memoryGiB": 256,
    "name": "ml.g5.16xlarge",
    "vcpuNum": 64
   },
   {
    "_defaultOrder": 52,
    "_isFastLaunch": false,
    "category": "Accelerated computing",
    "gpuNum": 4,
    "hideHardwareSpecs": false,
    "memoryGiB": 192,
    "name": "ml.g5.12xlarge",
    "vcpuNum": 48
   },
   {
    "_defaultOrder": 53,
    "_isFastLaunch": false,
    "category": "Accelerated computing",
    "gpuNum": 4,
    "hideHardwareSpecs": false,
    "memoryGiB": 384,
    "name": "ml.g5.24xlarge",
    "vcpuNum": 96
   },
   {
    "_defaultOrder": 54,
    "_isFastLaunch": false,
    "category": "Accelerated computing",
    "gpuNum": 8,
    "hideHardwareSpecs": false,
    "memoryGiB": 768,
    "name": "ml.g5.48xlarge",
    "vcpuNum": 192
   },
   {
    "_defaultOrder": 55,
    "_isFastLaunch": false,
    "category": "Accelerated computing",
    "gpuNum": 8,
    "hideHardwareSpecs": false,
    "memoryGiB": 1152,
    "name": "ml.p4d.24xlarge",
    "vcpuNum": 96
   },
   {
    "_defaultOrder": 56,
    "_isFastLaunch": false,
    "category": "Accelerated computing",
    "gpuNum": 8,
    "hideHardwareSpecs": false,
    "memoryGiB": 1152,
    "name": "ml.p4de.24xlarge",
    "vcpuNum": 96
   }
  ],
  "instance_type": "ml.r5.16xlarge",
  "kernelspec": {
   "display_name": "Python 3 (Data Science 3.0)",
   "language": "python",
   "name": "python3__SAGEMAKER_INTERNAL__arn:aws:sagemaker:eu-west-1:470317259841:image/sagemaker-data-science-310-v1"
  },
  "language_info": {
   "codemirror_mode": {
    "name": "ipython",
    "version": 3
   },
   "file_extension": ".py",
   "mimetype": "text/x-python",
   "name": "python",
   "nbconvert_exporter": "python",
   "pygments_lexer": "ipython3",
   "version": "3.10.6"
  }
 },
 "nbformat": 4,
 "nbformat_minor": 5
}
