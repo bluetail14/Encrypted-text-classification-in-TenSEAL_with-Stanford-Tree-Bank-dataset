{
 "cells": [
  {
   "cell_type": "code",
   "execution_count": 2,
   "id": "7bd04fb9",
   "metadata": {},
   "outputs": [],
   "source": [
    "import os\n",
    "import pandas as pd\n",
    "import numpy as np\n",
    "import pytreebank\n",
    "import os,sys"
   ]
  },
  {
   "cell_type": "code",
   "execution_count": 28,
   "id": "9b7174b1",
   "metadata": {},
   "outputs": [
    {
     "data": {
      "text/plain": [
       "'C:\\\\Users\\\\maria\\\\Jupiter_Notebooks\\\\Napier_Dissertation\\\\trainDevTestTrees_PTB'"
      ]
     },
     "execution_count": 28,
     "metadata": {},
     "output_type": "execute_result"
    }
   ],
   "source": [
    "os.getcwd()"
   ]
  },
  {
   "cell_type": "code",
   "execution_count": 31,
   "id": "334a0fb4",
   "metadata": {},
   "outputs": [],
   "source": [
    "data = pytreebank.load_sst(\"./trainDevTestTrees_PTB/\")"
   ]
  },
  {
   "cell_type": "code",
   "execution_count": 32,
   "id": "b3cfb47a",
   "metadata": {},
   "outputs": [
    {
     "name": "stdout",
     "output_type": "stream",
     "text": [
      "3 The Rock is destined to be the 21st Century 's new `` Conan '' and that he 's going to make a splash even greater than Arnold Schwarzenegger , Jean-Claud Van Damme or Steven Segal .\n"
     ]
    }
   ],
   "source": [
    "for item in data['train']:\n",
    "    print(item.to_labeled_lines()[0][0],item.to_labeled_lines()[0][1])\n",
    "    break"
   ]
  },
  {
   "cell_type": "code",
   "execution_count": 33,
   "id": "00821844",
   "metadata": {},
   "outputs": [],
   "source": [
    "out_path = os.path.join(\"./sst_{}.txt\")# new file format"
   ]
  },
  {
   "cell_type": "code",
   "execution_count": 34,
   "id": "44b4142f",
   "metadata": {},
   "outputs": [
    {
     "name": "stdout",
     "output_type": "stream",
     "text": [
      "done with <_io.TextIOWrapper name='./sst_train.txt' mode='w' encoding='cp65001'>\n",
      "done with <_io.TextIOWrapper name='./sst_test.txt' mode='w' encoding='cp65001'>\n",
      "done with <_io.TextIOWrapper name='./sst_dev.txt' mode='w' encoding='cp65001'>\n"
     ]
    }
   ],
   "source": [
    "for cat in ['train','test','dev']:\n",
    "    with open(out_path.format(cat),\"w\") as file:\n",
    "        for item in data[cat]:\n",
    "            file.write(\"__label__{}\\t{}\\n\".format(\n",
    "                item.to_labeled_lines()[0][0] +1,\n",
    "                item.to_labeled_lines()[0][1]\n",
    "            ))\n",
    "    \n",
    "    print(\"done with {}\".format(file))"
   ]
  },
  {
   "cell_type": "code",
   "execution_count": 35,
   "id": "43c8523e",
   "metadata": {},
   "outputs": [],
   "source": [
    "# now you can read the formatted files from pandas easily\n",
    "train = pd.read_csv(\"./sst_train.txt\",sep=\"\\t\",header=None,names=['label','text'])\n",
    "train['label'] = train['label'].str.replace(\"__label__\",\"\")\n",
    "train['label'] = train['label'].astype(int).astype(\"category\")"
   ]
  },
  {
   "cell_type": "code",
   "execution_count": 36,
   "id": "8f14f2d0",
   "metadata": {},
   "outputs": [
    {
     "name": "stdout",
     "output_type": "stream",
     "text": [
      "<class 'pandas.core.frame.DataFrame'>\n",
      "RangeIndex: 8544 entries, 0 to 8543\n",
      "Data columns (total 2 columns):\n",
      " #   Column  Non-Null Count  Dtype   \n",
      "---  ------  --------------  -----   \n",
      " 0   label   8544 non-null   category\n",
      " 1   text    8544 non-null   object  \n",
      "dtypes: category(1), object(1)\n",
      "memory usage: 75.4+ KB\n"
     ]
    }
   ],
   "source": [
    "train.info()"
   ]
  },
  {
   "cell_type": "code",
   "execution_count": 26,
   "id": "c2e9734b",
   "metadata": {},
   "outputs": [
    {
     "data": {
      "text/html": [
       "<div>\n",
       "<style scoped>\n",
       "    .dataframe tbody tr th:only-of-type {\n",
       "        vertical-align: middle;\n",
       "    }\n",
       "\n",
       "    .dataframe tbody tr th {\n",
       "        vertical-align: top;\n",
       "    }\n",
       "\n",
       "    .dataframe thead th {\n",
       "        text-align: right;\n",
       "    }\n",
       "</style>\n",
       "<table border=\"1\" class=\"dataframe\">\n",
       "  <thead>\n",
       "    <tr style=\"text-align: right;\">\n",
       "      <th></th>\n",
       "      <th>label</th>\n",
       "      <th>text</th>\n",
       "    </tr>\n",
       "  </thead>\n",
       "  <tbody>\n",
       "    <tr>\n",
       "      <th>0</th>\n",
       "      <td>4</td>\n",
       "      <td>The Rock is destined to be the 21st Century 's new `` Conan '' and that he 's going to make a splash even greater than Arnold Schwarzenegger , Jean-Claud Van Damme or Steven Segal .</td>\n",
       "    </tr>\n",
       "    <tr>\n",
       "      <th>1</th>\n",
       "      <td>5</td>\n",
       "      <td>The gorgeously elaborate continuation of `` The Lord of the Rings '' trilogy is so huge that a column of words can not adequately describe co-writer/director Peter Jackson 's expanded vision of J.R.R. Tolkien 's Middle-earth .</td>\n",
       "    </tr>\n",
       "    <tr>\n",
       "      <th>2</th>\n",
       "      <td>4</td>\n",
       "      <td>Singer/composer Bryan Adams contributes a slew of songs -- a few potential hits , a few more simply intrusive to the story -- but the whole package certainly captures the intended , er , spirit of the piece .</td>\n",
       "    </tr>\n",
       "    <tr>\n",
       "      <th>3</th>\n",
       "      <td>3</td>\n",
       "      <td>You 'd think by now America would have had enough of plucky British eccentrics with hearts of gold .</td>\n",
       "    </tr>\n",
       "    <tr>\n",
       "      <th>4</th>\n",
       "      <td>4</td>\n",
       "      <td>Yet the act is still charming here .</td>\n",
       "    </tr>\n",
       "    <tr>\n",
       "      <th>5</th>\n",
       "      <td>5</td>\n",
       "      <td>Whether or not you 're enlightened by any of Derrida 's lectures on `` the other '' and `` the self , '' Derrida is an undeniably fascinating and playful fellow .</td>\n",
       "    </tr>\n",
       "    <tr>\n",
       "      <th>6</th>\n",
       "      <td>5</td>\n",
       "      <td>Just the labour involved in creating the layered richness of the imagery in this chiaroscuro of madness and light is astonishing .</td>\n",
       "    </tr>\n",
       "    <tr>\n",
       "      <th>7</th>\n",
       "      <td>4</td>\n",
       "      <td>Part of the charm of Satin Rouge is that it avoids the obvious with humour and lightness .</td>\n",
       "    </tr>\n",
       "    <tr>\n",
       "      <th>8</th>\n",
       "      <td>5</td>\n",
       "      <td>a screenplay more ingeniously constructed than `` Memento ''</td>\n",
       "    </tr>\n",
       "    <tr>\n",
       "      <th>9</th>\n",
       "      <td>4</td>\n",
       "      <td>`` Extreme Ops '' exceeds expectations .</td>\n",
       "    </tr>\n",
       "    <tr>\n",
       "      <th>10</th>\n",
       "      <td>5</td>\n",
       "      <td>Good fun , good action , good acting , good dialogue , good pace , good cinematography .</td>\n",
       "    </tr>\n",
       "    <tr>\n",
       "      <th>11</th>\n",
       "      <td>3</td>\n",
       "      <td>You Should Pay Nine Bucks for This : Because you can hear about suffering Afghan refugees on the news and still be unaffected .</td>\n",
       "    </tr>\n",
       "  </tbody>\n",
       "</table>\n",
       "</div>"
      ],
      "text/plain": [
       "   label                                                                                                                                                                                                                                text\n",
       "0      4                                               The Rock is destined to be the 21st Century 's new `` Conan '' and that he 's going to make a splash even greater than Arnold Schwarzenegger , Jean-Claud Van Damme or Steven Segal .\n",
       "1      5  The gorgeously elaborate continuation of `` The Lord of the Rings '' trilogy is so huge that a column of words can not adequately describe co-writer/director Peter Jackson 's expanded vision of J.R.R. Tolkien 's Middle-earth .\n",
       "2      4                    Singer/composer Bryan Adams contributes a slew of songs -- a few potential hits , a few more simply intrusive to the story -- but the whole package certainly captures the intended , er , spirit of the piece .\n",
       "3      3                                                                                                                                You 'd think by now America would have had enough of plucky British eccentrics with hearts of gold .\n",
       "4      4                                                                                                                                                                                                Yet the act is still charming here .\n",
       "5      5                                                                  Whether or not you 're enlightened by any of Derrida 's lectures on `` the other '' and `` the self , '' Derrida is an undeniably fascinating and playful fellow .\n",
       "6      5                                                                                                  Just the labour involved in creating the layered richness of the imagery in this chiaroscuro of madness and light is astonishing .\n",
       "7      4                                                                                                                                          Part of the charm of Satin Rouge is that it avoids the obvious with humour and lightness .\n",
       "8      5                                                                                                                                                                        a screenplay more ingeniously constructed than `` Memento ''\n",
       "9      4                                                                                                                                                                                            `` Extreme Ops '' exceeds expectations .\n",
       "10     5                                                                                                                                            Good fun , good action , good acting , good dialogue , good pace , good cinematography .\n",
       "11     3                                                                                                     You Should Pay Nine Bucks for This : Because you can hear about suffering Afghan refugees on the news and still be unaffected ."
      ]
     },
     "execution_count": 26,
     "metadata": {},
     "output_type": "execute_result"
    }
   ],
   "source": [
    "train.head(12)"
   ]
  },
  {
   "cell_type": "code",
   "execution_count": 16,
   "id": "49656b6a",
   "metadata": {},
   "outputs": [
    {
     "data": {
      "text/plain": [
       "[4, 5, 3, 2, 1]\n",
       "Categories (5, int64): [1, 2, 3, 4, 5]"
      ]
     },
     "execution_count": 16,
     "metadata": {},
     "output_type": "execute_result"
    }
   ],
   "source": [
    "train.label.unique()"
   ]
  },
  {
   "cell_type": "code",
   "execution_count": 17,
   "id": "d0e5678e",
   "metadata": {},
   "outputs": [],
   "source": [
    "test = pd.read_csv(\"./sst_test.txt\",sep=\"\\t\",header=None,names=['label','text'])\n",
    "test['label'] = test['label'].str.replace(\"__label__\",\"\")\n",
    "test['label'] = test['label'].astype(int).astype(\"category\")"
   ]
  },
  {
   "cell_type": "code",
   "execution_count": 18,
   "id": "706ee165",
   "metadata": {},
   "outputs": [
    {
     "name": "stdout",
     "output_type": "stream",
     "text": [
      "<class 'pandas.core.frame.DataFrame'>\n",
      "RangeIndex: 2210 entries, 0 to 2209\n",
      "Data columns (total 2 columns):\n",
      " #   Column  Non-Null Count  Dtype   \n",
      "---  ------  --------------  -----   \n",
      " 0   label   2210 non-null   category\n",
      " 1   text    2210 non-null   object  \n",
      "dtypes: category(1), object(1)\n",
      "memory usage: 19.8+ KB\n"
     ]
    }
   ],
   "source": [
    "test.info()"
   ]
  },
  {
   "cell_type": "code",
   "execution_count": 24,
   "id": "7553a7d0",
   "metadata": {},
   "outputs": [
    {
     "data": {
      "text/html": [
       "<div>\n",
       "<style scoped>\n",
       "    .dataframe tbody tr th:only-of-type {\n",
       "        vertical-align: middle;\n",
       "    }\n",
       "\n",
       "    .dataframe tbody tr th {\n",
       "        vertical-align: top;\n",
       "    }\n",
       "\n",
       "    .dataframe thead th {\n",
       "        text-align: right;\n",
       "    }\n",
       "</style>\n",
       "<table border=\"1\" class=\"dataframe\">\n",
       "  <thead>\n",
       "    <tr style=\"text-align: right;\">\n",
       "      <th></th>\n",
       "      <th>label</th>\n",
       "      <th>text</th>\n",
       "    </tr>\n",
       "  </thead>\n",
       "  <tbody>\n",
       "    <tr>\n",
       "      <th>0</th>\n",
       "      <td>3</td>\n",
       "      <td>Effective but too-tepid biopic</td>\n",
       "    </tr>\n",
       "    <tr>\n",
       "      <th>1</th>\n",
       "      <td>4</td>\n",
       "      <td>If you sometimes like to go to the movies to have fun , Wasabi is a good place to start .</td>\n",
       "    </tr>\n",
       "    <tr>\n",
       "      <th>2</th>\n",
       "      <td>5</td>\n",
       "      <td>Emerges as something rare , an issue movie that 's so honest and keenly observed that it does n't feel like one .</td>\n",
       "    </tr>\n",
       "    <tr>\n",
       "      <th>3</th>\n",
       "      <td>3</td>\n",
       "      <td>The film provides some great insight into the neurotic mindset of all comics -- even those who have reached the absolute top of the game .</td>\n",
       "    </tr>\n",
       "    <tr>\n",
       "      <th>4</th>\n",
       "      <td>5</td>\n",
       "      <td>Offers that rare combination of entertainment and education .</td>\n",
       "    </tr>\n",
       "    <tr>\n",
       "      <th>5</th>\n",
       "      <td>4</td>\n",
       "      <td>Perhaps no picture ever made has more literally showed that the road to hell is paved with good intentions .</td>\n",
       "    </tr>\n",
       "    <tr>\n",
       "      <th>6</th>\n",
       "      <td>4</td>\n",
       "      <td>Steers turns in a snappy screenplay that curls at the edges ; it 's so clever you want to hate it .</td>\n",
       "    </tr>\n",
       "    <tr>\n",
       "      <th>7</th>\n",
       "      <td>4</td>\n",
       "      <td>But he somehow pulls it off .</td>\n",
       "    </tr>\n",
       "    <tr>\n",
       "      <th>8</th>\n",
       "      <td>4</td>\n",
       "      <td>Take Care of My Cat offers a refreshingly different slice of Asian cinema .</td>\n",
       "    </tr>\n",
       "    <tr>\n",
       "      <th>9</th>\n",
       "      <td>5</td>\n",
       "      <td>This is a film well worth seeing , talking and singing heads and all .</td>\n",
       "    </tr>\n",
       "    <tr>\n",
       "      <th>10</th>\n",
       "      <td>4</td>\n",
       "      <td>What really surprises about Wisegirls is its low-key quality and genuine tenderness .</td>\n",
       "    </tr>\n",
       "    <tr>\n",
       "      <th>11</th>\n",
       "      <td>4</td>\n",
       "      <td>( Wendigo is ) why we go to the cinema : to be fed through the eye , the heart , the mind .</td>\n",
       "    </tr>\n",
       "  </tbody>\n",
       "</table>\n",
       "</div>"
      ],
      "text/plain": [
       "   label                                                                                                                                        text\n",
       "0      3                                                                                                              Effective but too-tepid biopic\n",
       "1      4                                                   If you sometimes like to go to the movies to have fun , Wasabi is a good place to start .\n",
       "2      5                           Emerges as something rare , an issue movie that 's so honest and keenly observed that it does n't feel like one .\n",
       "3      3  The film provides some great insight into the neurotic mindset of all comics -- even those who have reached the absolute top of the game .\n",
       "4      5                                                                               Offers that rare combination of entertainment and education .\n",
       "5      4                                Perhaps no picture ever made has more literally showed that the road to hell is paved with good intentions .\n",
       "6      4                                         Steers turns in a snappy screenplay that curls at the edges ; it 's so clever you want to hate it .\n",
       "7      4                                                                                                               But he somehow pulls it off .\n",
       "8      4                                                                 Take Care of My Cat offers a refreshingly different slice of Asian cinema .\n",
       "9      5                                                                      This is a film well worth seeing , talking and singing heads and all .\n",
       "10     4                                                       What really surprises about Wisegirls is its low-key quality and genuine tenderness .\n",
       "11     4                                                 ( Wendigo is ) why we go to the cinema : to be fed through the eye , the heart , the mind ."
      ]
     },
     "execution_count": 24,
     "metadata": {},
     "output_type": "execute_result"
    }
   ],
   "source": [
    "test.head(12)"
   ]
  },
  {
   "cell_type": "code",
   "execution_count": 23,
   "id": "a4dbf6c5",
   "metadata": {},
   "outputs": [],
   "source": [
    "pd.set_option('display.max_colwidth', None)"
   ]
  },
  {
   "cell_type": "code",
   "execution_count": null,
   "id": "c291361f",
   "metadata": {},
   "outputs": [],
   "source": []
  }
 ],
 "metadata": {
  "kernelspec": {
   "display_name": "Python 3 (ipykernel)",
   "language": "python",
   "name": "python3"
  },
  "language_info": {
   "codemirror_mode": {
    "name": "ipython",
    "version": 3
   },
   "file_extension": ".py",
   "mimetype": "text/x-python",
   "name": "python",
   "nbconvert_exporter": "python",
   "pygments_lexer": "ipython3",
   "version": "3.9.12"
  }
 },
 "nbformat": 4,
 "nbformat_minor": 5
}
