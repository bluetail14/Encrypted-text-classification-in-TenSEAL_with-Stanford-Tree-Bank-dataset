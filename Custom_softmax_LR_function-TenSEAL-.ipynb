{
 "cells": [
  {
   "cell_type": "code",
   "execution_count": null,
   "id": "df9c571e-4116-443e-a3c6-294530b3eb18",
   "metadata": {
    "tags": []
   },
   "outputs": [],
   "source": [
    "!pip install torch \"pandas<2.0.0\" numpy scikit-learn tenseal torchvision torch torchmetrics\n",
    "!pip install --upgrade pip\n",
    "#!pip install torch pandas numpy scikit-learn tenseal torchvision"
   ]
  },
  {
   "cell_type": "code",
   "execution_count": 3,
   "id": "0e291ea8-f774-4898-b9c2-79386d23f259",
   "metadata": {
    "tags": []
   },
   "outputs": [],
   "source": [
    "import pickle\n",
    "import json\n",
    "import numpy as np\n",
    "import pandas as pd\n",
    "import torch\n",
    "import random\n",
    "import os\n",
    "import tenseal as ts\n",
    "from time import time\n",
    "from sklearn.model_selection import train_test_split\n",
    "\n",
    "from torch.utils.data import Dataset\n",
    "from torch.utils.data import DataLoader\n",
    "from torchvision.transforms import ToTensor, Lambda\n",
    "#import torchmetrics\n",
    "from torchmetrics.classification import Accuracy, Precision, F1Score, MulticlassAUROC\n",
    "from sklearn.metrics import f1_score, recall_score"
   ]
  },
  {
   "cell_type": "code",
   "execution_count": 4,
   "id": "6f3dfe42-49c0-40b6-b54f-a8ab0f3d1fb5",
   "metadata": {
    "tags": []
   },
   "outputs": [],
   "source": [
    "class EmbeddingDataset(Dataset):\n",
    "\n",
    "    def __init__(self, embedding_fp, transform=None, target_transform=None):\n",
    "\n",
    "        with open(embedding_fp, \"rb\") as fIn:\n",
    "            stored_data = pickle.load(fIn)\n",
    "            stored_labels = stored_data['labels']\n",
    "            stored_embeddings = stored_data['embeddings']\n",
    "        self.X = stored_embeddings \n",
    "        self.X = torch.tensor(self.X).float().unsqueeze(0)\n",
    "            \n",
    "        self.y = stored_labels.to_numpy()\n",
    "        self.y = torch.LongTensor(self.y).unsqueeze(-2) \n",
    "\n",
    "    def __len__(self):\n",
    "        return len(self.X)\n",
    "\n",
    "    def __getitem__(self, idx):\n",
    "        \n",
    "        X = self.X[idx]\n",
    "\n",
    "        y = self.y[idx] \n",
    "\n",
    "        return X, y\n"
   ]
  },
  {
   "cell_type": "code",
   "execution_count": 5,
   "id": "88f19f33-ef20-41af-b159-c88365232dfa",
   "metadata": {
    "tags": []
   },
   "outputs": [],
   "source": [
    "#train_data = EmbeddingDataset('embeddings_l6_train15.pkl')\n",
    "train_data = EmbeddingDataset('train_15rfe.pkl')"
   ]
  },
  {
   "cell_type": "code",
   "execution_count": 6,
   "id": "67e1c479-056c-4b45-b2be-a57bb9202e1b",
   "metadata": {},
   "outputs": [],
   "source": [
    "#test_data = EmbeddingDataset('embeddings_l6_test15.pkl')\n",
    "test_data = EmbeddingDataset('test_15rfe.pkl')"
   ]
  },
  {
   "cell_type": "code",
   "execution_count": 7,
   "id": "e1a0032a-ac2f-4486-9e60-8e7cc6d73133",
   "metadata": {
    "tags": []
   },
   "outputs": [],
   "source": [
    "X_train, y_train = train_data[0]"
   ]
  },
  {
   "cell_type": "code",
   "execution_count": 11,
   "id": "04812d35-8903-424c-a6d9-547c6b1c41a1",
   "metadata": {
    "tags": []
   },
   "outputs": [
    {
     "data": {
      "text/plain": [
       "torch.Size([115102, 384])"
      ]
     },
     "execution_count": 11,
     "metadata": {},
     "output_type": "execute_result"
    }
   ],
   "source": [
    "X_train.shape"
   ]
  },
  {
   "cell_type": "code",
   "execution_count": 12,
   "id": "08c4ed9a-dd28-4e7b-8359-b63eb5b9124b",
   "metadata": {
    "tags": []
   },
   "outputs": [
    {
     "data": {
      "text/plain": [
       "torch.Size([115102])"
      ]
     },
     "execution_count": 12,
     "metadata": {},
     "output_type": "execute_result"
    }
   ],
   "source": [
    "y_train.shape"
   ]
  },
  {
   "cell_type": "code",
   "execution_count": 8,
   "id": "47d8d909-428c-4b0b-a681-864b622b4905",
   "metadata": {
    "tags": []
   },
   "outputs": [],
   "source": [
    "X_test, y_test = test_data[0]"
   ]
  },
  {
   "cell_type": "code",
   "execution_count": 13,
   "id": "d2c32ed2-a151-4463-a0ac-0f8e78e44cee",
   "metadata": {
    "tags": []
   },
   "outputs": [
    {
     "data": {
      "text/plain": [
       "torch.Size([25267, 384])"
      ]
     },
     "execution_count": 13,
     "metadata": {},
     "output_type": "execute_result"
    }
   ],
   "source": [
    "X_test.shape"
   ]
  },
  {
   "cell_type": "code",
   "execution_count": 38,
   "id": "7cd0180f-192d-4445-bda2-d403e3d64cf4",
   "metadata": {
    "tags": []
   },
   "outputs": [
    {
     "data": {
      "text/plain": [
       "torch.Size([25267])"
      ]
     },
     "execution_count": 38,
     "metadata": {},
     "output_type": "execute_result"
    }
   ],
   "source": [
    "y_test.shape"
   ]
  },
  {
   "cell_type": "markdown",
   "id": "330c53ed-e088-4a9c-85b5-5a7cce71cacb",
   "metadata": {},
   "source": [
    "#### Plain Model"
   ]
  },
  {
   "cell_type": "code",
   "execution_count": 46,
   "id": "f921fd00-5d29-4a6b-8f62-8a9bcaa45f94",
   "metadata": {
    "tags": []
   },
   "outputs": [],
   "source": [
    "# base model \n",
    "class LR(torch.nn.Module):\n",
    "\n",
    "    def __init__(self, n_features):\n",
    "        super(LR, self).__init__()        \n",
    "        self.lr = torch.nn.Linear(n_features, 16)\n",
    "        \n",
    "    def forward(self, x):\n",
    "        print(x.shape)\n",
    "        out = torch.softmax(self.lr(x),dim = 1,dtype=None)\n",
    "        return out"
   ]
  },
  {
   "cell_type": "code",
   "execution_count": 48,
   "id": "22991994-7a2e-4eab-9f2c-2dd45b70939e",
   "metadata": {
    "tags": []
   },
   "outputs": [],
   "source": [
    "# parameters\n",
    "n_features = 384\n",
    "n_classes = 16\n",
    "epochs = 15\n",
    "\n",
    "# a model instance\n",
    "model = LR(n_features)\n",
    "\n",
    "# use gradient descent with a learning_rate=0.01\n",
    "optim = torch.optim.SGD(model.parameters(), lr=0.01)\n",
    "criterion = torch.nn.CrossEntropyLoss()\n",
    "device = 'cpu'"
   ]
  },
  {
   "cell_type": "code",
   "execution_count": 49,
   "id": "25adbc68-2f7d-47b6-a6a1-436882c844e9",
   "metadata": {
    "tags": []
   },
   "outputs": [
    {
     "data": {
      "text/plain": [
       "LR(\n",
       "  (lr): Linear(in_features=384, out_features=16, bias=True)\n",
       ")"
      ]
     },
     "execution_count": 49,
     "metadata": {},
     "output_type": "execute_result"
    }
   ],
   "source": [
    "model"
   ]
  },
  {
   "cell_type": "code",
   "execution_count": 11,
   "id": "631ed700-4856-4d95-91bc-42cd26fee27a",
   "metadata": {
    "tags": []
   },
   "outputs": [],
   "source": [
    "# metrics\n",
    "accuracy_fn = Accuracy(task=\"multiclass\",  num_classes=16)\n",
    "precision_fn = Precision(task=\"multiclass\", average='macro', num_classes=36)\n",
    "f1_fn = F1Score(task=\"multiclass\", average='macro', num_classes=16)\n",
    "auroc_fn = MulticlassAUROC(average=\"macro\", num_classes=16)"
   ]
  },
  {
   "cell_type": "markdown",
   "id": "adabf455-547b-478b-9301-80814ebf969b",
   "metadata": {},
   "source": [
    "##### Testing accuracy of the plain model"
   ]
  },
  {
   "cell_type": "code",
   "execution_count": 32,
   "id": "13b15303-b401-4d01-a464-7eb58e3248d4",
   "metadata": {
    "tags": []
   },
   "outputs": [],
   "source": [
    "def multi_acc(model, x, y):\n",
    "    out = model(x)\n",
    "    _, y_pred_tags = torch.max(out, dim = 1)    \n",
    "#    print(_,y_pred_tags)\n",
    "    correct_pred = (y_pred_tags == y).float()\n",
    "#    print(correct_pred)\n",
    "    acc = correct_pred.sum() / len(correct_pred) \n",
    "#    print(correct_pred.sum(), len(correct_pred))\n",
    "    return acc.item() # or acc for a tensor"
   ]
  },
  {
   "cell_type": "code",
   "execution_count": 85,
   "id": "a2ace66d-4149-4439-a8f1-62d006328718",
   "metadata": {
    "tags": []
   },
   "outputs": [
    {
     "name": "stdout",
     "output_type": "stream",
     "text": [
      "torch.Size([115102, 384])\n",
      "torch.Size([115102, 384])\n",
      "Epoch: 1 | Loss: 2.77232, Acc_multi: 0.06707% | Acc: 0.06694% | F1-score: 0.04603% | AUROC: 0.54752%\n",
      "torch.Size([115102, 384])\n",
      "torch.Size([115102, 384])\n",
      "Epoch: 2 | Loss: 2.77231, Acc_multi: 0.06722% | Acc: 0.06707% | F1-score: 0.04605% | AUROC: 0.54755%\n",
      "torch.Size([115102, 384])\n",
      "torch.Size([115102, 384])\n",
      "Epoch: 3 | Loss: 2.77231, Acc_multi: 0.06726% | Acc: 0.06722% | F1-score: 0.04613% | AUROC: 0.54757%\n",
      "torch.Size([115102, 384])\n",
      "torch.Size([115102, 384])\n",
      "Epoch: 4 | Loss: 2.77231, Acc_multi: 0.06740% | Acc: 0.06726% | F1-score: 0.04614% | AUROC: 0.54760%\n",
      "torch.Size([115102, 384])\n",
      "torch.Size([115102, 384])\n",
      "Epoch: 5 | Loss: 2.77231, Acc_multi: 0.06757% | Acc: 0.06740% | F1-score: 0.04619% | AUROC: 0.54763%\n",
      "torch.Size([115102, 384])\n",
      "torch.Size([115102, 384])\n",
      "Epoch: 6 | Loss: 2.77231, Acc_multi: 0.06766% | Acc: 0.06757% | F1-score: 0.04627% | AUROC: 0.54765%\n",
      "torch.Size([115102, 384])\n",
      "torch.Size([115102, 384])\n",
      "Epoch: 7 | Loss: 2.77230, Acc_multi: 0.06783% | Acc: 0.06766% | F1-score: 0.04629% | AUROC: 0.54768%\n",
      "torch.Size([115102, 384])\n",
      "torch.Size([115102, 384])\n",
      "Epoch: 8 | Loss: 2.77230, Acc_multi: 0.06799% | Acc: 0.06783% | F1-score: 0.04636% | AUROC: 0.54770%\n",
      "torch.Size([115102, 384])\n",
      "torch.Size([115102, 384])\n",
      "Epoch: 9 | Loss: 2.77230, Acc_multi: 0.06817% | Acc: 0.06799% | F1-score: 0.04643% | AUROC: 0.54773%\n",
      "torch.Size([115102, 384])\n",
      "torch.Size([115102, 384])\n",
      "Epoch: 10 | Loss: 2.77230, Acc_multi: 0.06833% | Acc: 0.06817% | F1-score: 0.04649% | AUROC: 0.54776%\n",
      "torch.Size([115102, 384])\n",
      "torch.Size([115102, 384])\n",
      "Epoch: 11 | Loss: 2.77229, Acc_multi: 0.06847% | Acc: 0.06833% | F1-score: 0.04657% | AUROC: 0.54778%\n",
      "torch.Size([115102, 384])\n",
      "torch.Size([115102, 384])\n",
      "Epoch: 12 | Loss: 2.77229, Acc_multi: 0.06873% | Acc: 0.06847% | F1-score: 0.04660% | AUROC: 0.54781%\n",
      "torch.Size([115102, 384])\n",
      "torch.Size([115102, 384])\n",
      "Epoch: 13 | Loss: 2.77229, Acc_multi: 0.06889% | Acc: 0.06873% | F1-score: 0.04671% | AUROC: 0.54784%\n",
      "torch.Size([115102, 384])\n",
      "torch.Size([115102, 384])\n",
      "Epoch: 14 | Loss: 2.77229, Acc_multi: 0.06910% | Acc: 0.06889% | F1-score: 0.04678% | AUROC: 0.54786%\n",
      "torch.Size([115102, 384])\n",
      "torch.Size([115102, 384])\n",
      "Epoch: 15 | Loss: 2.77229, Acc_multi: 0.06921% | Acc: 0.06910% | F1-score: 0.04687% | AUROC: 0.54789%\n"
     ]
    }
   ],
   "source": [
    "# model training function\n",
    "def train(model, optim, criterion, x, y, epochs=epochs):\n",
    "    for e in range(1, epochs + 1):\n",
    "        #\n",
    "        optim.zero_grad()\n",
    "        out = model(x)\n",
    "        loss = criterion(out, y)\n",
    "        loss.backward()\n",
    "        optim.step()\n",
    " #       print(f\"Loss at epoch {e}: {loss.data}\")\n",
    "        acc = accuracy_fn(out, y)\n",
    " #       print(out, out.shape)\n",
    "  #      print(y, y.shape)\n",
    "        acc_m = multi_acc(model, x, y)\n",
    "        f1 = f1_fn(out, y) \n",
    "        auroc = auroc_fn(out, y)\n",
    "        print(f\"Epoch: {e} | Loss: {loss.data:.5f}, Acc_multi: {acc_m:.5f}% | Acc: {acc.data:.5f}% | F1-score: {f1.data:.5f}% | AUROC: {auroc.data:.5f}%\", ) \n",
    "    return model\n",
    "\n",
    "model = train(model, optim, criterion, X_train, y_train)"
   ]
  },
  {
   "cell_type": "code",
   "execution_count": null,
   "id": "d0d43272-aa05-4841-a3e7-04f975945555",
   "metadata": {},
   "outputs": [],
   "source": []
  },
  {
   "cell_type": "markdown",
   "id": "a225096c-289a-4094-8ebe-e977060f6afe",
   "metadata": {
    "tags": []
   },
   "source": [
    "#### Encrypted Model"
   ]
  },
  {
   "cell_type": "code",
   "execution_count": 128,
   "id": "b647245e-d126-4095-9a70-67ab256d4985",
   "metadata": {
    "tags": []
   },
   "outputs": [],
   "source": [
    "class EncryptedLR:\n",
    "\n",
    "    GOLDSCHMIDT_CONST = 32\n",
    "    GOLDSCHMIDT_ITER = 30\n",
    "    \n",
    "    def __init__(self, torch_lr):\n",
    "        \n",
    "        self.weight = torch_lr.lr.weight.T.data.tolist() #[0]\n",
    "        self.bias = torch_lr.lr.bias.data.tolist()\n",
    "        # accumulate gradients and count the number of iterations\n",
    "        self._delta_w = 0\n",
    "        self._delta_b = 0\n",
    "        self._count = 0\n",
    "        self.l2 = 0.05\n",
    "        \n",
    "        \n",
    "    def forward(self, enc_x):\n",
    "        enc_out = enc_x.dot(self.weight) + self.bias\n",
    "       \n",
    "        enc_out = EncryptedLR.softmax(enc_out)\n",
    "        return enc_out\n",
    "    \n",
    "    def backward(self, enc_x, enc_out, enc_y):\n",
    "        out_minus_y = (enc_out - enc_y)\n",
    "        self._delta_w += enc_x * out_minus_y\n",
    "        self._delta_b += out_minus_y\n",
    "        self._count += 1\n",
    "        \n",
    "    def update_parameters(self):\n",
    "        if self._count == 0:\n",
    "            raise RuntimeError(\"You should at least run one forward iteration\")\n",
    "        # update weights\n",
    "        # use a small regularization term to keep the output\n",
    "        # of the linear layer in the range of the sigmoid approximation\n",
    "        self.weight -= self._delta_w * (1 / self._count) + self.weight * self.l2\n",
    "        self.bias -= self._delta_b * (1 / self._count)\n",
    "        # reset gradient accumulators and iterations count\n",
    "        self._delta_w = 0\n",
    "        self._delta_b = 0\n",
    "        self._count = 0\n",
    "    \n",
    "    @staticmethod\n",
    "    def loss_precision(x, d = 30):\n",
    "        return x * (1 + (np.random.rand(1)[0] - 0.5) * 2 * 2**(-d))\n",
    "    \n",
    "    @staticmethod\n",
    "    def dist(x, y):\n",
    "        return 1 - np.sum(x == y) / (len(x) * 2. - np.sum(x == y))\n",
    "    \n",
    "    @staticmethod\n",
    "    def our_exp(x):\n",
    "        y = (np.array(x) + 16) / 80\n",
    "        for i in range(4):\n",
    "            y = y * y\n",
    "            y = EncryptedLR.loss_precision(y)\n",
    "        return y\n",
    "    \n",
    "    @staticmethod\n",
    "    def goldschmidt(x, M, n):\n",
    "        base = 1 - np.sum(x) / M\n",
    "        z = 1. / M\n",
    "        for zeta in range(n):\n",
    "            z *= 1 + base\n",
    "            z = EncryptedLR.loss_precision(z)\n",
    "            base *= base\n",
    "            base = EncryptedLR.loss_precision(base)\n",
    "        return z\n",
    "    \n",
    "    @staticmethod\n",
    "    def softmax(self, enc_x):\n",
    "\n",
    "        val_out = enc_x.T.dot(self.weight) + self.bias\n",
    "        val_expo = np.array([EncryptedLR.our_exp(x) for x in val_out])\n",
    "        val_pred = np.array([x * EncryptedLR.goldschmidt(x, M=1/EncryptedLR.GOLDSCHMIDT_CONST, n=EncryptedLR.GOLDSCHMIDT_ITER) for x in val_expo])\n",
    "\n",
    "        return val_pred\n",
    "    \n",
    "    def plain_accuracy(self, X_test, y_test):\n",
    "        # evaluate accuracy of the model on\n",
    "        # the plain (x_test, y_test) dataset\n",
    "        w = torch.tensor(self.weight)\n",
    "        b = torch.tensor(self.bias)\n",
    "\n",
    "        out = torch.softmax(X_test.matmul(w) + b, dim=1)\n",
    "        #(X, self.W) + self.b)\n",
    "#       print(out)\n",
    "        _, y_pred_tags = torch.max(out, dim = 1) \n",
    "        correct_pred = (y_pred_tags == y_test).float()\n",
    "        acc = correct_pred.sum() / len(correct_pred)\n",
    "        return acc\n",
    "\n",
    "   \n",
    "    def encrypt(self, context):\n",
    "        self.weight = ts.ckks_vector(context, self.weight)\n",
    "        self.bias = ts.ckks_vector(context, self.bias)\n",
    "        \n",
    "    def decrypt(self):\n",
    "        self.weight = self.weight.decrypt()\n",
    "        self.bias = self.bias.decrypt()\n",
    "        \n",
    "    def __call__(self, *args, **kwargs):\n",
    "        return self.forward(*args, **kwargs)\n",
    "\n"
   ]
  },
  {
   "cell_type": "code",
   "execution_count": 125,
   "id": "bcf821d4-110f-4d0d-bfd3-e384250c899a",
   "metadata": {
    "tags": []
   },
   "outputs": [],
   "source": [
    "# an instance of the encrypted model\n",
    "eelr = EncryptedLR(model)"
   ]
  },
  {
   "cell_type": "code",
   "execution_count": 90,
   "id": "9be7d46d-8f0a-4191-b4c5-d7172a870819",
   "metadata": {},
   "outputs": [
    {
     "data": {
      "text/plain": [
       "tensor(0.0693)"
      ]
     },
     "execution_count": 90,
     "metadata": {},
     "output_type": "execute_result"
    }
   ],
   "source": [
    "eelr.plain_accuracy(X_test, y_test)\n"
   ]
  },
  {
   "cell_type": "code",
   "execution_count": null,
   "id": "3ab1274f-8bcd-4c3a-b945-965589d228a5",
   "metadata": {},
   "outputs": [],
   "source": []
  },
  {
   "cell_type": "code",
   "execution_count": null,
   "id": "9b199831-21b9-4961-827d-f45506d4af77",
   "metadata": {},
   "outputs": [],
   "source": []
  },
  {
   "cell_type": "markdown",
   "id": "a2b040f6-97a8-41f7-a9db-518b0cb4b2fb",
   "metadata": {},
   "source": [
    "##### Encrypting the tensors into ckksvectors"
   ]
  },
  {
   "cell_type": "code",
   "execution_count": 95,
   "id": "767f15e1-9db5-4c3f-b2dd-6d5e04b73817",
   "metadata": {
    "tags": []
   },
   "outputs": [],
   "source": [
    "# TenSEAL context - parameters 1\n",
    "poly_mod_degree = 4096\n",
    "coeff_mod_bit_sizes = [40, 20, 40]\n",
    "# create TenSEALContext\n",
    "ctx_eval = ts.context(ts.SCHEME_TYPE.CKKS, poly_mod_degree, -1, coeff_mod_bit_sizes)\n",
    "# scale of ciphertext to use\n",
    "ctx_eval.global_scale = 2 ** 20\n",
    "# this key is needed for doing dot-product operations\n",
    "ctx_eval.generate_galois_keys()"
   ]
  },
  {
   "cell_type": "code",
   "execution_count": null,
   "id": "caefc78d-6c8c-4688-b09c-4fe006f51b16",
   "metadata": {
    "tags": []
   },
   "outputs": [],
   "source": [
    "# parameters 2\n",
    "poly_mod_degree = 8192\n",
    "coeff_mod_bit_sizes = [40, 21, 21, 21, 21, 21, 21, 40]\n",
    "# create TenSEALContext\n",
    "ctx_train = ts.context(ts.SCHEME_TYPE.CKKS, poly_mod_degree, -1, coeff_mod_bit_sizes)\n",
    "ctx_train.global_scale = 2 ** 21\n",
    "ctx_train.generate_galois_keys()"
   ]
  },
  {
   "cell_type": "code",
   "execution_count": 97,
   "id": "3005691f-6896-46fb-8ccd-4a1ff165abda",
   "metadata": {
    "tags": []
   },
   "outputs": [
    {
     "data": {
      "text/plain": [
       "torch.Size([25267, 1])"
      ]
     },
     "execution_count": 97,
     "metadata": {},
     "output_type": "execute_result"
    }
   ],
   "source": [
    "y_test_ = y_test.float().unsqueeze(-1)\n",
    "y_test_.shape"
   ]
  },
  {
   "cell_type": "code",
   "execution_count": 98,
   "id": "31270e31-8162-4a66-b9db-d50381400412",
   "metadata": {
    "tags": []
   },
   "outputs": [
    {
     "data": {
      "text/plain": [
       "torch.Size([115102, 1])"
      ]
     },
     "execution_count": 98,
     "metadata": {},
     "output_type": "execute_result"
    }
   ],
   "source": [
    "y_train_ = y_train.float().unsqueeze(-1)\n",
    "y_train_.shape"
   ]
  },
  {
   "cell_type": "code",
   "execution_count": 99,
   "id": "c0793183-6214-40f6-9f29-4a148ffb4fcd",
   "metadata": {
    "tags": []
   },
   "outputs": [
    {
     "name": "stderr",
     "output_type": "stream",
     "text": [
      "IOStream.flush timed out\n",
      "IOStream.flush timed out\n",
      "IOStream.flush timed out\n",
      "IOStream.flush timed out\n",
      "IOStream.flush timed out\n",
      "IOStream.flush timed out\n"
     ]
    },
    {
     "name": "stdout",
     "output_type": "stream",
     "text": [
      "Encryption of the training_set took 460 seconds\n"
     ]
    }
   ],
   "source": [
    "# train data\n",
    "t_start = time()\n",
    "enc_x_train = [ts.ckks_vector(ctx_eval, x.tolist()) for x in X_train]\n",
    "enc_y_train = [ts.ckks_vector(ctx_eval, y.tolist()) for y in y_train_]\n",
    "t_end = time()\n",
    "print(f\"Encryption of the training_set took {int(t_end - t_start)} seconds\")"
   ]
  },
  {
   "cell_type": "code",
   "execution_count": 100,
   "id": "457c81d9-6c94-4a24-a8d1-85ce227b510e",
   "metadata": {
    "tags": []
   },
   "outputs": [
    {
     "name": "stdout",
     "output_type": "stream",
     "text": [
      "Encryption of the test-set took 773 seconds\n"
     ]
    }
   ],
   "source": [
    "# test data\n",
    "t_start = time()\n",
    "enc_x_test = [ts.ckks_vector(ctx_eval, x.tolist()) for x in X_test]\n",
    "enc_y_test = [ts.ckks_vector(ctx_eval, y.tolist()) for y in y_test_]\n",
    "t_end = time()\n",
    "print(f\"Encryption of the test-set took {int(t_end - t_start)} seconds\")"
   ]
  },
  {
   "cell_type": "code",
   "execution_count": null,
   "id": "58fb3984-7d59-4b58-8493-930d22131f7c",
   "metadata": {},
   "outputs": [],
   "source": []
  },
  {
   "cell_type": "code",
   "execution_count": null,
   "id": "4314894c-ad11-4a76-b7c8-f38ce6d3b017",
   "metadata": {
    "tags": []
   },
   "outputs": [],
   "source": []
  },
  {
   "cell_type": "code",
   "execution_count": null,
   "id": "94827cbd-8e81-4b5b-974d-a6381bd5581a",
   "metadata": {},
   "outputs": [],
   "source": []
  },
  {
   "cell_type": "markdown",
   "id": "a836ff1a-d818-4847-9c61-453683175033",
   "metadata": {
    "tags": []
   },
   "source": [
    "#### Evaluation"
   ]
  },
  {
   "cell_type": "code",
   "execution_count": 34,
   "id": "b4bb2f47-32e6-4896-b898-451d3845c62e",
   "metadata": {
    "tags": []
   },
   "outputs": [],
   "source": [
    "# Defining some metric functions\n",
    "\n",
    "def accuracy(model, x, y):\n",
    "    out = model(x)\n",
    "    correct = torch.abs(y - out) < 0.5\n",
    "    return correct.float().mean()\n",
    "\n",
    "#alternative accuracy\n",
    "def multi_acc(model, x, y):\n",
    "    out = model(x)\n",
    "    _, y_pred_tags = torch.max(out, dim = 1)    \n",
    "    \n",
    "    correct_pred = (y_pred_tags == y).float()\n",
    "    acc = correct_pred.sum() / len(correct_pred)\n",
    "    \n",
    "    return acc\n",
    "\n",
    "def recall(model, x, y):\n",
    "    out = model(x)\n",
    "    predicted = (out > 0.5).float()\n",
    "    recall = recall_score(y_true=y.numpy(), y_pred=predicted.detach().numpy())\n",
    "    return recall\n",
    "\n",
    "def compute_f1_score(model, x, y):\n",
    "    out = model(x)\n",
    "    predicted = (out > 0.5).float()\n",
    "    f1 = f1_score(y_true=y.numpy(), y_pred=predicted.detach().numpy())\n",
    "    return f1\n"
   ]
  },
  {
   "cell_type": "code",
   "execution_count": 36,
   "id": "cb5aed51-5182-46af-a1b5-2d1937803a54",
   "metadata": {},
   "outputs": [],
   "source": []
  },
  {
   "cell_type": "markdown",
   "id": "98a05181-e96a-4112-a985-2a517a77b96d",
   "metadata": {},
   "source": [
    "##### Accuracy evaluation - plain data vs encrypted data"
   ]
  },
  {
   "cell_type": "code",
   "execution_count": 73,
   "id": "2743ed6f-40cb-4e23-8659-020ce5355ad4",
   "metadata": {
    "tags": []
   },
   "outputs": [],
   "source": [
    "def encrypted_evaluation(model, enc_x_test, y_test):\n",
    "    t_start = time()\n",
    "    \n",
    "    correct = 0\n",
    "    for enc_x, y in zip(enc_x_test, y_test):\n",
    "        # encrypted evaluation\n",
    "        enc_out = model(enc_x)\n",
    "        # plain comparison\n",
    "        out = enc_out.decrypt()\n",
    "        out = torch.tensor(out)\n",
    "        out = torch.softmax(out)\n",
    "        if correct_pred = (y_pred_tags == y_test).float():\n",
    "            correct_pred += 1\n",
    "    \n",
    "    t_end = time()\n",
    "    print(f\"Evaluated test_set of {len(x_test)} entries in {int(t_end - t_start)} seconds\")\n",
    "    print(f\"Accuracy: {correct}/{len(x_test)} = {correct / len(x_test)}\")\n",
    "    return correct / len(x_test)\n"
   ]
  },
  {
   "cell_type": "code",
   "execution_count": null,
   "id": "fe1d202d-672e-46b6-a8ce-16683b385f55",
   "metadata": {},
   "outputs": [],
   "source": []
  },
  {
   "cell_type": "code",
   "execution_count": null,
   "id": "c4bfff5f-28a6-46ce-b8a5-d0f6d4b8acc7",
   "metadata": {},
   "outputs": [],
   "source": []
  },
  {
   "cell_type": "markdown",
   "id": "159504a4-8b95-4e1f-9051-e018965810cc",
   "metadata": {},
   "source": [
    "##### With Dataloaders"
   ]
  },
  {
   "cell_type": "code",
   "execution_count": 77,
   "id": "79417a3d-2281-42c5-b3fa-01bd073c5c56",
   "metadata": {
    "tags": []
   },
   "outputs": [],
   "source": [
    "dataloader_train_X = DataLoader(train_data, batch_size=8, shuffle=True)\n",
    "dataloader_test_X = DataLoader(test_data, batch_size=8, shuffle=True)"
   ]
  },
  {
   "cell_type": "code",
   "execution_count": null,
   "id": "d4b9060b-134f-463f-b17f-6289ae1f3898",
   "metadata": {
    "tags": []
   },
   "outputs": [],
   "source": [
    "times = []\n",
    "epochs =10\n",
    "device = 'cpu'\n",
    "\n",
    "for epoch in range(epochs):\n",
    "\n",
    "    for batch, (X, y) in enumerate(dataloader_train_X):\n",
    "        X, y = X.to(device), y.to(device)\n",
    "        \n",
    "\n",
    "#        enc_x_train = EncryptedLR.encrypt(X_train, context =ctx_eval)\n",
    "#        enc_y_train = EncryptedLR.encrypt(y_train, context =ctx_eval)\n",
    "\n",
    "    \n",
    "        \n",
    "        eelr = EncryptedLR(model0)\n",
    "        t_start = time()\n",
    "        for enc_x, enc_y in zip(enc_x_train, enc_y_train):\n",
    "            enc_out = eelr.forward(enc_x)\n",
    "            eelr.backward(enc_x, enc_out, enc_y)\n",
    "        eelr.update_parameters()\n",
    "        t_end = time()\n",
    "        times.append(t_end - t_start)\n",
    "        \n",
    "        eelr.decrypt()\n",
    "#        accuracy = eelr.plain_accuracy(x_test, y_test)\n",
    "#        print(f\"Accuracy at epoch #{epoch + 1} is {accuracy}\")\n",
    "\n",
    "#print(f\"\\nAverage time per epoch: {int(sum(times) / len(times))} seconds\")\n",
    "#print(f\"Final accuracy is {accuracy}\""
   ]
  },
  {
   "cell_type": "code",
   "execution_count": null,
   "id": "3f6c75c1-0cdd-45ec-8705-9d1aa9224dab",
   "metadata": {},
   "outputs": [],
   "source": []
  }
 ],
 "metadata": {
  "availableInstances": [
   {
    "_defaultOrder": 0,
    "_isFastLaunch": true,
    "category": "General purpose",
    "gpuNum": 0,
    "hideHardwareSpecs": false,
    "memoryGiB": 4,
    "name": "ml.t3.medium",
    "vcpuNum": 2
   },
   {
    "_defaultOrder": 1,
    "_isFastLaunch": false,
    "category": "General purpose",
    "gpuNum": 0,
    "hideHardwareSpecs": false,
    "memoryGiB": 8,
    "name": "ml.t3.large",
    "vcpuNum": 2
   },
   {
    "_defaultOrder": 2,
    "_isFastLaunch": false,
    "category": "General purpose",
    "gpuNum": 0,
    "hideHardwareSpecs": false,
    "memoryGiB": 16,
    "name": "ml.t3.xlarge",
    "vcpuNum": 4
   },
   {
    "_defaultOrder": 3,
    "_isFastLaunch": false,
    "category": "General purpose",
    "gpuNum": 0,
    "hideHardwareSpecs": false,
    "memoryGiB": 32,
    "name": "ml.t3.2xlarge",
    "vcpuNum": 8
   },
   {
    "_defaultOrder": 4,
    "_isFastLaunch": true,
    "category": "General purpose",
    "gpuNum": 0,
    "hideHardwareSpecs": false,
    "memoryGiB": 8,
    "name": "ml.m5.large",
    "vcpuNum": 2
   },
   {
    "_defaultOrder": 5,
    "_isFastLaunch": false,
    "category": "General purpose",
    "gpuNum": 0,
    "hideHardwareSpecs": false,
    "memoryGiB": 16,
    "name": "ml.m5.xlarge",
    "vcpuNum": 4
   },
   {
    "_defaultOrder": 6,
    "_isFastLaunch": false,
    "category": "General purpose",
    "gpuNum": 0,
    "hideHardwareSpecs": false,
    "memoryGiB": 32,
    "name": "ml.m5.2xlarge",
    "vcpuNum": 8
   },
   {
    "_defaultOrder": 7,
    "_isFastLaunch": false,
    "category": "General purpose",
    "gpuNum": 0,
    "hideHardwareSpecs": false,
    "memoryGiB": 64,
    "name": "ml.m5.4xlarge",
    "vcpuNum": 16
   },
   {
    "_defaultOrder": 8,
    "_isFastLaunch": false,
    "category": "General purpose",
    "gpuNum": 0,
    "hideHardwareSpecs": false,
    "memoryGiB": 128,
    "name": "ml.m5.8xlarge",
    "vcpuNum": 32
   },
   {
    "_defaultOrder": 9,
    "_isFastLaunch": false,
    "category": "General purpose",
    "gpuNum": 0,
    "hideHardwareSpecs": false,
    "memoryGiB": 192,
    "name": "ml.m5.12xlarge",
    "vcpuNum": 48
   },
   {
    "_defaultOrder": 10,
    "_isFastLaunch": false,
    "category": "General purpose",
    "gpuNum": 0,
    "hideHardwareSpecs": false,
    "memoryGiB": 256,
    "name": "ml.m5.16xlarge",
    "vcpuNum": 64
   },
   {
    "_defaultOrder": 11,
    "_isFastLaunch": false,
    "category": "General purpose",
    "gpuNum": 0,
    "hideHardwareSpecs": false,
    "memoryGiB": 384,
    "name": "ml.m5.24xlarge",
    "vcpuNum": 96
   },
   {
    "_defaultOrder": 12,
    "_isFastLaunch": false,
    "category": "General purpose",
    "gpuNum": 0,
    "hideHardwareSpecs": false,
    "memoryGiB": 8,
    "name": "ml.m5d.large",
    "vcpuNum": 2
   },
   {
    "_defaultOrder": 13,
    "_isFastLaunch": false,
    "category": "General purpose",
    "gpuNum": 0,
    "hideHardwareSpecs": false,
    "memoryGiB": 16,
    "name": "ml.m5d.xlarge",
    "vcpuNum": 4
   },
   {
    "_defaultOrder": 14,
    "_isFastLaunch": false,
    "category": "General purpose",
    "gpuNum": 0,
    "hideHardwareSpecs": false,
    "memoryGiB": 32,
    "name": "ml.m5d.2xlarge",
    "vcpuNum": 8
   },
   {
    "_defaultOrder": 15,
    "_isFastLaunch": false,
    "category": "General purpose",
    "gpuNum": 0,
    "hideHardwareSpecs": false,
    "memoryGiB": 64,
    "name": "ml.m5d.4xlarge",
    "vcpuNum": 16
   },
   {
    "_defaultOrder": 16,
    "_isFastLaunch": false,
    "category": "General purpose",
    "gpuNum": 0,
    "hideHardwareSpecs": false,
    "memoryGiB": 128,
    "name": "ml.m5d.8xlarge",
    "vcpuNum": 32
   },
   {
    "_defaultOrder": 17,
    "_isFastLaunch": false,
    "category": "General purpose",
    "gpuNum": 0,
    "hideHardwareSpecs": false,
    "memoryGiB": 192,
    "name": "ml.m5d.12xlarge",
    "vcpuNum": 48
   },
   {
    "_defaultOrder": 18,
    "_isFastLaunch": false,
    "category": "General purpose",
    "gpuNum": 0,
    "hideHardwareSpecs": false,
    "memoryGiB": 256,
    "name": "ml.m5d.16xlarge",
    "vcpuNum": 64
   },
   {
    "_defaultOrder": 19,
    "_isFastLaunch": false,
    "category": "General purpose",
    "gpuNum": 0,
    "hideHardwareSpecs": false,
    "memoryGiB": 384,
    "name": "ml.m5d.24xlarge",
    "vcpuNum": 96
   },
   {
    "_defaultOrder": 20,
    "_isFastLaunch": false,
    "category": "General purpose",
    "gpuNum": 0,
    "hideHardwareSpecs": true,
    "memoryGiB": 0,
    "name": "ml.geospatial.interactive",
    "supportedImageNames": [
     "sagemaker-geospatial-v1-0"
    ],
    "vcpuNum": 0
   },
   {
    "_defaultOrder": 21,
    "_isFastLaunch": true,
    "category": "Compute optimized",
    "gpuNum": 0,
    "hideHardwareSpecs": false,
    "memoryGiB": 4,
    "name": "ml.c5.large",
    "vcpuNum": 2
   },
   {
    "_defaultOrder": 22,
    "_isFastLaunch": false,
    "category": "Compute optimized",
    "gpuNum": 0,
    "hideHardwareSpecs": false,
    "memoryGiB": 8,
    "name": "ml.c5.xlarge",
    "vcpuNum": 4
   },
   {
    "_defaultOrder": 23,
    "_isFastLaunch": false,
    "category": "Compute optimized",
    "gpuNum": 0,
    "hideHardwareSpecs": false,
    "memoryGiB": 16,
    "name": "ml.c5.2xlarge",
    "vcpuNum": 8
   },
   {
    "_defaultOrder": 24,
    "_isFastLaunch": false,
    "category": "Compute optimized",
    "gpuNum": 0,
    "hideHardwareSpecs": false,
    "memoryGiB": 32,
    "name": "ml.c5.4xlarge",
    "vcpuNum": 16
   },
   {
    "_defaultOrder": 25,
    "_isFastLaunch": false,
    "category": "Compute optimized",
    "gpuNum": 0,
    "hideHardwareSpecs": false,
    "memoryGiB": 72,
    "name": "ml.c5.9xlarge",
    "vcpuNum": 36
   },
   {
    "_defaultOrder": 26,
    "_isFastLaunch": false,
    "category": "Compute optimized",
    "gpuNum": 0,
    "hideHardwareSpecs": false,
    "memoryGiB": 96,
    "name": "ml.c5.12xlarge",
    "vcpuNum": 48
   },
   {
    "_defaultOrder": 27,
    "_isFastLaunch": false,
    "category": "Compute optimized",
    "gpuNum": 0,
    "hideHardwareSpecs": false,
    "memoryGiB": 144,
    "name": "ml.c5.18xlarge",
    "vcpuNum": 72
   },
   {
    "_defaultOrder": 28,
    "_isFastLaunch": false,
    "category": "Compute optimized",
    "gpuNum": 0,
    "hideHardwareSpecs": false,
    "memoryGiB": 192,
    "name": "ml.c5.24xlarge",
    "vcpuNum": 96
   },
   {
    "_defaultOrder": 29,
    "_isFastLaunch": true,
    "category": "Accelerated computing",
    "gpuNum": 1,
    "hideHardwareSpecs": false,
    "memoryGiB": 16,
    "name": "ml.g4dn.xlarge",
    "vcpuNum": 4
   },
   {
    "_defaultOrder": 30,
    "_isFastLaunch": false,
    "category": "Accelerated computing",
    "gpuNum": 1,
    "hideHardwareSpecs": false,
    "memoryGiB": 32,
    "name": "ml.g4dn.2xlarge",
    "vcpuNum": 8
   },
   {
    "_defaultOrder": 31,
    "_isFastLaunch": false,
    "category": "Accelerated computing",
    "gpuNum": 1,
    "hideHardwareSpecs": false,
    "memoryGiB": 64,
    "name": "ml.g4dn.4xlarge",
    "vcpuNum": 16
   },
   {
    "_defaultOrder": 32,
    "_isFastLaunch": false,
    "category": "Accelerated computing",
    "gpuNum": 1,
    "hideHardwareSpecs": false,
    "memoryGiB": 128,
    "name": "ml.g4dn.8xlarge",
    "vcpuNum": 32
   },
   {
    "_defaultOrder": 33,
    "_isFastLaunch": false,
    "category": "Accelerated computing",
    "gpuNum": 4,
    "hideHardwareSpecs": false,
    "memoryGiB": 192,
    "name": "ml.g4dn.12xlarge",
    "vcpuNum": 48
   },
   {
    "_defaultOrder": 34,
    "_isFastLaunch": false,
    "category": "Accelerated computing",
    "gpuNum": 1,
    "hideHardwareSpecs": false,
    "memoryGiB": 256,
    "name": "ml.g4dn.16xlarge",
    "vcpuNum": 64
   },
   {
    "_defaultOrder": 35,
    "_isFastLaunch": false,
    "category": "Accelerated computing",
    "gpuNum": 1,
    "hideHardwareSpecs": false,
    "memoryGiB": 61,
    "name": "ml.p3.2xlarge",
    "vcpuNum": 8
   },
   {
    "_defaultOrder": 36,
    "_isFastLaunch": false,
    "category": "Accelerated computing",
    "gpuNum": 4,
    "hideHardwareSpecs": false,
    "memoryGiB": 244,
    "name": "ml.p3.8xlarge",
    "vcpuNum": 32
   },
   {
    "_defaultOrder": 37,
    "_isFastLaunch": false,
    "category": "Accelerated computing",
    "gpuNum": 8,
    "hideHardwareSpecs": false,
    "memoryGiB": 488,
    "name": "ml.p3.16xlarge",
    "vcpuNum": 64
   },
   {
    "_defaultOrder": 38,
    "_isFastLaunch": false,
    "category": "Accelerated computing",
    "gpuNum": 8,
    "hideHardwareSpecs": false,
    "memoryGiB": 768,
    "name": "ml.p3dn.24xlarge",
    "vcpuNum": 96
   },
   {
    "_defaultOrder": 39,
    "_isFastLaunch": false,
    "category": "Memory Optimized",
    "gpuNum": 0,
    "hideHardwareSpecs": false,
    "memoryGiB": 16,
    "name": "ml.r5.large",
    "vcpuNum": 2
   },
   {
    "_defaultOrder": 40,
    "_isFastLaunch": false,
    "category": "Memory Optimized",
    "gpuNum": 0,
    "hideHardwareSpecs": false,
    "memoryGiB": 32,
    "name": "ml.r5.xlarge",
    "vcpuNum": 4
   },
   {
    "_defaultOrder": 41,
    "_isFastLaunch": false,
    "category": "Memory Optimized",
    "gpuNum": 0,
    "hideHardwareSpecs": false,
    "memoryGiB": 64,
    "name": "ml.r5.2xlarge",
    "vcpuNum": 8
   },
   {
    "_defaultOrder": 42,
    "_isFastLaunch": false,
    "category": "Memory Optimized",
    "gpuNum": 0,
    "hideHardwareSpecs": false,
    "memoryGiB": 128,
    "name": "ml.r5.4xlarge",
    "vcpuNum": 16
   },
   {
    "_defaultOrder": 43,
    "_isFastLaunch": false,
    "category": "Memory Optimized",
    "gpuNum": 0,
    "hideHardwareSpecs": false,
    "memoryGiB": 256,
    "name": "ml.r5.8xlarge",
    "vcpuNum": 32
   },
   {
    "_defaultOrder": 44,
    "_isFastLaunch": false,
    "category": "Memory Optimized",
    "gpuNum": 0,
    "hideHardwareSpecs": false,
    "memoryGiB": 384,
    "name": "ml.r5.12xlarge",
    "vcpuNum": 48
   },
   {
    "_defaultOrder": 45,
    "_isFastLaunch": false,
    "category": "Memory Optimized",
    "gpuNum": 0,
    "hideHardwareSpecs": false,
    "memoryGiB": 512,
    "name": "ml.r5.16xlarge",
    "vcpuNum": 64
   },
   {
    "_defaultOrder": 46,
    "_isFastLaunch": false,
    "category": "Memory Optimized",
    "gpuNum": 0,
    "hideHardwareSpecs": false,
    "memoryGiB": 768,
    "name": "ml.r5.24xlarge",
    "vcpuNum": 96
   },
   {
    "_defaultOrder": 47,
    "_isFastLaunch": false,
    "category": "Accelerated computing",
    "gpuNum": 1,
    "hideHardwareSpecs": false,
    "memoryGiB": 16,
    "name": "ml.g5.xlarge",
    "vcpuNum": 4
   },
   {
    "_defaultOrder": 48,
    "_isFastLaunch": false,
    "category": "Accelerated computing",
    "gpuNum": 1,
    "hideHardwareSpecs": false,
    "memoryGiB": 32,
    "name": "ml.g5.2xlarge",
    "vcpuNum": 8
   },
   {
    "_defaultOrder": 49,
    "_isFastLaunch": false,
    "category": "Accelerated computing",
    "gpuNum": 1,
    "hideHardwareSpecs": false,
    "memoryGiB": 64,
    "name": "ml.g5.4xlarge",
    "vcpuNum": 16
   },
   {
    "_defaultOrder": 50,
    "_isFastLaunch": false,
    "category": "Accelerated computing",
    "gpuNum": 1,
    "hideHardwareSpecs": false,
    "memoryGiB": 128,
    "name": "ml.g5.8xlarge",
    "vcpuNum": 32
   },
   {
    "_defaultOrder": 51,
    "_isFastLaunch": false,
    "category": "Accelerated computing",
    "gpuNum": 1,
    "hideHardwareSpecs": false,
    "memoryGiB": 256,
    "name": "ml.g5.16xlarge",
    "vcpuNum": 64
   },
   {
    "_defaultOrder": 52,
    "_isFastLaunch": false,
    "category": "Accelerated computing",
    "gpuNum": 4,
    "hideHardwareSpecs": false,
    "memoryGiB": 192,
    "name": "ml.g5.12xlarge",
    "vcpuNum": 48
   },
   {
    "_defaultOrder": 53,
    "_isFastLaunch": false,
    "category": "Accelerated computing",
    "gpuNum": 4,
    "hideHardwareSpecs": false,
    "memoryGiB": 384,
    "name": "ml.g5.24xlarge",
    "vcpuNum": 96
   },
   {
    "_defaultOrder": 54,
    "_isFastLaunch": false,
    "category": "Accelerated computing",
    "gpuNum": 8,
    "hideHardwareSpecs": false,
    "memoryGiB": 768,
    "name": "ml.g5.48xlarge",
    "vcpuNum": 192
   },
   {
    "_defaultOrder": 55,
    "_isFastLaunch": false,
    "category": "Accelerated computing",
    "gpuNum": 8,
    "hideHardwareSpecs": false,
    "memoryGiB": 1152,
    "name": "ml.p4d.24xlarge",
    "vcpuNum": 96
   },
   {
    "_defaultOrder": 56,
    "_isFastLaunch": false,
    "category": "Accelerated computing",
    "gpuNum": 8,
    "hideHardwareSpecs": false,
    "memoryGiB": 1152,
    "name": "ml.p4de.24xlarge",
    "vcpuNum": 96
   }
  ],
  "kernelspec": {
   "display_name": "Python 3 (Base Python 3.0)",
   "language": "python",
   "name": "python3__SAGEMAKER_INTERNAL__arn:aws:sagemaker:eu-west-1:470317259841:image/sagemaker-base-python-310-v1"
  },
  "language_info": {
   "codemirror_mode": {
    "name": "ipython",
    "version": 3
   },
   "file_extension": ".py",
   "mimetype": "text/x-python",
   "name": "python",
   "nbconvert_exporter": "python",
   "pygments_lexer": "ipython3",
   "version": "3.10.8"
  }
 },
 "nbformat": 4,
 "nbformat_minor": 5
}
