{
 "cells": [
  {
   "cell_type": "code",
   "execution_count": null,
   "id": "786f1121-3d2c-4c3f-8a57-d5e33b7be39c",
   "metadata": {
    "tags": []
   },
   "outputs": [],
   "source": [
    "!pip install pandas numpy sentence-transformers transformers matplotlib scikit-learn  concrete-ml"
   ]
  },
  {
   "cell_type": "code",
   "execution_count": null,
   "id": "26246f37-9ee6-4c35-a3fb-7e9629b513e6",
   "metadata": {},
   "outputs": [],
   "source": []
  },
  {
   "cell_type": "code",
   "execution_count": 3,
   "id": "ab9e0d1e-812f-4e77-a55d-c5f14b6ab52a",
   "metadata": {
    "tags": []
   },
   "outputs": [],
   "source": [
    "import json\n",
    "import random\n",
    "import numpy as np\n",
    "import pandas as pd\n",
    "#from tqdm.notebook import tqdm\n",
    "from tqdm import tqdm\n",
    "import pickle\n",
    "#import pickle5 as pickle\n",
    "import torch\n",
    "import json\n",
    "from time import time\n",
    "from sentence_transformers import SentenceTransformer\n",
    "#import tenseal as ts\n",
    "from sklearn.model_selection import train_test_split\n",
    "from sklearn.linear_model import LogisticRegression\n",
    "from sklearn.metrics import accuracy_score, recall_score, precision_score, f1_score\n",
    "from sklearn.metrics import precision_recall_curve, auc, roc_auc_score\n",
    "from sklearn.model_selection import GridSearchCV\n",
    "from sklearn.metrics import classification_report\n",
    "from sklearn.preprocessing import StandardScaler\n",
    "from sklearn.decomposition import PCA\n",
    "\n",
    "from sklearn.multiclass import OneVsRestClassifier\n",
    "from sklearn.svm import LinearSVC\n",
    "from sklearn import ensemble"
   ]
  },
  {
   "cell_type": "code",
   "execution_count": 8,
   "id": "66363fce-6c03-4df6-91d4-ee68de10ef8b",
   "metadata": {
    "tags": []
   },
   "outputs": [
    {
     "name": "stderr",
     "output_type": "stream",
     "text": [
      "Exception ignored on calling ctypes callback function: <function _ThreadpoolInfo._find_modules_with_dl_iterate_phdr.<locals>.match_module_callback at 0x7fc9a82e03a0>\n",
      "Traceback (most recent call last):\n",
      "  File \"/opt/conda/lib/python3.10/site-packages/threadpoolctl.py\", line 400, in match_module_callback\n",
      "    self._make_module_from_path(filepath)\n",
      "  File \"/opt/conda/lib/python3.10/site-packages/threadpoolctl.py\", line 515, in _make_module_from_path\n",
      "    module = module_class(filepath, prefix, user_api, internal_api)\n",
      "  File \"/opt/conda/lib/python3.10/site-packages/threadpoolctl.py\", line 606, in __init__\n",
      "    self.version = self.get_version()\n",
      "  File \"/opt/conda/lib/python3.10/site-packages/threadpoolctl.py\", line 646, in get_version\n",
      "    config = get_config().split()\n",
      "AttributeError: 'NoneType' object has no attribute 'split'\n"
     ]
    }
   ],
   "source": [
    "\n",
    "# import the concrete-ml LinearSVC implementation\n",
    "from concrete.ml.sklearn.svm import LinearSVC as ConcreteLinearSVC\n",
    "from concrete.ml.sklearn import LogisticRegression as ConcreteLogisticRegression"
   ]
  },
  {
   "cell_type": "code",
   "execution_count": 7,
   "id": "8a9df4e9-97b3-4286-b954-3bc4d3003d87",
   "metadata": {
    "tags": []
   },
   "outputs": [],
   "source": [
    "pd.set_option('max_colwidth', 400)"
   ]
  },
  {
   "cell_type": "code",
   "execution_count": null,
   "id": "be851009-c313-48ed-b79e-b28261559159",
   "metadata": {},
   "outputs": [],
   "source": []
  },
  {
   "cell_type": "code",
   "execution_count": 5,
   "id": "a754c2bd-1911-4a9f-90f7-73fe20570873",
   "metadata": {},
   "outputs": [],
   "source": [
    "train_df = pd.read_pickle(\"./train_data.pkl\")\n",
    "test_df = pd.read_pickle(\"./test_data.pkl\")\n",
    "dev_df = pd.read_pickle(\"./dev_data.pkl\")"
   ]
  },
  {
   "cell_type": "code",
   "execution_count": 34,
   "id": "37b7407b-7973-43ef-940d-a4e891bfbcdb",
   "metadata": {},
   "outputs": [
    {
     "name": "stdout",
     "output_type": "stream",
     "text": [
      "<class 'pandas.core.frame.DataFrame'>\n",
      "RangeIndex: 8544 entries, 0 to 8543\n",
      "Data columns (total 2 columns):\n",
      " #   Column  Non-Null Count  Dtype   \n",
      "---  ------  --------------  -----   \n",
      " 0   label   8544 non-null   category\n",
      " 1   text    8544 non-null   object  \n",
      "dtypes: category(1), object(1)\n",
      "memory usage: 75.3+ KB\n"
     ]
    }
   ],
   "source": [
    "train_df.info()"
   ]
  },
  {
   "cell_type": "code",
   "execution_count": 36,
   "id": "b6d2d5e4-6888-41cf-bd7a-f927e18e84f7",
   "metadata": {
    "tags": []
   },
   "outputs": [
    {
     "data": {
      "text/html": [
       "<div>\n",
       "<style scoped>\n",
       "    .dataframe tbody tr th:only-of-type {\n",
       "        vertical-align: middle;\n",
       "    }\n",
       "\n",
       "    .dataframe tbody tr th {\n",
       "        vertical-align: top;\n",
       "    }\n",
       "\n",
       "    .dataframe thead th {\n",
       "        text-align: right;\n",
       "    }\n",
       "</style>\n",
       "<table border=\"1\" class=\"dataframe\">\n",
       "  <thead>\n",
       "    <tr style=\"text-align: right;\">\n",
       "      <th></th>\n",
       "      <th>label</th>\n",
       "      <th>text</th>\n",
       "    </tr>\n",
       "  </thead>\n",
       "  <tbody>\n",
       "    <tr>\n",
       "      <th>0</th>\n",
       "      <td>4</td>\n",
       "      <td>The Rock is destined to be the 21st Century 's new `` Conan '' and that he 's going to make a splash even greater than Arnold Schwarzenegger , Jean-Claud Van Damme or Steven Segal .</td>\n",
       "    </tr>\n",
       "    <tr>\n",
       "      <th>1</th>\n",
       "      <td>5</td>\n",
       "      <td>The gorgeously elaborate continuation of `` The Lord of the Rings '' trilogy is so huge that a column of words can not adequately describe co-writer/director Peter Jackson 's expanded vision of J.R.R. Tolkien 's Middle-earth .</td>\n",
       "    </tr>\n",
       "    <tr>\n",
       "      <th>2</th>\n",
       "      <td>4</td>\n",
       "      <td>Singer/composer Bryan Adams contributes a slew of songs -- a few potential hits , a few more simply intrusive to the story -- but the whole package certainly captures the intended , er , spirit of the piece .</td>\n",
       "    </tr>\n",
       "    <tr>\n",
       "      <th>3</th>\n",
       "      <td>3</td>\n",
       "      <td>You 'd think by now America would have had enough of plucky British eccentrics with hearts of gold .</td>\n",
       "    </tr>\n",
       "    <tr>\n",
       "      <th>4</th>\n",
       "      <td>4</td>\n",
       "      <td>Yet the act is still charming here .</td>\n",
       "    </tr>\n",
       "  </tbody>\n",
       "</table>\n",
       "</div>"
      ],
      "text/plain": [
       "  label  \\\n",
       "0     4   \n",
       "1     5   \n",
       "2     4   \n",
       "3     3   \n",
       "4     4   \n",
       "\n",
       "                                                                                                                                                                                                                                 text  \n",
       "0                                               The Rock is destined to be the 21st Century 's new `` Conan '' and that he 's going to make a splash even greater than Arnold Schwarzenegger , Jean-Claud Van Damme or Steven Segal .  \n",
       "1  The gorgeously elaborate continuation of `` The Lord of the Rings '' trilogy is so huge that a column of words can not adequately describe co-writer/director Peter Jackson 's expanded vision of J.R.R. Tolkien 's Middle-earth .  \n",
       "2                    Singer/composer Bryan Adams contributes a slew of songs -- a few potential hits , a few more simply intrusive to the story -- but the whole package certainly captures the intended , er , spirit of the piece .  \n",
       "3                                                                                                                                You 'd think by now America would have had enough of plucky British eccentrics with hearts of gold .  \n",
       "4                                                                                                                                                                                                Yet the act is still charming here .  "
      ]
     },
     "execution_count": 36,
     "metadata": {},
     "output_type": "execute_result"
    }
   ],
   "source": [
    "train_df.head()"
   ]
  },
  {
   "cell_type": "code",
   "execution_count": 18,
   "id": "1677a142-1184-46cb-a774-b4eb13c2aefd",
   "metadata": {
    "tags": []
   },
   "outputs": [
    {
     "data": {
      "text/html": [
       "<div>\n",
       "<style scoped>\n",
       "    .dataframe tbody tr th:only-of-type {\n",
       "        vertical-align: middle;\n",
       "    }\n",
       "\n",
       "    .dataframe tbody tr th {\n",
       "        vertical-align: top;\n",
       "    }\n",
       "\n",
       "    .dataframe thead th {\n",
       "        text-align: right;\n",
       "    }\n",
       "</style>\n",
       "<table border=\"1\" class=\"dataframe\">\n",
       "  <thead>\n",
       "    <tr style=\"text-align: right;\">\n",
       "      <th></th>\n",
       "      <th>label</th>\n",
       "      <th>text</th>\n",
       "    </tr>\n",
       "  </thead>\n",
       "  <tbody>\n",
       "    <tr>\n",
       "      <th>45</th>\n",
       "      <td>1</td>\n",
       "      <td>... a sour little movie at its core ; an exploration of the emptiness that underlay the relentless gaiety of the 1920 's ... The film 's ending has a `` What was it all for ? ''</td>\n",
       "    </tr>\n",
       "    <tr>\n",
       "      <th>434</th>\n",
       "      <td>1</td>\n",
       "      <td>As it is , it 's too long and unfocused .</td>\n",
       "    </tr>\n",
       "    <tr>\n",
       "      <th>455</th>\n",
       "      <td>1</td>\n",
       "      <td>A decided lack of spontaneity in its execution and a dearth of real poignancy in its epiphanies .</td>\n",
       "    </tr>\n",
       "    <tr>\n",
       "      <th>459</th>\n",
       "      <td>1</td>\n",
       "      <td>You 'll forget about it by Monday , though , and if they 're old enough to have developed some taste , so will your kids .</td>\n",
       "    </tr>\n",
       "    <tr>\n",
       "      <th>605</th>\n",
       "      <td>1</td>\n",
       "      <td>The Ya-Ya 's have many secrets and one is - the books are better .</td>\n",
       "    </tr>\n",
       "    <tr>\n",
       "      <th>...</th>\n",
       "      <td>...</td>\n",
       "      <td>...</td>\n",
       "    </tr>\n",
       "    <tr>\n",
       "      <th>8530</th>\n",
       "      <td>1</td>\n",
       "      <td>... really horrible drek .</td>\n",
       "    </tr>\n",
       "    <tr>\n",
       "      <th>8534</th>\n",
       "      <td>1</td>\n",
       "      <td>Rashomon-for-dipsticks tale .</td>\n",
       "    </tr>\n",
       "    <tr>\n",
       "      <th>8537</th>\n",
       "      <td>1</td>\n",
       "      <td>Staggeringly dreadful romance .</td>\n",
       "    </tr>\n",
       "    <tr>\n",
       "      <th>8539</th>\n",
       "      <td>1</td>\n",
       "      <td>A real snooze .</td>\n",
       "    </tr>\n",
       "    <tr>\n",
       "      <th>8542</th>\n",
       "      <td>1</td>\n",
       "      <td>Her fans walked out muttering words like `` horrible '' and `` terrible , '' but had so much fun dissing the film that they did n't mind the ticket cost .</td>\n",
       "    </tr>\n",
       "  </tbody>\n",
       "</table>\n",
       "<p>1092 rows × 2 columns</p>\n",
       "</div>"
      ],
      "text/plain": [
       "     label  \\\n",
       "45       1   \n",
       "434      1   \n",
       "455      1   \n",
       "459      1   \n",
       "605      1   \n",
       "...    ...   \n",
       "8530     1   \n",
       "8534     1   \n",
       "8537     1   \n",
       "8539     1   \n",
       "8542     1   \n",
       "\n",
       "                                                                                                                                                                                   text  \n",
       "45    ... a sour little movie at its core ; an exploration of the emptiness that underlay the relentless gaiety of the 1920 's ... The film 's ending has a `` What was it all for ? ''  \n",
       "434                                                                                                                                           As it is , it 's too long and unfocused .  \n",
       "455                                                                                   A decided lack of spontaneity in its execution and a dearth of real poignancy in its epiphanies .  \n",
       "459                                                          You 'll forget about it by Monday , though , and if they 're old enough to have developed some taste , so will your kids .  \n",
       "605                                                                                                                  The Ya-Ya 's have many secrets and one is - the books are better .  \n",
       "...                                                                                                                                                                                 ...  \n",
       "8530                                                                                                                                                         ... really horrible drek .  \n",
       "8534                                                                                                                                                      Rashomon-for-dipsticks tale .  \n",
       "8537                                                                                                                                                    Staggeringly dreadful romance .  \n",
       "8539                                                                                                                                                                    A real snooze .  \n",
       "8542                         Her fans walked out muttering words like `` horrible '' and `` terrible , '' but had so much fun dissing the film that they did n't mind the ticket cost .  \n",
       "\n",
       "[1092 rows x 2 columns]"
      ]
     },
     "execution_count": 18,
     "metadata": {},
     "output_type": "execute_result"
    }
   ],
   "source": [
    "train_df.loc[train_df.label==1]"
   ]
  },
  {
   "cell_type": "code",
   "execution_count": 17,
   "id": "873d15b3-4d85-48dd-9f5d-02d24ac40984",
   "metadata": {
    "tags": []
   },
   "outputs": [
    {
     "data": {
      "text/plain": [
       "[4, 5, 2, 1]\n",
       "Categories (5, int64): [1, 2, 3, 4, 5]"
      ]
     },
     "execution_count": 17,
     "metadata": {},
     "output_type": "execute_result"
    }
   ],
   "source": [
    "train_df.label.unique()"
   ]
  },
  {
   "cell_type": "code",
   "execution_count": 7,
   "id": "5e80336a-c8dd-4872-a731-bf39d74123d4",
   "metadata": {
    "tags": []
   },
   "outputs": [
    {
     "name": "stdout",
     "output_type": "stream",
     "text": [
      "<class 'pandas.core.frame.DataFrame'>\n",
      "Int64Index: 6920 entries, 0 to 8543\n",
      "Data columns (total 2 columns):\n",
      " #   Column  Non-Null Count  Dtype   \n",
      "---  ------  --------------  -----   \n",
      " 0   label   6920 non-null   category\n",
      " 1   text    6920 non-null   object  \n",
      "dtypes: category(1), object(1)\n",
      "memory usage: 115.1+ KB\n"
     ]
    }
   ],
   "source": [
    "# cleaning - remove the rows with label 3 (neutral)\n",
    "train_df = train_df[train_df['label'] != 3]\n",
    "train_df.info()"
   ]
  },
  {
   "cell_type": "code",
   "execution_count": 8,
   "id": "93698394-ed67-4052-b533-7abcc51da6d2",
   "metadata": {
    "tags": []
   },
   "outputs": [
    {
     "name": "stdout",
     "output_type": "stream",
     "text": [
      "<class 'pandas.core.frame.DataFrame'>\n",
      "Int64Index: 872 entries, 0 to 1100\n",
      "Data columns (total 2 columns):\n",
      " #   Column  Non-Null Count  Dtype   \n",
      "---  ------  --------------  -----   \n",
      " 0   label   872 non-null    category\n",
      " 1   text    872 non-null    object  \n",
      "dtypes: category(1), object(1)\n",
      "memory usage: 14.7+ KB\n"
     ]
    }
   ],
   "source": [
    "# cleaning - remove the rows with label 3 (neutral)\n",
    "dev_df = dev_df[dev_df['label'] != 3]\n",
    "dev_df.info()"
   ]
  },
  {
   "cell_type": "code",
   "execution_count": 9,
   "id": "a5b18703-1244-42b1-aa5a-99573aaaf98a",
   "metadata": {
    "tags": []
   },
   "outputs": [
    {
     "name": "stdout",
     "output_type": "stream",
     "text": [
      "<class 'pandas.core.frame.DataFrame'>\n",
      "Int64Index: 1821 entries, 1 to 2209\n",
      "Data columns (total 2 columns):\n",
      " #   Column  Non-Null Count  Dtype   \n",
      "---  ------  --------------  -----   \n",
      " 0   label   1821 non-null   category\n",
      " 1   text    1821 non-null   object  \n",
      "dtypes: category(1), object(1)\n",
      "memory usage: 30.4+ KB\n"
     ]
    }
   ],
   "source": [
    "# cleaning - remove the rows with label 3 (neutral)\n",
    "test_df = test_df[test_df['label'] != 3]\n",
    "test_df.info()"
   ]
  },
  {
   "cell_type": "code",
   "execution_count": 18,
   "id": "643a97da-7d27-41f3-8141-848597dad660",
   "metadata": {
    "tags": []
   },
   "outputs": [
    {
     "name": "stdout",
     "output_type": "stream",
     "text": [
      "<class 'pandas.core.frame.DataFrame'>\n",
      "RangeIndex: 1101 entries, 0 to 1100\n",
      "Data columns (total 2 columns):\n",
      " #   Column  Non-Null Count  Dtype   \n",
      "---  ------  --------------  -----   \n",
      " 0   label   1101 non-null   category\n",
      " 1   text    1101 non-null   object  \n",
      "dtypes: category(1), object(1)\n",
      "memory usage: 9.8+ KB\n"
     ]
    }
   ],
   "source": [
    "dev_df.info()"
   ]
  },
  {
   "cell_type": "code",
   "execution_count": 10,
   "id": "ab8393cd-ed48-45d3-ad97-0bd9f0ead1ba",
   "metadata": {
    "tags": []
   },
   "outputs": [],
   "source": [
    "df_train = pd.concat([train_df, dev_df],axis=0, ignore_index=True)"
   ]
  },
  {
   "cell_type": "code",
   "execution_count": 11,
   "id": "061d9007-274b-4d8a-9bba-62802b9c5794",
   "metadata": {
    "tags": []
   },
   "outputs": [
    {
     "data": {
      "text/plain": [
       "[5, 1]\n",
       "Categories (3, int64): [1, 3, 5]"
      ]
     },
     "execution_count": 11,
     "metadata": {},
     "output_type": "execute_result"
    }
   ],
   "source": [
    "df_train['label'] = df_train['label'].replace([2, 4], [1, 5])\n",
    "test_df['label'] = test_df['label'].replace([2, 4], [1, 5])\n",
    "df_train['label'].unique()"
   ]
  },
  {
   "cell_type": "code",
   "execution_count": 12,
   "id": "ac1fba74-174a-40e1-9ed9-a0f2849ea8c4",
   "metadata": {
    "tags": []
   },
   "outputs": [
    {
     "data": {
      "text/plain": [
       "[0, 1]\n",
       "Categories (3, int64): [1, 3, 0]"
      ]
     },
     "execution_count": 12,
     "metadata": {},
     "output_type": "execute_result"
    }
   ],
   "source": [
    "# 1 is negative, 0 is positive review\n",
    "\n",
    "df_train['label'] = df_train['label'].replace([5], [0])\n",
    "test_df['label'] = test_df['label'].replace([5], [0])\n",
    "df_train['label'].unique()"
   ]
  },
  {
   "cell_type": "code",
   "execution_count": 22,
   "id": "83e31afa-e77b-41fc-ae8b-1fc2e9dd9d77",
   "metadata": {
    "tags": []
   },
   "outputs": [
    {
     "data": {
      "text/html": [
       "<div>\n",
       "<style scoped>\n",
       "    .dataframe tbody tr th:only-of-type {\n",
       "        vertical-align: middle;\n",
       "    }\n",
       "\n",
       "    .dataframe tbody tr th {\n",
       "        vertical-align: top;\n",
       "    }\n",
       "\n",
       "    .dataframe thead th {\n",
       "        text-align: right;\n",
       "    }\n",
       "</style>\n",
       "<table border=\"1\" class=\"dataframe\">\n",
       "  <thead>\n",
       "    <tr style=\"text-align: right;\">\n",
       "      <th></th>\n",
       "      <th>label</th>\n",
       "      <th>text</th>\n",
       "    </tr>\n",
       "  </thead>\n",
       "  <tbody>\n",
       "    <tr>\n",
       "      <th>7771</th>\n",
       "      <td>1</td>\n",
       "      <td>The film tries too hard to be funny and tries too hard to be hip .</td>\n",
       "    </tr>\n",
       "    <tr>\n",
       "      <th>7772</th>\n",
       "      <td>1</td>\n",
       "      <td>The end result is a film that 's neither .</td>\n",
       "    </tr>\n",
       "    <tr>\n",
       "      <th>7773</th>\n",
       "      <td>1</td>\n",
       "      <td>Every nanosecond of the The New Guy reminds you that you could be doing something else far more pleasurable .</td>\n",
       "    </tr>\n",
       "    <tr>\n",
       "      <th>7774</th>\n",
       "      <td>1</td>\n",
       "      <td>Something like scrubbing the toilet .</td>\n",
       "    </tr>\n",
       "    <tr>\n",
       "      <th>7775</th>\n",
       "      <td>1</td>\n",
       "      <td>Or emptying rat traps .</td>\n",
       "    </tr>\n",
       "    <tr>\n",
       "      <th>7776</th>\n",
       "      <td>1</td>\n",
       "      <td>Or doing last year 's taxes with your ex-wife .</td>\n",
       "    </tr>\n",
       "    <tr>\n",
       "      <th>7778</th>\n",
       "      <td>1</td>\n",
       "      <td>/ But Daphne , you 're too Buff / Fred thinks he 's tough / And Velma - wow , you 've lost weight !</td>\n",
       "    </tr>\n",
       "    <tr>\n",
       "      <th>7779</th>\n",
       "      <td>1</td>\n",
       "      <td>Is the time really ripe for a warmed-over James Bond adventure , with a village idiot as the 007 clone ?</td>\n",
       "    </tr>\n",
       "    <tr>\n",
       "      <th>7780</th>\n",
       "      <td>1</td>\n",
       "      <td>There 's enough melodrama in this Magnolia Primavera to make PTA proud yet director Muccino 's characters are less worthy of Puccini than they are of daytime television .</td>\n",
       "    </tr>\n",
       "    <tr>\n",
       "      <th>7781</th>\n",
       "      <td>1</td>\n",
       "      <td>However it may please those who love movies that blare with pop songs , young science fiction fans will stomp away in disgust .</td>\n",
       "    </tr>\n",
       "    <tr>\n",
       "      <th>7782</th>\n",
       "      <td>1</td>\n",
       "      <td>The humor is n't as sharp , the effects not as innovative , nor the story as imaginative as in the original .</td>\n",
       "    </tr>\n",
       "    <tr>\n",
       "      <th>7783</th>\n",
       "      <td>1</td>\n",
       "      <td>But it could have been worse .</td>\n",
       "    </tr>\n",
       "    <tr>\n",
       "      <th>7784</th>\n",
       "      <td>1</td>\n",
       "      <td>Some of their jokes work , but most fail miserably and in the end , Pumpkin is far more offensive than it is funny .</td>\n",
       "    </tr>\n",
       "    <tr>\n",
       "      <th>7785</th>\n",
       "      <td>1</td>\n",
       "      <td>Even horror fans will most likely not find what they 're seeking with Trouble Every Day ; the movie lacks both thrills and humor .</td>\n",
       "    </tr>\n",
       "    <tr>\n",
       "      <th>7786</th>\n",
       "      <td>1</td>\n",
       "      <td>comes off like a rejected ABC Afterschool Special , freshened up by the dunce of a Screenwriting 101 class .</td>\n",
       "    </tr>\n",
       "    <tr>\n",
       "      <th>7787</th>\n",
       "      <td>1</td>\n",
       "      <td>... Designed to provide a mix of smiles and tears , `` Crossroads '' instead provokes a handful of unintentional howlers and numerous yawns .</td>\n",
       "    </tr>\n",
       "    <tr>\n",
       "      <th>7788</th>\n",
       "      <td>1</td>\n",
       "      <td>it seems to me the film is about the art of ripping people off without ever letting them consciously know you have done so</td>\n",
       "    </tr>\n",
       "    <tr>\n",
       "      <th>7789</th>\n",
       "      <td>1</td>\n",
       "      <td>It 's just disappointingly superficial -- a movie that has all the elements necessary to be a fascinating , involving character study , but never does more than scratch the surface .</td>\n",
       "    </tr>\n",
       "    <tr>\n",
       "      <th>7790</th>\n",
       "      <td>1</td>\n",
       "      <td>The title not only describes its main characters , but the lazy people behind the camera as well .</td>\n",
       "    </tr>\n",
       "    <tr>\n",
       "      <th>7791</th>\n",
       "      <td>1</td>\n",
       "      <td>Schaeffer has to find some hook on which to hang his persistently useless movies , and it might as well be the resuscitation of the middle-aged character .</td>\n",
       "    </tr>\n",
       "  </tbody>\n",
       "</table>\n",
       "</div>"
      ],
      "text/plain": [
       "     label  \\\n",
       "7771     1   \n",
       "7772     1   \n",
       "7773     1   \n",
       "7774     1   \n",
       "7775     1   \n",
       "7776     1   \n",
       "7778     1   \n",
       "7779     1   \n",
       "7780     1   \n",
       "7781     1   \n",
       "7782     1   \n",
       "7783     1   \n",
       "7784     1   \n",
       "7785     1   \n",
       "7786     1   \n",
       "7787     1   \n",
       "7788     1   \n",
       "7789     1   \n",
       "7790     1   \n",
       "7791     1   \n",
       "\n",
       "                                                                                                                                                                                        text  \n",
       "7771                                                                                                                      The film tries too hard to be funny and tries too hard to be hip .  \n",
       "7772                                                                                                                                              The end result is a film that 's neither .  \n",
       "7773                                                                           Every nanosecond of the The New Guy reminds you that you could be doing something else far more pleasurable .  \n",
       "7774                                                                                                                                                   Something like scrubbing the toilet .  \n",
       "7775                                                                                                                                                                 Or emptying rat traps .  \n",
       "7776                                                                                                                                         Or doing last year 's taxes with your ex-wife .  \n",
       "7778                                                                                     / But Daphne , you 're too Buff / Fred thinks he 's tough / And Velma - wow , you 've lost weight !  \n",
       "7779                                                                                Is the time really ripe for a warmed-over James Bond adventure , with a village idiot as the 007 clone ?  \n",
       "7780              There 's enough melodrama in this Magnolia Primavera to make PTA proud yet director Muccino 's characters are less worthy of Puccini than they are of daytime television .  \n",
       "7781                                                         However it may please those who love movies that blare with pop songs , young science fiction fans will stomp away in disgust .  \n",
       "7782                                                                           The humor is n't as sharp , the effects not as innovative , nor the story as imaginative as in the original .  \n",
       "7783                                                                                                                                                          But it could have been worse .  \n",
       "7784                                                                    Some of their jokes work , but most fail miserably and in the end , Pumpkin is far more offensive than it is funny .  \n",
       "7785                                                      Even horror fans will most likely not find what they 're seeking with Trouble Every Day ; the movie lacks both thrills and humor .  \n",
       "7786                                                                            comes off like a rejected ABC Afterschool Special , freshened up by the dunce of a Screenwriting 101 class .  \n",
       "7787                                           ... Designed to provide a mix of smiles and tears , `` Crossroads '' instead provokes a handful of unintentional howlers and numerous yawns .  \n",
       "7788                                                              it seems to me the film is about the art of ripping people off without ever letting them consciously know you have done so  \n",
       "7789  It 's just disappointingly superficial -- a movie that has all the elements necessary to be a fascinating , involving character study , but never does more than scratch the surface .  \n",
       "7790                                                                                      The title not only describes its main characters , but the lazy people behind the camera as well .  \n",
       "7791                             Schaeffer has to find some hook on which to hang his persistently useless movies , and it might as well be the resuscitation of the middle-aged character .  "
      ]
     },
     "execution_count": 22,
     "metadata": {},
     "output_type": "execute_result"
    }
   ],
   "source": [
    "df_train.loc[df_train.label==1].tail(20)"
   ]
  },
  {
   "cell_type": "code",
   "execution_count": 13,
   "id": "87842607-4ceb-48a9-9fbf-98ca2667dbe0",
   "metadata": {
    "tags": []
   },
   "outputs": [
    {
     "data": {
      "text/html": [
       "<div>\n",
       "<style scoped>\n",
       "    .dataframe tbody tr th:only-of-type {\n",
       "        vertical-align: middle;\n",
       "    }\n",
       "\n",
       "    .dataframe tbody tr th {\n",
       "        vertical-align: top;\n",
       "    }\n",
       "\n",
       "    .dataframe thead th {\n",
       "        text-align: right;\n",
       "    }\n",
       "</style>\n",
       "<table border=\"1\" class=\"dataframe\">\n",
       "  <thead>\n",
       "    <tr style=\"text-align: right;\">\n",
       "      <th></th>\n",
       "      <th>label</th>\n",
       "      <th>text</th>\n",
       "    </tr>\n",
       "  </thead>\n",
       "  <tbody>\n",
       "    <tr>\n",
       "      <th>count</th>\n",
       "      <td>1821</td>\n",
       "      <td>1821</td>\n",
       "    </tr>\n",
       "    <tr>\n",
       "      <th>unique</th>\n",
       "      <td>2</td>\n",
       "      <td>1821</td>\n",
       "    </tr>\n",
       "    <tr>\n",
       "      <th>top</th>\n",
       "      <td>1</td>\n",
       "      <td>If you sometimes like to go to the movies to have fun , Wasabi is a good place to start .</td>\n",
       "    </tr>\n",
       "    <tr>\n",
       "      <th>freq</th>\n",
       "      <td>912</td>\n",
       "      <td>1</td>\n",
       "    </tr>\n",
       "  </tbody>\n",
       "</table>\n",
       "</div>"
      ],
      "text/plain": [
       "        label  \\\n",
       "count    1821   \n",
       "unique      2   \n",
       "top         1   \n",
       "freq      912   \n",
       "\n",
       "                                                                                             text  \n",
       "count                                                                                        1821  \n",
       "unique                                                                                       1821  \n",
       "top     If you sometimes like to go to the movies to have fun , Wasabi is a good place to start .  \n",
       "freq                                                                                            1  "
      ]
     },
     "execution_count": 13,
     "metadata": {},
     "output_type": "execute_result"
    }
   ],
   "source": [
    "test_df.describe()"
   ]
  },
  {
   "cell_type": "code",
   "execution_count": 14,
   "id": "86afdd6d-99bb-4f8d-a8d8-f8beff6f07dc",
   "metadata": {
    "tags": []
   },
   "outputs": [
    {
     "data": {
      "text/html": [
       "<div>\n",
       "<style scoped>\n",
       "    .dataframe tbody tr th:only-of-type {\n",
       "        vertical-align: middle;\n",
       "    }\n",
       "\n",
       "    .dataframe tbody tr th {\n",
       "        vertical-align: top;\n",
       "    }\n",
       "\n",
       "    .dataframe thead th {\n",
       "        text-align: right;\n",
       "    }\n",
       "</style>\n",
       "<table border=\"1\" class=\"dataframe\">\n",
       "  <thead>\n",
       "    <tr style=\"text-align: right;\">\n",
       "      <th></th>\n",
       "      <th>label</th>\n",
       "      <th>text</th>\n",
       "    </tr>\n",
       "  </thead>\n",
       "  <tbody>\n",
       "    <tr>\n",
       "      <th>0</th>\n",
       "      <td>0</td>\n",
       "      <td>The Rock is destined to be the 21st Century 's new `` Conan '' and that he 's going to make a splash even greater than Arnold Schwarzenegger , Jean-Claud Van Damme or Steven Segal .</td>\n",
       "    </tr>\n",
       "    <tr>\n",
       "      <th>1</th>\n",
       "      <td>0</td>\n",
       "      <td>The gorgeously elaborate continuation of `` The Lord of the Rings '' trilogy is so huge that a column of words can not adequately describe co-writer/director Peter Jackson 's expanded vision of J.R.R. Tolkien 's Middle-earth .</td>\n",
       "    </tr>\n",
       "    <tr>\n",
       "      <th>2</th>\n",
       "      <td>0</td>\n",
       "      <td>Singer/composer Bryan Adams contributes a slew of songs -- a few potential hits , a few more simply intrusive to the story -- but the whole package certainly captures the intended , er , spirit of the piece .</td>\n",
       "    </tr>\n",
       "    <tr>\n",
       "      <th>3</th>\n",
       "      <td>0</td>\n",
       "      <td>Yet the act is still charming here .</td>\n",
       "    </tr>\n",
       "    <tr>\n",
       "      <th>4</th>\n",
       "      <td>0</td>\n",
       "      <td>Whether or not you 're enlightened by any of Derrida 's lectures on `` the other '' and `` the self , '' Derrida is an undeniably fascinating and playful fellow .</td>\n",
       "    </tr>\n",
       "  </tbody>\n",
       "</table>\n",
       "</div>"
      ],
      "text/plain": [
       "  label  \\\n",
       "0     0   \n",
       "1     0   \n",
       "2     0   \n",
       "3     0   \n",
       "4     0   \n",
       "\n",
       "                                                                                                                                                                                                                                 text  \n",
       "0                                               The Rock is destined to be the 21st Century 's new `` Conan '' and that he 's going to make a splash even greater than Arnold Schwarzenegger , Jean-Claud Van Damme or Steven Segal .  \n",
       "1  The gorgeously elaborate continuation of `` The Lord of the Rings '' trilogy is so huge that a column of words can not adequately describe co-writer/director Peter Jackson 's expanded vision of J.R.R. Tolkien 's Middle-earth .  \n",
       "2                    Singer/composer Bryan Adams contributes a slew of songs -- a few potential hits , a few more simply intrusive to the story -- but the whole package certainly captures the intended , er , spirit of the piece .  \n",
       "3                                                                                                                                                                                                Yet the act is still charming here .  \n",
       "4                                                                  Whether or not you 're enlightened by any of Derrida 's lectures on `` the other '' and `` the self , '' Derrida is an undeniably fascinating and playful fellow .  "
      ]
     },
     "execution_count": 14,
     "metadata": {},
     "output_type": "execute_result"
    }
   ],
   "source": [
    "df_all = pd.concat([df_train, test_df],axis=0, ignore_index=True)\n",
    "df_all.head()"
   ]
  },
  {
   "cell_type": "code",
   "execution_count": 60,
   "id": "1ec1597e-a81c-4453-81b6-9dc75e253ac3",
   "metadata": {
    "tags": []
   },
   "outputs": [
    {
     "data": {
      "text/html": [
       "<div>\n",
       "<style scoped>\n",
       "    .dataframe tbody tr th:only-of-type {\n",
       "        vertical-align: middle;\n",
       "    }\n",
       "\n",
       "    .dataframe tbody tr th {\n",
       "        vertical-align: top;\n",
       "    }\n",
       "\n",
       "    .dataframe thead th {\n",
       "        text-align: right;\n",
       "    }\n",
       "</style>\n",
       "<table border=\"1\" class=\"dataframe\">\n",
       "  <thead>\n",
       "    <tr style=\"text-align: right;\">\n",
       "      <th></th>\n",
       "      <th>label</th>\n",
       "      <th>text</th>\n",
       "    </tr>\n",
       "  </thead>\n",
       "  <tbody>\n",
       "    <tr>\n",
       "      <th>count</th>\n",
       "      <td>9613</td>\n",
       "      <td>9613</td>\n",
       "    </tr>\n",
       "    <tr>\n",
       "      <th>unique</th>\n",
       "      <td>2</td>\n",
       "      <td>9602</td>\n",
       "    </tr>\n",
       "    <tr>\n",
       "      <th>top</th>\n",
       "      <td>0</td>\n",
       "      <td>What 's next ?</td>\n",
       "    </tr>\n",
       "    <tr>\n",
       "      <th>freq</th>\n",
       "      <td>4963</td>\n",
       "      <td>3</td>\n",
       "    </tr>\n",
       "  </tbody>\n",
       "</table>\n",
       "</div>"
      ],
      "text/plain": [
       "        label            text\n",
       "count    9613            9613\n",
       "unique      2            9602\n",
       "top         0  What 's next ?\n",
       "freq     4963               3"
      ]
     },
     "execution_count": 60,
     "metadata": {},
     "output_type": "execute_result"
    }
   ],
   "source": [
    "df_all.describe()"
   ]
  },
  {
   "cell_type": "code",
   "execution_count": 61,
   "id": "7c1869ea-41a2-4755-b621-df043146f7fa",
   "metadata": {
    "tags": []
   },
   "outputs": [
    {
     "data": {
      "text/html": [
       "<div>\n",
       "<style scoped>\n",
       "    .dataframe tbody tr th:only-of-type {\n",
       "        vertical-align: middle;\n",
       "    }\n",
       "\n",
       "    .dataframe tbody tr th {\n",
       "        vertical-align: top;\n",
       "    }\n",
       "\n",
       "    .dataframe thead th {\n",
       "        text-align: right;\n",
       "    }\n",
       "</style>\n",
       "<table border=\"1\" class=\"dataframe\">\n",
       "  <thead>\n",
       "    <tr style=\"text-align: right;\">\n",
       "      <th></th>\n",
       "      <th>label</th>\n",
       "      <th>text</th>\n",
       "      <th>length</th>\n",
       "    </tr>\n",
       "  </thead>\n",
       "  <tbody>\n",
       "    <tr>\n",
       "      <th>0</th>\n",
       "      <td>0</td>\n",
       "      <td>The Rock is destined to be the 21st Century 's new `` Conan '' and that he 's going to make a splash even greater than Arnold Schwarzenegger , Jean-Claud Van Damme or Steven Segal .</td>\n",
       "      <td>36</td>\n",
       "    </tr>\n",
       "    <tr>\n",
       "      <th>1</th>\n",
       "      <td>0</td>\n",
       "      <td>The gorgeously elaborate continuation of `` The Lord of the Rings '' trilogy is so huge that a column of words can not adequately describe co-writer/director Peter Jackson 's expanded vision of J.R.R. Tolkien 's Middle-earth .</td>\n",
       "      <td>37</td>\n",
       "    </tr>\n",
       "    <tr>\n",
       "      <th>2</th>\n",
       "      <td>0</td>\n",
       "      <td>Singer/composer Bryan Adams contributes a slew of songs -- a few potential hits , a few more simply intrusive to the story -- but the whole package certainly captures the intended , er , spirit of the piece .</td>\n",
       "      <td>39</td>\n",
       "    </tr>\n",
       "    <tr>\n",
       "      <th>3</th>\n",
       "      <td>0</td>\n",
       "      <td>Yet the act is still charming here .</td>\n",
       "      <td>8</td>\n",
       "    </tr>\n",
       "    <tr>\n",
       "      <th>4</th>\n",
       "      <td>0</td>\n",
       "      <td>Whether or not you 're enlightened by any of Derrida 's lectures on `` the other '' and `` the self , '' Derrida is an undeniably fascinating and playful fellow .</td>\n",
       "      <td>32</td>\n",
       "    </tr>\n",
       "  </tbody>\n",
       "</table>\n",
       "</div>"
      ],
      "text/plain": [
       "  label  \\\n",
       "0     0   \n",
       "1     0   \n",
       "2     0   \n",
       "3     0   \n",
       "4     0   \n",
       "\n",
       "                                                                                                                                                                                                                                 text  \\\n",
       "0                                               The Rock is destined to be the 21st Century 's new `` Conan '' and that he 's going to make a splash even greater than Arnold Schwarzenegger , Jean-Claud Van Damme or Steven Segal .   \n",
       "1  The gorgeously elaborate continuation of `` The Lord of the Rings '' trilogy is so huge that a column of words can not adequately describe co-writer/director Peter Jackson 's expanded vision of J.R.R. Tolkien 's Middle-earth .   \n",
       "2                    Singer/composer Bryan Adams contributes a slew of songs -- a few potential hits , a few more simply intrusive to the story -- but the whole package certainly captures the intended , er , spirit of the piece .   \n",
       "3                                                                                                                                                                                                Yet the act is still charming here .   \n",
       "4                                                                  Whether or not you 're enlightened by any of Derrida 's lectures on `` the other '' and `` the self , '' Derrida is an undeniably fascinating and playful fellow .   \n",
       "\n",
       "   length  \n",
       "0      36  \n",
       "1      37  \n",
       "2      39  \n",
       "3       8  \n",
       "4      32  "
      ]
     },
     "execution_count": 61,
     "metadata": {},
     "output_type": "execute_result"
    }
   ],
   "source": [
    "# Lets see how many words are in each review by creating the length column.\n",
    "df_all['length'] = df_all['text'].str.split().apply(len).astype(int).round(1)\n",
    "df_all.head()"
   ]
  },
  {
   "cell_type": "code",
   "execution_count": 70,
   "id": "04695e84-c478-46ba-82ce-cdd8cece5c57",
   "metadata": {
    "tags": []
   },
   "outputs": [
    {
     "data": {
      "text/html": [
       "<div>\n",
       "<style scoped>\n",
       "    .dataframe tbody tr th:only-of-type {\n",
       "        vertical-align: middle;\n",
       "    }\n",
       "\n",
       "    .dataframe tbody tr th {\n",
       "        vertical-align: top;\n",
       "    }\n",
       "\n",
       "    .dataframe thead th {\n",
       "        text-align: right;\n",
       "    }\n",
       "</style>\n",
       "<table border=\"1\" class=\"dataframe\">\n",
       "  <thead>\n",
       "    <tr style=\"text-align: right;\">\n",
       "      <th></th>\n",
       "      <th>length</th>\n",
       "    </tr>\n",
       "  </thead>\n",
       "  <tbody>\n",
       "    <tr>\n",
       "      <th>count</th>\n",
       "      <td>9613.000000</td>\n",
       "    </tr>\n",
       "    <tr>\n",
       "      <th>mean</th>\n",
       "      <td>19.309685</td>\n",
       "    </tr>\n",
       "    <tr>\n",
       "      <th>std</th>\n",
       "      <td>9.194963</td>\n",
       "    </tr>\n",
       "    <tr>\n",
       "      <th>min</th>\n",
       "      <td>2.000000</td>\n",
       "    </tr>\n",
       "    <tr>\n",
       "      <th>25%</th>\n",
       "      <td>12.000000</td>\n",
       "    </tr>\n",
       "    <tr>\n",
       "      <th>50%</th>\n",
       "      <td>19.000000</td>\n",
       "    </tr>\n",
       "    <tr>\n",
       "      <th>75%</th>\n",
       "      <td>25.000000</td>\n",
       "    </tr>\n",
       "    <tr>\n",
       "      <th>max</th>\n",
       "      <td>56.000000</td>\n",
       "    </tr>\n",
       "  </tbody>\n",
       "</table>\n",
       "</div>"
      ],
      "text/plain": [
       "            length\n",
       "count  9613.000000\n",
       "mean     19.309685\n",
       "std       9.194963\n",
       "min       2.000000\n",
       "25%      12.000000\n",
       "50%      19.000000\n",
       "75%      25.000000\n",
       "max      56.000000"
      ]
     },
     "execution_count": 70,
     "metadata": {},
     "output_type": "execute_result"
    }
   ],
   "source": [
    "df_all.describe()"
   ]
  },
  {
   "cell_type": "code",
   "execution_count": 63,
   "id": "32602f8e-2094-41e1-986a-6dc443cd9de7",
   "metadata": {
    "tags": []
   },
   "outputs": [
    {
     "data": {
      "text/plain": [
       "<Axes: ylabel='Frequency'>"
      ]
     },
     "execution_count": 63,
     "metadata": {},
     "output_type": "execute_result"
    },
    {
     "data": {
      "image/png": "[encoded data removed]",
      "text/plain": [
       "<Figure size 640x480 with 1 Axes>"
      ]
     },
     "metadata": {},
     "output_type": "display_data"
    }
   ],
   "source": [
    "# Lets see the disribution of the review lengths\n",
    "df_all['length'].plot(bins = 60, kind = 'hist')"
   ]
  },
  {
   "cell_type": "code",
   "execution_count": 64,
   "id": "628f6ae2-6bf1-42b5-9550-5fff65c37cc3",
   "metadata": {
    "tags": []
   },
   "outputs": [
    {
     "name": "stdout",
     "output_type": "stream",
     "text": [
      "Number of negative examples: 4963\n",
      "Number of positive examples: 4650\n"
     ]
    }
   ],
   "source": [
    "print(f'Number of negative examples: {len(df_all.loc[df_all.label==0])}')\n",
    "print(f'Number of positive examples: {len(df_all.loc[df_all.label==1])}')"
   ]
  },
  {
   "cell_type": "code",
   "execution_count": 65,
   "id": "f0f38907-5c8c-4099-8f6a-d934c779b517",
   "metadata": {
    "tags": []
   },
   "outputs": [],
   "source": [
    "y = df_all['label']"
   ]
  },
  {
   "cell_type": "code",
   "execution_count": 67,
   "id": "0e9cc03a-e1ab-4ebe-8314-189fbfb9a274",
   "metadata": {
    "tags": []
   },
   "outputs": [
    {
     "data": {
      "text/plain": [
       "9613"
      ]
     },
     "execution_count": 67,
     "metadata": {},
     "output_type": "execute_result"
    }
   ],
   "source": [
    " y.value_counts().sum()"
   ]
  },
  {
   "cell_type": "code",
   "execution_count": 68,
   "id": "fc96cedf-83b6-4267-81c8-baf3506f3e8b",
   "metadata": {
    "tags": []
   },
   "outputs": [
    {
     "name": "stdout",
     "output_type": "stream",
     "text": [
      "Proportion of positive examples: 48.37%\n",
      "Proportion of negative examples: 51.63%\n"
     ]
    }
   ],
   "source": [
    "pos_ratio = y.value_counts()[1] / y.value_counts().sum()\n",
    "neg_ratio = y.value_counts()[0] / y.value_counts().sum()\n",
    "\n",
    "print(f'Proportion of positive examples: {round(pos_ratio * 100, 2)}%')\n",
    "print(f'Proportion of negative examples: {round(neg_ratio * 100, 2)}%')"
   ]
  },
  {
   "cell_type": "markdown",
   "id": "e09e0640-0f62-4136-9dc0-d7d0c5e55c91",
   "metadata": {
    "tags": []
   },
   "source": [
    "### Embeddings"
   ]
  },
  {
   "cell_type": "code",
   "execution_count": 17,
   "id": "6bb7e1c8-1144-4dc3-886e-583241cedb71",
   "metadata": {
    "tags": []
   },
   "outputs": [
    {
     "name": "stderr",
     "output_type": "stream",
     "text": [
      "No sentence-transformers model found with name /root/data/pretrained_models/sentiment-roberta-large-english-3-classes. Creating a new one with MEAN pooling.\n"
     ]
    }
   ],
   "source": [
    "# a model for 3 class sentiment\n",
    "model_roberta_s3 = SentenceTransformer('/root/data/pretrained_models/sentiment-roberta-large-english-3-classes')"
   ]
  },
  {
   "cell_type": "code",
   "execution_count": 19,
   "id": "3a354c6e-ea52-4051-9df6-db27c63c99b6",
   "metadata": {
    "tags": []
   },
   "outputs": [
    {
     "name": "stderr",
     "output_type": "stream",
     "text": [
      "7792it [02:19, 55.70it/s]\n"
     ]
    }
   ],
   "source": [
    "# Do encoding in batches\n",
    "embeddings = []\n",
    "batch_size = 64\n",
    "batch = []\n",
    "for row in tqdm(df_train.itertuples()):\n",
    "    description =row.text\n",
    "    batch.append(description)\n",
    "    if len(batch) >= batch_size:\n",
    "        embeddings.append(model_roberta_s3.encode(batch))  # Text -> vector encoding happens here\n",
    "        batch = []\n",
    "\n",
    "if len(batch) > 0:\n",
    "    embeddings.append(model_roberta_s3.encode(batch))\n",
    "    batch = []\n",
    "\n",
    "embeddings = np.concatenate(embeddings)"
   ]
  },
  {
   "cell_type": "code",
   "execution_count": 20,
   "id": "bf42e723-717f-4d9c-ba81-fabc5fb0e5c5",
   "metadata": {
    "tags": []
   },
   "outputs": [],
   "source": [
    "sentences = df_train['text']\n",
    "labels = df_train['label']"
   ]
  },
  {
   "cell_type": "code",
   "execution_count": 21,
   "id": "79d9df3a-a5c5-4720-b86c-d45f2c226dd9",
   "metadata": {
    "tags": []
   },
   "outputs": [],
   "source": [
    "#Store sentences & embeddings \n",
    "with open('./embeddings_sent_train_sstb_2.pkl', \"wb\") as fOut:\n",
    "    pickle.dump({'sentences': sentences, 'embeddings': embeddings, 'labels': labels}, fOut, protocol=pickle.HIGHEST_PROTOCOL)"
   ]
  },
  {
   "cell_type": "code",
   "execution_count": 22,
   "id": "0404dd4a-5533-4f89-a661-7ce671b1cddb",
   "metadata": {
    "tags": []
   },
   "outputs": [
    {
     "name": "stderr",
     "output_type": "stream",
     "text": [
      "1821it [00:33, 55.17it/s]\n"
     ]
    }
   ],
   "source": [
    "# Do encoding in batches\n",
    "embeddings = []\n",
    "batch_size = 64\n",
    "batch = []\n",
    "for row in tqdm(test_df.itertuples()):\n",
    "    description =row.text\n",
    "    batch.append(description)\n",
    "    if len(batch) >= batch_size:\n",
    "        embeddings.append(model_roberta_s3.encode(batch))  # Text -> vector encoding happens here\n",
    "        batch = []\n",
    "\n",
    "if len(batch) > 0:\n",
    "    embeddings.append(model_roberta_s3.encode(batch))\n",
    "    batch = []\n",
    "\n",
    "embeddings = np.concatenate(embeddings)"
   ]
  },
  {
   "cell_type": "code",
   "execution_count": 23,
   "id": "9e9cab72-bc95-4eeb-b402-48892e743757",
   "metadata": {
    "tags": []
   },
   "outputs": [],
   "source": [
    "sentences = test_df['text']\n",
    "labels = test_df['label']"
   ]
  },
  {
   "cell_type": "code",
   "execution_count": 24,
   "id": "b9ceb0c5-15e0-4ff3-8cbf-e4b3b911d518",
   "metadata": {
    "tags": []
   },
   "outputs": [],
   "source": [
    "#Store sentences & embeddings \n",
    "with open('./embeddings_sent_test_sstb_2.pkl', \"wb\") as fOut:\n",
    "    pickle.dump({'sentences': sentences, 'embeddings': embeddings, 'labels': labels}, fOut, protocol=pickle.HIGHEST_PROTOCOL)"
   ]
  },
  {
   "cell_type": "code",
   "execution_count": 9,
   "id": "81356f33-5d26-4cdf-b254-ac412044fd85",
   "metadata": {
    "tags": []
   },
   "outputs": [],
   "source": [
    "#Load sentences & embeddings from disc\n",
    "with open('./embeddings_sent_train_sstb_2.pkl', \"rb\") as fIn:\n",
    "    stored_data = pickle.load(fIn)\n",
    "    sentences_train = stored_data['sentences']\n",
    "    embeddings_train = stored_data['embeddings']\n",
    "    labels_train = stored_data['labels']  "
   ]
  },
  {
   "cell_type": "code",
   "execution_count": 10,
   "id": "7a85ce7c-18b5-4abe-becc-114110ff052d",
   "metadata": {
    "tags": []
   },
   "outputs": [],
   "source": [
    "#Load sentences & embeddings from disc\n",
    "with open('./embeddings_sent_test_sstb_2.pkl', \"rb\") as fIn:\n",
    "    stored_data = pickle.load(fIn)\n",
    "    sentences_test = stored_data['sentences']\n",
    "    embeddings_test = stored_data['embeddings']\n",
    "    labels_test = stored_data['labels']  "
   ]
  },
  {
   "cell_type": "code",
   "execution_count": null,
   "id": "33f9705d-8ab8-47cb-a6c3-748e8a2afd58",
   "metadata": {},
   "outputs": [],
   "source": []
  },
  {
   "cell_type": "code",
   "execution_count": null,
   "id": "fb3d7409-2f82-4137-8ac1-f1be0c422d84",
   "metadata": {},
   "outputs": [],
   "source": []
  },
  {
   "cell_type": "markdown",
   "id": "f0347202-3b37-43fa-b9c5-24568c698055",
   "metadata": {},
   "source": [
    "### PCA features"
   ]
  },
  {
   "cell_type": "code",
   "execution_count": 11,
   "id": "4fbf747b-a4b1-4a55-a03f-ec762a29162e",
   "metadata": {
    "tags": []
   },
   "outputs": [
    {
     "name": "stdout",
     "output_type": "stream",
     "text": [
      "(7792, 1024)\n",
      "(7792,)\n",
      "(1821, 1024)\n",
      "(1821,)\n"
     ]
    }
   ],
   "source": [
    "print(embeddings_train.shape)\n",
    "print(labels_train.shape)\n",
    "print(embeddings_test.shape)\n",
    "print(labels_test.shape)"
   ]
  },
  {
   "cell_type": "code",
   "execution_count": 12,
   "id": "029b5cfd-cdaa-477d-abb4-80d6f96e20cc",
   "metadata": {
    "tags": []
   },
   "outputs": [],
   "source": [
    "X_train = embeddings_train\n",
    "y_train = labels_train\n",
    "\n",
    "X_test = embeddings_test\n",
    "y_test = labels_test"
   ]
  },
  {
   "cell_type": "code",
   "execution_count": 13,
   "id": "89d294b6-0bcd-4754-a2e4-70cf1f9648ef",
   "metadata": {
    "tags": []
   },
   "outputs": [],
   "source": [
    "X_train = StandardScaler(with_std=True).fit_transform(X_train)"
   ]
  },
  {
   "cell_type": "code",
   "execution_count": 14,
   "id": "c973a2f8-07ce-4336-853e-59ecbaf6dad3",
   "metadata": {
    "tags": []
   },
   "outputs": [],
   "source": [
    "pca_train = PCA(n_components=20)\n",
    "pca_test = PCA(n_components=20)\n",
    "\n",
    "X_reduced_dimension_train = pca_train.fit_transform(X_train)\n",
    "X_reduced_dimension_test = pca_test.fit_transform(X_test)"
   ]
  },
  {
   "cell_type": "code",
   "execution_count": 80,
   "id": "eee85546-35d9-4c1c-90e2-16949b533d9e",
   "metadata": {
    "tags": []
   },
   "outputs": [
    {
     "name": "stdout",
     "output_type": "stream",
     "text": [
      "Cumulative explained variation for 80 principal components: 0.9342116117477417\n"
     ]
    }
   ],
   "source": [
    "print('Cumulative explained variation for 80 principal components: {}'.format(np.sum(pca_train.explained_variance_ratio_)))"
   ]
  },
  {
   "cell_type": "code",
   "execution_count": 10,
   "id": "3dc93b49-8adf-44a0-8030-b5269323bfc9",
   "metadata": {
    "tags": []
   },
   "outputs": [
    {
     "name": "stdout",
     "output_type": "stream",
     "text": [
      "Cumulative explained variation for 60 principal components: 0.9252608418464661\n"
     ]
    }
   ],
   "source": [
    "print('Cumulative explained variation for 60 principal components: {}'.format(np.sum(pca_test.explained_variance_ratio_)))"
   ]
  },
  {
   "cell_type": "code",
   "execution_count": 10,
   "id": "8e7ef4e1-e8fe-4690-8a71-7feba0eca779",
   "metadata": {
    "tags": []
   },
   "outputs": [
    {
     "name": "stdout",
     "output_type": "stream",
     "text": [
      "Cumulative explained variation for 20 principal components: 0.8743910193443298\n"
     ]
    }
   ],
   "source": [
    "print('Cumulative explained variation for 20 principal components: {}'.format(np.sum(pca_test.explained_variance_ratio_)))"
   ]
  },
  {
   "cell_type": "code",
   "execution_count": 12,
   "id": "0652f6d3-0eab-4651-855c-61b33f382234",
   "metadata": {
    "tags": []
   },
   "outputs": [
    {
     "name": "stdout",
     "output_type": "stream",
     "text": [
      "Cumulative explained variation for 10 principal components: 0.8409968614578247\n"
     ]
    }
   ],
   "source": [
    "print('Cumulative explained variation for 10 principal components: {}'.format(np.sum(pca_test.explained_variance_ratio_)))"
   ]
  },
  {
   "cell_type": "code",
   "execution_count": 11,
   "id": "c818eb95-8d73-4966-8fe4-dd671636c6df",
   "metadata": {
    "tags": []
   },
   "outputs": [],
   "source": [
    "#Store sentences & embeddings \n",
    "with open('./embeddings_sent_train_sstb_pca_20.pkl', \"wb\") as fOut:\n",
    "    pickle.dump({'embeddings': X_reduced_dimension_train, 'labels': labels_train}, fOut, protocol=pickle.HIGHEST_PROTOCOL)"
   ]
  },
  {
   "cell_type": "code",
   "execution_count": 12,
   "id": "a02f8b0b-1b92-4182-aeca-f99d43f259fc",
   "metadata": {
    "tags": []
   },
   "outputs": [],
   "source": [
    "#Store sentences & embeddings \n",
    "with open('./embeddings_sent_test_sstb_pca_20.pkl', \"wb\") as fOut:\n",
    "    pickle.dump({ 'embeddings': X_reduced_dimension_test, 'labels': labels_test}, fOut, protocol=pickle.HIGHEST_PROTOCOL)"
   ]
  },
  {
   "cell_type": "code",
   "execution_count": 15,
   "id": "6ad8a564-8fed-408b-ae3e-b86a2bc9ea3e",
   "metadata": {
    "tags": []
   },
   "outputs": [],
   "source": [
    "#Load sentences & embeddings from disc\n",
    "with open('./embeddings_sent_train_sstb_pca_20.pkl', \"rb\") as fIn:\n",
    "    stored_data = pickle.load(fIn)\n",
    "    embeddings_train = stored_data['embeddings']\n",
    "    labels_train = stored_data['labels']  "
   ]
  },
  {
   "cell_type": "code",
   "execution_count": 16,
   "id": "2a93bbcf-3d02-4035-ba4e-9d0b57db41cc",
   "metadata": {
    "tags": []
   },
   "outputs": [],
   "source": [
    "#Load sentences & embeddings from disc\n",
    "with open('./embeddings_sent_test_sstb_pca_20.pkl', \"rb\") as fIn:\n",
    "    stored_data = pickle.load(fIn)\n",
    "    embeddings_test = stored_data['embeddings']\n",
    "    labels_test = stored_data['labels']  "
   ]
  },
  {
   "cell_type": "markdown",
   "id": "a64712c0-1fd7-4311-b1af-e6aa68a00664",
   "metadata": {},
   "source": [
    "### Encrypting in Concrete ML"
   ]
  },
  {
   "cell_type": "markdown",
   "id": "10d55e71-debc-40db-b220-9b4d8f8f12da",
   "metadata": {},
   "source": [
    "### Plain model"
   ]
  },
  {
   "cell_type": "code",
   "execution_count": 17,
   "id": "8bcb41ab-78ef-486c-bfeb-7c38e0958c17",
   "metadata": {
    "tags": []
   },
   "outputs": [
    {
     "data": {
      "text/plain": [
       "(7792, 20)"
      ]
     },
     "execution_count": 17,
     "metadata": {},
     "output_type": "execute_result"
    }
   ],
   "source": [
    "X_train = StandardScaler(with_std=True).fit_transform(embeddings_train)\n",
    "X_train.shape"
   ]
  },
  {
   "cell_type": "code",
   "execution_count": 18,
   "id": "477ef685-c28c-43c6-a2ec-61000371834c",
   "metadata": {
    "tags": []
   },
   "outputs": [],
   "source": [
    "y_train = labels_train"
   ]
  },
  {
   "cell_type": "code",
   "execution_count": 17,
   "id": "fc725c91-a706-4a00-bb0a-a0edcbbd0ed0",
   "metadata": {
    "tags": []
   },
   "outputs": [],
   "source": [
    "#X_train, X_test, y_train, y_test = train_test_split(X, y, stratify=y, test_size = 0.18, random_state = 10)"
   ]
  },
  {
   "cell_type": "code",
   "execution_count": 19,
   "id": "bfa16c36-d529-4954-989d-9e0839bfc167",
   "metadata": {
    "tags": []
   },
   "outputs": [
    {
     "data": {
      "text/plain": [
       "(1821, 20)"
      ]
     },
     "execution_count": 19,
     "metadata": {},
     "output_type": "execute_result"
    }
   ],
   "source": [
    "X_test = embeddings_test\n",
    "X_test.shape"
   ]
  },
  {
   "cell_type": "code",
   "execution_count": 20,
   "id": "110434bc-ea84-4408-b01e-a0f320e221b5",
   "metadata": {
    "tags": []
   },
   "outputs": [],
   "source": [
    "y_test = labels_test"
   ]
  },
  {
   "cell_type": "markdown",
   "id": "0223149d-2a91-46e9-8820-f244415c034d",
   "metadata": {
    "tags": []
   },
   "source": [
    "### Logistic regression"
   ]
  },
  {
   "cell_type": "code",
   "execution_count": 28,
   "id": "a9dc71d2-44d5-4fa0-8c56-ffb489d6208c",
   "metadata": {
    "tags": []
   },
   "outputs": [],
   "source": [
    "# parameter grid\n",
    "parameters = {\n",
    "    'penalty' : ['l2'], \n",
    "    'C'       : np.logspace(0.1, 1, 10, 12),\n",
    "    'solver'  : ['lbfgs'],\n",
    "}"
   ]
  },
  {
   "cell_type": "code",
   "execution_count": 19,
   "id": "7537467f-10c6-401c-86f8-171d0e63e5fa",
   "metadata": {
    "tags": []
   },
   "outputs": [],
   "source": [
    "import warnings\n",
    "warnings.filterwarnings(\"ignore\")"
   ]
  },
  {
   "cell_type": "code",
   "execution_count": 21,
   "id": "a56bf388-dedb-45e9-9f46-b6edacca7c8d",
   "metadata": {
    "tags": []
   },
   "outputs": [
    {
     "name": "stdout",
     "output_type": "stream",
     "text": [
      "Tuned Hyperparameters : {'C': 1.2589254117941673, 'penalty': 'l2', 'solver': 'lbfgs'}\n"
     ]
    }
   ],
   "source": [
    "logreg = LogisticRegression( class_weight = 'balanced')\n",
    "clf = GridSearchCV(logreg,                    # model\n",
    "                   param_grid = parameters,   # hyperparameters\n",
    "                   scoring= 'f1_macro',        # metric for scoring\n",
    "                   cv=8)    # number of folds #, refit= False\n",
    "\n",
    "clf.fit(X_train, y_train)\n",
    "print(\"Tuned Hyperparameters :\", clf.best_params_)"
   ]
  },
  {
   "cell_type": "code",
   "execution_count": 24,
   "id": "f31cd50c-b2ff-4fcd-8094-6baeccb1c9cd",
   "metadata": {
    "tags": []
   },
   "outputs": [],
   "source": [
    "# parameter grid\n",
    "parameters = {\n",
    "    'penalty' : ['l2'], \n",
    "    'C'       : np.logspace(0.1, 1, 10, 12),\n",
    "    'solver'  : ['saga'],\n",
    "}"
   ]
  },
  {
   "cell_type": "code",
   "execution_count": 22,
   "id": "71b4afdd-49f4-4752-94c3-75e7b368bd8c",
   "metadata": {
    "tags": []
   },
   "outputs": [
    {
     "name": "stdout",
     "output_type": "stream",
     "text": [
      "Model fitting to training data took 0 seconds\n"
     ]
    }
   ],
   "source": [
    "# instantiate the model\n",
    "t_start = time()\n",
    "logreg = LogisticRegression(solver='lbfgs', C= 1.2589254117941673, class_weight = 'balanced', penalty= 'l2', random_state=15)  # C= 1.2589\n",
    "# fit the model\n",
    "logreg.fit(X_train, y_train)\n",
    "t_end = time()\n",
    "print(f\"Model fitting to training data took {int(t_end - t_start)} seconds\")"
   ]
  },
  {
   "cell_type": "code",
   "execution_count": 23,
   "id": "9e95bf4f-ece2-4ac9-984b-d4d589be6efd",
   "metadata": {
    "tags": []
   },
   "outputs": [],
   "source": [
    "# prediction\n",
    "y_pred_test = logreg.predict(X_test)"
   ]
  },
  {
   "cell_type": "code",
   "execution_count": null,
   "id": "d5f8a2e9-298d-4da9-850e-9e5c5584b1dc",
   "metadata": {},
   "outputs": [],
   "source": []
  },
  {
   "cell_type": "code",
   "execution_count": 25,
   "id": "3cdea2aa-d851-4033-87e8-4956228e1526",
   "metadata": {
    "tags": []
   },
   "outputs": [
    {
     "name": "stdout",
     "output_type": "stream",
     "text": [
      "              precision    recall  f1-score   support\n",
      "\n",
      "           0     0.8190    0.8812    0.8490       909\n",
      "           1     0.8719    0.8059    0.8376       912\n",
      "\n",
      "    accuracy                         0.8435      1821\n",
      "   macro avg     0.8455    0.8436    0.8433      1821\n",
      "weighted avg     0.8455    0.8435    0.8433      1821\n",
      "\n"
     ]
    }
   ],
   "source": [
    "#20 pca\n",
    "print(classification_report(y_test, y_pred_test, digits=4))"
   ]
  },
  {
   "cell_type": "code",
   "execution_count": 26,
   "id": "be57634e-545e-4160-a9aa-b1ea800ac772",
   "metadata": {
    "tags": []
   },
   "outputs": [
    {
     "name": "stdout",
     "output_type": "stream",
     "text": [
      "Accuracy : 0.8435\n",
      "Precision score: 0.8455\n",
      "F1 score : 0.8433\n",
      "AUC Precision-Recall: 0.9231\n"
     ]
    }
   ],
   "source": [
    "print('Accuracy : {0:0.4f}'.format(accuracy_score(y_test, y_pred_test)))\n",
    "print('Precision score: {0:0.4f}'. format(precision_score(y_test, y_pred_test, average='macro')))\n",
    "print('F1 score : {0:0.4f}'.format(f1_score(y_test, y_pred_test,average='macro' )))\n",
    "# calculate precision-recall AUC\n",
    "auc_prc = roc_auc_score(y_test, logreg.predict_proba(X_test)[:,1], average='macro', multi_class='ovr')\n",
    "print('AUC Precision-Recall: {0:0.4f}'.format(auc_prc))"
   ]
  },
  {
   "cell_type": "code",
   "execution_count": null,
   "id": "ce5fc762-6c61-4d1e-bd0c-598ddbb61bbe",
   "metadata": {},
   "outputs": [],
   "source": []
  },
  {
   "cell_type": "code",
   "execution_count": 55,
   "id": "3534ff04-9cfb-4822-a51c-60e452ef023b",
   "metadata": {
    "tags": []
   },
   "outputs": [
    {
     "name": "stdout",
     "output_type": "stream",
     "text": [
      "              precision    recall  f1-score   support\n",
      "\n",
      "           0     0.9746    0.8031    0.8806       909\n",
      "           1     0.8330    0.9792    0.9002       912\n",
      "\n",
      "    accuracy                         0.8913      1821\n",
      "   macro avg     0.9038    0.8911    0.8904      1821\n",
      "weighted avg     0.9037    0.8913    0.8904      1821\n",
      "\n"
     ]
    }
   ],
   "source": [
    "print(classification_report(y_test, y_pred_test, digits=4))"
   ]
  },
  {
   "cell_type": "code",
   "execution_count": 56,
   "id": "b05bbc75-70f8-48b7-bb76-d2fc83a49882",
   "metadata": {
    "tags": []
   },
   "outputs": [
    {
     "name": "stdout",
     "output_type": "stream",
     "text": [
      "Accuracy : 0.8913\n",
      "Precision score: 0.9038\n",
      "F1 score : 0.8904\n",
      "AUC Precision-Recall: 0.9634\n"
     ]
    }
   ],
   "source": [
    "print('Accuracy : {0:0.4f}'.format(accuracy_score(y_test, y_pred_test)))\n",
    "print('Precision score: {0:0.4f}'. format(precision_score(y_test, y_pred_test, average='macro')))\n",
    "print('F1 score : {0:0.4f}'.format(f1_score(y_test, y_pred_test,average='macro' )))\n",
    "# calculate precision-recall AUC\n",
    "auc_prc = roc_auc_score(y_test, logreg.predict_proba(X_test)[:,1], average='macro', multi_class='ovr')\n",
    "print('AUC Precision-Recall: {0:0.4f}'.format(auc_prc))"
   ]
  },
  {
   "cell_type": "code",
   "execution_count": 44,
   "id": "9a1c3dfe-e6b6-48eb-9c02-c732b290c172",
   "metadata": {
    "tags": []
   },
   "outputs": [
    {
     "name": "stdout",
     "output_type": "stream",
     "text": [
      "Tuned Hyperparameters : {'C': 1.2589254117941673, 'penalty': 'l2', 'solver': 'lbfgs'}\n"
     ]
    }
   ],
   "source": [
    "logreg = LogisticRegression( class_weight = 'balanced')\n",
    "clf = GridSearchCV(logreg,                    # model\n",
    "                   param_grid = parameters,   # hyperparameters\n",
    "                   scoring= 'f1_macro',        # metric for scoring\n",
    "                   cv=8)    # number of folds #, refit= False\n",
    "\n",
    "clf.fit(X_train, y_train)\n",
    "print(\"Tuned Hyperparameters :\", clf.best_params_)"
   ]
  },
  {
   "cell_type": "code",
   "execution_count": null,
   "id": "175993cb-495d-4758-a51a-c6e6a62ba65a",
   "metadata": {},
   "outputs": [],
   "source": []
  },
  {
   "cell_type": "code",
   "execution_count": 36,
   "id": "84544a51-0dc7-47a2-ad9b-15e6dea774fe",
   "metadata": {
    "tags": []
   },
   "outputs": [
    {
     "name": "stdout",
     "output_type": "stream",
     "text": [
      "Model fitting to training data took 8 seconds\n"
     ]
    }
   ],
   "source": [
    "# instantiate the model\n",
    "t_start = time()\n",
    "logreg = LogisticRegression(solver='saga', C= 10.0, class_weight = 'balanced', penalty= 'l2', random_state=16)  # C= 1.2589\n",
    "# fit the model\n",
    "logreg.fit(X_train, y_train)\n",
    "t_end = time()\n",
    "print(f\"Model fitting to training data took {int(t_end - t_start)} seconds\")"
   ]
  },
  {
   "cell_type": "code",
   "execution_count": 37,
   "id": "8aac8f5f-5ff1-4edf-876d-bbbd488e80ec",
   "metadata": {
    "tags": []
   },
   "outputs": [],
   "source": [
    "# prediction\n",
    "y_pred_test = logreg.predict(X_test)"
   ]
  },
  {
   "cell_type": "code",
   "execution_count": 38,
   "id": "ccc5d220-58a0-40f4-8145-50037b46112c",
   "metadata": {
    "tags": []
   },
   "outputs": [
    {
     "name": "stdout",
     "output_type": "stream",
     "text": [
      "              precision    recall  f1-score   support\n",
      "\n",
      "           0     0.9793    0.7811    0.8690       909\n",
      "           1     0.8184    0.9836    0.8934       912\n",
      "\n",
      "    accuracy                         0.8825      1821\n",
      "   macro avg     0.8989    0.8823    0.8812      1821\n",
      "weighted avg     0.8987    0.8825    0.8812      1821\n",
      "\n"
     ]
    }
   ],
   "source": [
    "print(classification_report(y_test, y_pred_test, digits=4))"
   ]
  },
  {
   "cell_type": "code",
   "execution_count": 39,
   "id": "00fe9208-c376-431f-805a-eb185f365998",
   "metadata": {
    "tags": []
   },
   "outputs": [
    {
     "name": "stdout",
     "output_type": "stream",
     "text": [
      "Accuracy : 0.8825\n",
      "Precision score: 0.8989\n",
      "F1 score : 0.8812\n",
      "AUC Precision-Recall: 0.9725\n"
     ]
    }
   ],
   "source": [
    "print('Accuracy : {0:0.4f}'.format(accuracy_score(y_test, y_pred_test)))\n",
    "print('Precision score: {0:0.4f}'. format(precision_score(y_test, y_pred_test, average='macro')))\n",
    "print('F1 score : {0:0.4f}'.format(f1_score(y_test, y_pred_test,average='macro' )))\n",
    "# calculate precision-recall AUC\n",
    "auc_prc = roc_auc_score(y_test, logreg.predict_proba(X_test)[:,1], average='macro', multi_class='ovr')\n",
    "print('AUC Precision-Recall: {0:0.4f}'.format(auc_prc))"
   ]
  },
  {
   "cell_type": "markdown",
   "id": "8cc348d2-1e7e-47c1-97d8-36374b3413f4",
   "metadata": {
    "tags": []
   },
   "source": [
    "### Encrypted model"
   ]
  },
  {
   "cell_type": "code",
   "execution_count": 25,
   "id": "0c0494f0-0b8c-4252-8783-20d5fe9e3523",
   "metadata": {
    "tags": []
   },
   "outputs": [
    {
     "name": "stdout",
     "output_type": "stream",
     "text": [
      "Tuned Hyperparameters : {'C': 1.9952623149688797, 'penalty': 'l2', 'solver': 'saga'}\n"
     ]
    }
   ],
   "source": [
    "lg_enc = ConcreteLogisticRegression( class_weight = 'balanced')\n",
    "clf_enc = GridSearchCV(lg_enc,                    # model\n",
    "                   param_grid = parameters,   # hyperparameters\n",
    "                   scoring= 'f1_macro',        # metric for scoring\n",
    "                   cv=8)    # number of folds #, refit= False\n",
    "\n",
    "clf_enc.fit(X_train, y_train)\n",
    "print(\"Tuned Hyperparameters :\", clf_enc.best_params_)"
   ]
  },
  {
   "cell_type": "code",
   "execution_count": null,
   "id": "8b4173d7-7b7c-48db-bf3d-cb08bb78f6c1",
   "metadata": {},
   "outputs": [],
   "source": []
  },
  {
   "cell_type": "code",
   "execution_count": 29,
   "id": "86f50c19-92c2-48fa-92f1-3723fda7cb84",
   "metadata": {
    "tags": []
   },
   "outputs": [
    {
     "name": "stdout",
     "output_type": "stream",
     "text": [
      "Tuned Hyperparameters : {'C': 1.2589254117941673, 'penalty': 'l2', 'solver': 'lbfgs'}\n"
     ]
    }
   ],
   "source": [
    "# 20 pca\n",
    "lg_enc = ConcreteLogisticRegression( class_weight = 'balanced')\n",
    "clf_enc = GridSearchCV(lg_enc,                    # model\n",
    "                   param_grid = parameters,   # hyperparameters\n",
    "                   scoring= 'f1_macro',        # metric for scoring\n",
    "                   cv=8)    # number of folds #, refit= False\n",
    "\n",
    "clf_enc.fit(X_train, y_train)\n",
    "print(\"Tuned Hyperparameters :\", clf_enc.best_params_)"
   ]
  },
  {
   "cell_type": "code",
   "execution_count": 30,
   "id": "8e77c45e-f786-44a0-aab1-117f35182a59",
   "metadata": {
    "tags": []
   },
   "outputs": [
    {
     "name": "stdout",
     "output_type": "stream",
     "text": [
      "Model fitting to training data took 0 seconds\n"
     ]
    }
   ],
   "source": [
    "# instantiate the model\n",
    "t_start = time()\n",
    "lg_concrete = ConcreteLogisticRegression(solver='lbfgs', C= 1.2589254117941673, class_weight = 'balanced', penalty= 'l2', n_bits=8, random_state=15)  \n",
    "# fit the model\n",
    "lg_concrete.fit(X_train, y_train)\n",
    "t_end = time()\n",
    "print(f\"Model fitting to training data took {int(t_end - t_start)} seconds\")"
   ]
  },
  {
   "cell_type": "code",
   "execution_count": 31,
   "id": "55b78b72-e05a-426a-b08c-08a916003386",
   "metadata": {
    "tags": []
   },
   "outputs": [
    {
     "name": "stdout",
     "output_type": "stream",
     "text": [
      " Encrypted Model fitting to data took 4 seconds\n"
     ]
    }
   ],
   "source": [
    "t_start = time()\n",
    "# A circuit needs to be compiled to enable FHE execution\n",
    "circuit = lg_concrete.compile(X_train)\n",
    "# Now that a circuit is compiled, the svm_concrete can predict value with FHE\n",
    "y_pred_enc = lg_concrete.predict(X_test, fhe=\"execute\")\n",
    "t_end = time()\n",
    "print(f\" Encrypted Model fitting to data took {int(t_end - t_start)} seconds\")"
   ]
  },
  {
   "cell_type": "code",
   "execution_count": 32,
   "id": "7d1a437b-7054-4098-85a7-470598a87d49",
   "metadata": {
    "tags": []
   },
   "outputs": [
    {
     "name": "stdout",
     "output_type": "stream",
     "text": [
      "              precision    recall  f1-score   support\n",
      "\n",
      "           0     0.8068    0.8911    0.8468       909\n",
      "           1     0.8788    0.7873    0.8305       912\n",
      "\n",
      "    accuracy                         0.8391      1821\n",
      "   macro avg     0.8428    0.8392    0.8387      1821\n",
      "weighted avg     0.8429    0.8391    0.8387      1821\n",
      "\n"
     ]
    }
   ],
   "source": [
    "## 20 pca\n",
    "\n",
    "print(classification_report(y_test, y_pred_enc, digits=4))"
   ]
  },
  {
   "cell_type": "code",
   "execution_count": 33,
   "id": "e432fba4-9343-4143-83d9-52eb6fabe89a",
   "metadata": {
    "tags": []
   },
   "outputs": [
    {
     "name": "stdout",
     "output_type": "stream",
     "text": [
      "Accuracy : 0.8391\n",
      "Precision score: 0.8428\n",
      "F1 score : 0.8387\n",
      "AUC Precision-Recall: 0.9208\n"
     ]
    }
   ],
   "source": [
    "print('Accuracy : {0:0.4f}'.format(accuracy_score(y_test, y_pred_enc)))\n",
    "print('Precision score: {0:0.4f}'.format(precision_score(y_test, y_pred_enc, average='macro')))\n",
    "print('F1 score : {0:0.4f}'.format(f1_score(y_test, y_pred_enc,average='macro' )))\n",
    "\n",
    "auc_prc = roc_auc_score(y_test, lg_concrete.predict_proba(X_test)[:,1], average='macro',multi_class='ovr')\n",
    "print('AUC Precision-Recall: {0:0.4f}'.format(auc_prc))"
   ]
  },
  {
   "cell_type": "code",
   "execution_count": null,
   "id": "6dc4b55c-0325-44cf-96ae-97f7082c00f8",
   "metadata": {},
   "outputs": [],
   "source": []
  },
  {
   "cell_type": "code",
   "execution_count": null,
   "id": "9b237f5b-c28e-49e7-89d0-ee5bd6646b7d",
   "metadata": {},
   "outputs": [],
   "source": []
  },
  {
   "cell_type": "code",
   "execution_count": 26,
   "id": "95870ba4-c5a9-4169-929d-f624d88b30cc",
   "metadata": {
    "tags": []
   },
   "outputs": [
    {
     "name": "stdout",
     "output_type": "stream",
     "text": [
      "Model fitting to training data took 9 seconds\n"
     ]
    }
   ],
   "source": [
    "# instantiate the model\n",
    "t_start = time()\n",
    "lg_concrete = ConcreteLogisticRegression(solver='saga', C= 1.9952623149688797, class_weight = 'balanced', penalty= 'l2', n_bits=8, random_state=15)  \n",
    "# fit the model\n",
    "lg_concrete.fit(X_train, y_train)\n",
    "t_end = time()\n",
    "print(f\"Model fitting to training data took {int(t_end - t_start)} seconds\")"
   ]
  },
  {
   "cell_type": "code",
   "execution_count": 28,
   "id": "6bd17260-48db-4ffc-adab-08d97308c2d8",
   "metadata": {
    "tags": []
   },
   "outputs": [
    {
     "name": "stdout",
     "output_type": "stream",
     "text": [
      " Encrypted Model fitting to data took 94 seconds\n"
     ]
    }
   ],
   "source": [
    "t_start = time()\n",
    "# A circuit needs to be compiled to enable FHE execution\n",
    "circuit = lg_concrete.compile(X_train)\n",
    "# Now that a circuit is compiled, the svm_concrete can predict value with FHE\n",
    "y_pred_enc = lg_concrete.predict(X_test, fhe=\"execute\")\n",
    "t_end = time()\n",
    "print(f\" Encrypted Model fitting to data took {int(t_end - t_start)} seconds\")"
   ]
  },
  {
   "cell_type": "code",
   "execution_count": 29,
   "id": "81febd0f-0339-4db9-8513-9abe802c043c",
   "metadata": {
    "tags": []
   },
   "outputs": [
    {
     "name": "stdout",
     "output_type": "stream",
     "text": [
      "              precision    recall  f1-score   support\n",
      "\n",
      "           0     0.9794    0.7855    0.8718       909\n",
      "           1     0.8214    0.9836    0.8952       912\n",
      "\n",
      "    accuracy                         0.8847      1821\n",
      "   macro avg     0.9004    0.8845    0.8835      1821\n",
      "weighted avg     0.9003    0.8847    0.8835      1821\n",
      "\n"
     ]
    }
   ],
   "source": [
    "## saga\n",
    "\n",
    "print(classification_report(y_test, y_pred_enc, digits=4))"
   ]
  },
  {
   "cell_type": "code",
   "execution_count": 30,
   "id": "3e0d5ef4-cab6-4ec1-a2f3-cef5df3f803f",
   "metadata": {
    "tags": []
   },
   "outputs": [
    {
     "name": "stdout",
     "output_type": "stream",
     "text": [
      "Accuracy : 0.8847\n",
      "Precision score: 0.9004\n",
      "F1 score : 0.8835\n",
      "AUC Precision-Recall: 0.9723\n"
     ]
    }
   ],
   "source": [
    "print('Accuracy : {0:0.4f}'.format(accuracy_score(y_test, y_pred_enc)))\n",
    "print('Precision score: {0:0.4f}'.format(precision_score(y_test, y_pred_enc, average='macro')))\n",
    "print('F1 score : {0:0.4f}'.format(f1_score(y_test, y_pred_enc,average='macro' )))\n",
    "\n",
    "auc_prc = roc_auc_score(y_test, lg_concrete.predict_proba(X_test)[:,1], average='macro',multi_class='ovr')\n",
    "print('AUC Precision-Recall: {0:0.4f}'.format(auc_prc))"
   ]
  },
  {
   "cell_type": "code",
   "execution_count": 32,
   "id": "6a33edfb-7212-4735-a4ac-43bfb656d953",
   "metadata": {
    "tags": []
   },
   "outputs": [
    {
     "name": "stdout",
     "output_type": "stream",
     "text": [
      "Model fitting to training data took 0 seconds\n"
     ]
    }
   ],
   "source": [
    "# instantiate the model\n",
    "t_start = time()\n",
    "lg_concrete = ConcreteLogisticRegression(solver='lbfgs', C= 1.2589254117941673, class_weight = 'balanced', penalty= 'l2', n_bits=8, random_state=15)  \n",
    "# fit the model\n",
    "lg_concrete.fit(X_train, y_train)\n",
    "t_end = time()\n",
    "print(f\"Model fitting to training data took {int(t_end - t_start)} seconds\")"
   ]
  },
  {
   "cell_type": "code",
   "execution_count": 33,
   "id": "d5e5057c-7c0b-4fe3-8e74-a5fe8984c12f",
   "metadata": {
    "tags": []
   },
   "outputs": [
    {
     "name": "stdout",
     "output_type": "stream",
     "text": [
      " Encrypted Model fitting to data took 94 seconds\n"
     ]
    }
   ],
   "source": [
    "t_start = time()\n",
    "# A circuit needs to be compiled to enable FHE execution\n",
    "circuit = lg_concrete.compile(X_train)\n",
    "# Now that a circuit is compiled, the svm_concrete can predict value with FHE\n",
    "y_pred_enc = lg_concrete.predict(X_test, fhe=\"execute\")\n",
    "t_end = time()\n",
    "print(f\" Encrypted Model fitting to data took {int(t_end - t_start)} seconds\")"
   ]
  },
  {
   "cell_type": "code",
   "execution_count": 34,
   "id": "8c3c9036-515c-41f5-9fde-a4557fcfdca7",
   "metadata": {
    "tags": []
   },
   "outputs": [
    {
     "name": "stdout",
     "output_type": "stream",
     "text": [
      "              precision    recall  f1-score   support\n",
      "\n",
      "           0     0.9747    0.8053    0.8819       909\n",
      "           1     0.8346    0.9792    0.9011       912\n",
      "\n",
      "    accuracy                         0.8924      1821\n",
      "   macro avg     0.9046    0.8922    0.8915      1821\n",
      "weighted avg     0.9045    0.8924    0.8915      1821\n",
      "\n"
     ]
    }
   ],
   "source": [
    "## lbfgs\n",
    "\n",
    "print(classification_report(y_test, y_pred_enc, digits=4))"
   ]
  },
  {
   "cell_type": "code",
   "execution_count": 35,
   "id": "42dde25a-5258-4e25-aa68-a169dcf56dce",
   "metadata": {
    "tags": []
   },
   "outputs": [
    {
     "name": "stdout",
     "output_type": "stream",
     "text": [
      "Accuracy : 0.8924\n",
      "Precision score: 0.9046\n",
      "F1 score : 0.8915\n",
      "AUC Precision-Recall: 0.9632\n"
     ]
    }
   ],
   "source": [
    "print('Accuracy : {0:0.4f}'.format(accuracy_score(y_test, y_pred_enc)))\n",
    "print('Precision score: {0:0.4f}'.format(precision_score(y_test, y_pred_enc, average='macro')))\n",
    "print('F1 score : {0:0.4f}'.format(f1_score(y_test, y_pred_enc,average='macro' )))\n",
    "\n",
    "auc_prc = roc_auc_score(y_test, lg_concrete.predict_proba(X_test)[:,1], average='macro',multi_class='ovr')\n",
    "print('AUC Precision-Recall: {0:0.4f}'.format(auc_prc))"
   ]
  },
  {
   "cell_type": "code",
   "execution_count": null,
   "id": "96bde2b1-ee6c-4f48-b65f-3f1c1a2b11e6",
   "metadata": {},
   "outputs": [],
   "source": []
  },
  {
   "cell_type": "code",
   "execution_count": 45,
   "id": "7d89466c-781a-4982-b846-49d53132aeaa",
   "metadata": {
    "tags": []
   },
   "outputs": [
    {
     "name": "stdout",
     "output_type": "stream",
     "text": [
      "Model fitting to training data took 0 seconds\n"
     ]
    }
   ],
   "source": [
    "# instantiate the model\n",
    "t_start = time()\n",
    "lg_concrete = ConcreteLogisticRegression(solver='lbfgs', C= 1.2589254117941673, class_weight = 'balanced', penalty= 'l2', n_bits=6, random_state=15)  \n",
    "# fit the model\n",
    "lg_concrete.fit(X_train, y_train)\n",
    "t_end = time()\n",
    "print(f\"Model fitting to training data took {int(t_end - t_start)} seconds\")"
   ]
  },
  {
   "cell_type": "code",
   "execution_count": 46,
   "id": "456105f6-2609-4967-8e8c-1dcea0a901b2",
   "metadata": {
    "tags": []
   },
   "outputs": [
    {
     "name": "stdout",
     "output_type": "stream",
     "text": [
      " Encrypted Model fitting to data took 80 seconds\n"
     ]
    }
   ],
   "source": [
    "t_start = time()\n",
    "# A circuit needs to be compiled to enable FHE execution\n",
    "circuit = lg_concrete.compile(X_train)\n",
    "# Now that a circuit is compiled, the svm_concrete can predict value with FHE\n",
    "y_pred_enc = lg_concrete.predict(X_test, fhe=\"execute\")\n",
    "t_end = time()\n",
    "print(f\" Encrypted Model fitting to data took {int(t_end - t_start)} seconds\")"
   ]
  },
  {
   "cell_type": "code",
   "execution_count": 47,
   "id": "baa9cbdb-95ce-4949-b05a-d6b63ef1f5ff",
   "metadata": {
    "tags": []
   },
   "outputs": [
    {
     "name": "stdout",
     "output_type": "stream",
     "text": [
      "              precision    recall  f1-score   support\n",
      "\n",
      "           0     0.9709    0.8086    0.8824       909\n",
      "           1     0.8365    0.9759    0.9008       912\n",
      "\n",
      "    accuracy                         0.8924      1821\n",
      "   macro avg     0.9037    0.8922    0.8916      1821\n",
      "weighted avg     0.9036    0.8924    0.8916      1821\n",
      "\n"
     ]
    }
   ],
   "source": [
    "print(classification_report(y_test, y_pred_enc, digits=4))"
   ]
  },
  {
   "cell_type": "code",
   "execution_count": 48,
   "id": "df1008dd-b5ec-47e0-9788-d22979ad7ad5",
   "metadata": {
    "tags": []
   },
   "outputs": [
    {
     "name": "stdout",
     "output_type": "stream",
     "text": [
      "Accuracy : 0.8924\n",
      "Precision score: 0.9037\n",
      "F1 score : 0.8916\n",
      "AUC Precision-Recall: 0.9655\n"
     ]
    }
   ],
   "source": [
    "print('Accuracy : {0:0.4f}'.format(accuracy_score(y_test, y_pred_enc)))\n",
    "print('Precision score: {0:0.4f}'.format(precision_score(y_test, y_pred_enc, average='macro')))\n",
    "print('F1 score : {0:0.4f}'.format(f1_score(y_test, y_pred_enc,average='macro' )))\n",
    "\n",
    "auc_prc = roc_auc_score(y_test, lg_concrete.predict_proba(X_test)[:,1], average='macro',multi_class='ovr')\n",
    "print('AUC Precision-Recall: {0:0.4f}'.format(auc_prc))"
   ]
  },
  {
   "cell_type": "code",
   "execution_count": 49,
   "id": "73876217-667c-42e5-aa09-78da138450cc",
   "metadata": {},
   "outputs": [
    {
     "name": "stdout",
     "output_type": "stream",
     "text": [
      "Model fitting to training data took 0 seconds\n"
     ]
    }
   ],
   "source": [
    "# instantiate the model\n",
    "t_start = time()\n",
    "lg_concrete = ConcreteLogisticRegression(solver='lbfgs', C= 1.2589254117941673, class_weight = 'balanced', penalty= 'l2', n_bits=4, random_state=15)  \n",
    "# fit the model\n",
    "lg_concrete.fit(X_train, y_train)\n",
    "t_end = time()\n",
    "print(f\"Model fitting to training data took {int(t_end - t_start)} seconds\")"
   ]
  },
  {
   "cell_type": "code",
   "execution_count": 50,
   "id": "6633009e-83ff-4e00-bfe1-457a7ebf33db",
   "metadata": {
    "tags": []
   },
   "outputs": [
    {
     "name": "stdout",
     "output_type": "stream",
     "text": [
      " Encrypted Model fitting to data took 69 seconds\n"
     ]
    }
   ],
   "source": [
    "t_start = time()\n",
    "# A circuit needs to be compiled to enable FHE execution\n",
    "circuit = lg_concrete.compile(X_train)\n",
    "# Now that a circuit is compiled, the svm_concrete can predict value with FHE\n",
    "y_pred_enc = lg_concrete.predict(X_test, fhe=\"execute\")\n",
    "t_end = time()\n",
    "print(f\" Encrypted Model fitting to data took {int(t_end - t_start)} seconds\")"
   ]
  },
  {
   "cell_type": "code",
   "execution_count": 51,
   "id": "b62fac1c-d46a-4b61-8d35-fcb7cdf0b130",
   "metadata": {
    "tags": []
   },
   "outputs": [
    {
     "name": "stdout",
     "output_type": "stream",
     "text": [
      "              precision    recall  f1-score   support\n",
      "\n",
      "           0     0.9185    0.8064    0.8588       909\n",
      "           1     0.8280    0.9287    0.8755       912\n",
      "\n",
      "    accuracy                         0.8677      1821\n",
      "   macro avg     0.8733    0.8676    0.8671      1821\n",
      "weighted avg     0.8732    0.8677    0.8671      1821\n",
      "\n"
     ]
    }
   ],
   "source": [
    "print(classification_report(y_test, y_pred_enc, digits=4))"
   ]
  },
  {
   "cell_type": "code",
   "execution_count": 52,
   "id": "82d18847-3087-4a8c-89bb-9ac37b9e280f",
   "metadata": {
    "tags": []
   },
   "outputs": [
    {
     "name": "stdout",
     "output_type": "stream",
     "text": [
      "Accuracy : 0.8677\n",
      "Precision score: 0.8733\n",
      "F1 score : 0.8671\n",
      "AUC Precision-Recall: 0.9328\n"
     ]
    }
   ],
   "source": [
    "print('Accuracy : {0:0.4f}'.format(accuracy_score(y_test, y_pred_enc)))\n",
    "print('Precision score: {0:0.4f}'.format(precision_score(y_test, y_pred_enc, average='macro')))\n",
    "print('F1 score : {0:0.4f}'.format(f1_score(y_test, y_pred_enc,average='macro' )))\n",
    "\n",
    "auc_prc = roc_auc_score(y_test, lg_concrete.predict_proba(X_test)[:,1], average='macro',multi_class='ovr')\n",
    "print('AUC Precision-Recall: {0:0.4f}'.format(auc_prc))"
   ]
  },
  {
   "cell_type": "code",
   "execution_count": null,
   "id": "96e60066-c98a-4dae-93ff-83564877a14f",
   "metadata": {},
   "outputs": [],
   "source": []
  },
  {
   "cell_type": "markdown",
   "id": "e85f0097-b255-4ce3-b115-0d938be25e2b",
   "metadata": {},
   "source": [
    "### SVM Model  "
   ]
  },
  {
   "cell_type": "code",
   "execution_count": 50,
   "id": "4b2bcc1a-b9de-4531-8dcd-b48043da7a81",
   "metadata": {
    "tags": []
   },
   "outputs": [
    {
     "name": "stdout",
     "output_type": "stream",
     "text": [
      "Model fitting to training data took 0 seconds\n"
     ]
    }
   ],
   "source": [
    "t_start = time()\n",
    "clf = LinearSVC(multi_class='ovr',class_weight ='balanced', random_state=15).fit(X_train, y_train)\n",
    "t_end = time()\n",
    "print(f\"Model fitting to training data took {int(t_end - t_start)} seconds\")"
   ]
  },
  {
   "cell_type": "code",
   "execution_count": 51,
   "id": "4c4807a5-7def-4a22-a233-3d9cf77741c5",
   "metadata": {
    "tags": []
   },
   "outputs": [],
   "source": [
    "y_pred = clf.predict(X_test)"
   ]
  },
  {
   "cell_type": "code",
   "execution_count": null,
   "id": "c4a9442b-34c8-4204-8d03-12b0b6a63577",
   "metadata": {},
   "outputs": [],
   "source": []
  },
  {
   "cell_type": "code",
   "execution_count": 52,
   "id": "283f97f8-55a1-4cee-a953-244611e280b4",
   "metadata": {
    "tags": []
   },
   "outputs": [
    {
     "name": "stdout",
     "output_type": "stream",
     "text": [
      "              precision    recall  f1-score   support\n",
      "\n",
      "           0     0.8111    0.8834    0.8457       909\n",
      "           1     0.8724    0.7950    0.8319       912\n",
      "\n",
      "    accuracy                         0.8391      1821\n",
      "   macro avg     0.8418    0.8392    0.8388      1821\n",
      "weighted avg     0.8418    0.8391    0.8388      1821\n",
      "\n"
     ]
    }
   ],
   "source": [
    "# 20 pca\n",
    "print(classification_report(y_test, y_pred, digits =4))"
   ]
  },
  {
   "cell_type": "code",
   "execution_count": 53,
   "id": "101ebc57-a225-46f2-9fef-8bfb77c34b86",
   "metadata": {
    "tags": []
   },
   "outputs": [
    {
     "name": "stdout",
     "output_type": "stream",
     "text": [
      "Accuracy : 0.8391\n",
      "Precision score: 0.8418\n",
      "F1 score : 0.8388\n",
      "AUC Precision-Recall: 0.9372\n"
     ]
    }
   ],
   "source": [
    "print('Accuracy : {0:0.4f}'.format(accuracy_score(y_test, y_pred)))\n",
    "print('Precision score: {0:0.4f}'.format(precision_score(y_test, y_pred, average='macro')))\n",
    "print('F1 score : {0:0.4f}'.format(f1_score(y_test, y_pred,average='macro' )))\n",
    "\n",
    "auc_prc = roc_auc_score(y_test, clf._predict_proba_lr(X_test)[:,1], average='macro',multi_class='ovr')\n",
    "print('AUC Precision-Recall: {0:0.4f}'.format(auc_prc))"
   ]
  },
  {
   "cell_type": "code",
   "execution_count": null,
   "id": "f3ed9e10-4382-47ab-bd18-88bc22beb359",
   "metadata": {},
   "outputs": [],
   "source": []
  },
  {
   "cell_type": "code",
   "execution_count": null,
   "id": "9590a97b-af0b-4e38-9ea7-d4bd80fe47a4",
   "metadata": {},
   "outputs": [],
   "source": []
  },
  {
   "cell_type": "code",
   "execution_count": 59,
   "id": "a0b252a7-04c3-4f8c-b5d6-448adcb3a3a7",
   "metadata": {
    "tags": []
   },
   "outputs": [
    {
     "name": "stdout",
     "output_type": "stream",
     "text": [
      "              precision    recall  f1-score   support\n",
      "\n",
      "           0     0.8758    0.8999    0.8877       909\n",
      "           1     0.8974    0.8728    0.8849       912\n",
      "\n",
      "    accuracy                         0.8863      1821\n",
      "   macro avg     0.8866    0.8863    0.8863      1821\n",
      "weighted avg     0.8866    0.8863    0.8863      1821\n",
      "\n"
     ]
    }
   ],
   "source": [
    "print(classification_report(y_test, y_pred, digits =4))"
   ]
  },
  {
   "cell_type": "code",
   "execution_count": 60,
   "id": "91ec702e-41a2-49b6-94c4-56d4ff7394aa",
   "metadata": {
    "tags": []
   },
   "outputs": [
    {
     "name": "stdout",
     "output_type": "stream",
     "text": [
      "Accuracy : 0.8863\n",
      "Precision score: 0.8866\n",
      "F1 score : 0.8863\n",
      "AUC Precision-Recall: 0.9634\n"
     ]
    }
   ],
   "source": [
    "print('Accuracy : {0:0.4f}'.format(accuracy_score(y_test, y_pred)))\n",
    "print('Precision score: {0:0.4f}'.format(precision_score(y_test, y_pred, average='macro')))\n",
    "print('F1 score : {0:0.4f}'.format(f1_score(y_test, y_pred,average='macro' )))\n",
    "\n",
    "auc_prc = roc_auc_score(y_test, clf._predict_proba_lr(X_test)[:,1], average='macro',multi_class='ovr')\n",
    "print('AUC Precision-Recall: {0:0.4f}'.format(auc_prc))"
   ]
  },
  {
   "cell_type": "markdown",
   "id": "89733099-b182-450a-a9b4-f9609a9e476a",
   "metadata": {
    "tags": []
   },
   "source": [
    "### Encrypted SVM"
   ]
  },
  {
   "cell_type": "code",
   "execution_count": 42,
   "id": "3d7d98c6-4111-4a31-8dcf-af4b4ac0d203",
   "metadata": {
    "tags": []
   },
   "outputs": [
    {
     "name": "stdout",
     "output_type": "stream",
     "text": [
      " Encrypted Model fitting to data took 0 seconds\n"
     ]
    }
   ],
   "source": [
    "t_start = time()\n",
    "clf_concrete = ConcreteLinearSVC(multi_class='ovr',class_weight ='balanced', n_bits=8, random_state=15).fit(X_train, y_train)\n",
    "t_end = time()\n",
    "print(f\" Encrypted Model fitting to data took {int(t_end - t_start)} seconds\")"
   ]
  },
  {
   "cell_type": "code",
   "execution_count": 47,
   "id": "78b31273-50c5-4d1c-b629-c0456d1dd569",
   "metadata": {
    "tags": []
   },
   "outputs": [
    {
     "name": "stdout",
     "output_type": "stream",
     "text": [
      " Encrypted Model fitting to data took 3 seconds\n"
     ]
    }
   ],
   "source": [
    "t_start = time()\n",
    "# A circuit needs to be compiled to enable FHE execution\n",
    "circuit = clf_concrete.compile(X_train)\n",
    "# Now that a circuit is compiled, the svm_concrete can predict value with FHE\n",
    "y_pred_enc = clf_concrete.predict(X_test, fhe=\"execute\")\n",
    "t_end = time()\n",
    "print(f\" Encrypted Model fitting to data took {int(t_end - t_start)} seconds\")"
   ]
  },
  {
   "cell_type": "code",
   "execution_count": null,
   "id": "60a979d1-3db8-471e-84ea-003f614a040f",
   "metadata": {},
   "outputs": [],
   "source": []
  },
  {
   "cell_type": "code",
   "execution_count": 44,
   "id": "abf48ea7-185e-4063-842b-eb065ad5ccd2",
   "metadata": {
    "tags": []
   },
   "outputs": [
    {
     "name": "stdout",
     "output_type": "stream",
     "text": [
      "              precision    recall  f1-score   support\n",
      "\n",
      "           0     0.8068    0.8911    0.8468       909\n",
      "           1     0.8788    0.7873    0.8305       912\n",
      "\n",
      "    accuracy                         0.8391      1821\n",
      "   macro avg     0.8428    0.8392    0.8387      1821\n",
      "weighted avg     0.8429    0.8391    0.8387      1821\n",
      "\n"
     ]
    }
   ],
   "source": [
    "# 20 pca\n",
    "print(classification_report(y_test,y_pred_enc, digits=4))"
   ]
  },
  {
   "cell_type": "code",
   "execution_count": 45,
   "id": "6f298f6d-f07f-4c44-bca3-fd952b87e77e",
   "metadata": {
    "tags": []
   },
   "outputs": [
    {
     "name": "stdout",
     "output_type": "stream",
     "text": [
      "Accuracy : 0.8391\n",
      "Precision score: 0.8428\n",
      "F1 score : 0.8387\n",
      "AUC Precision-Recall: 0.9190\n"
     ]
    }
   ],
   "source": [
    "print('Accuracy : {0:0.4f}'.format(accuracy_score(y_test, y_pred_enc)))\n",
    "print('Precision score: {0:0.4f}'.format(precision_score(y_test, y_pred_enc, average='macro')))\n",
    "print('F1 score : {0:0.4f}'.format(f1_score(y_test, y_pred_enc,average='macro' )))\n",
    "\n",
    "auc_prc = roc_auc_score(y_test, clf_concrete.predict_proba(X_test)[:,1], average='macro',multi_class='ovr')\n",
    "print('AUC Precision-Recall: {0:0.4f}'.format(auc_prc))"
   ]
  },
  {
   "cell_type": "code",
   "execution_count": 46,
   "id": "cafcb641-4563-4be9-94e8-699af212d2ec",
   "metadata": {
    "tags": []
   },
   "outputs": [
    {
     "name": "stdout",
     "output_type": "stream",
     "text": [
      " Encrypted Model fitting to data took 0 seconds\n"
     ]
    }
   ],
   "source": [
    "t_start = time()\n",
    "clf_concrete = ConcreteLinearSVC(multi_class='ovr',class_weight ='balanced', n_bits=6, random_state=15).fit(X_train, y_train)\n",
    "t_end = time()\n",
    "print(f\" Encrypted Model fitting to data took {int(t_end - t_start)} seconds\")"
   ]
  },
  {
   "cell_type": "code",
   "execution_count": 48,
   "id": "174c7269-643c-4223-9f5b-2752f4f87350",
   "metadata": {
    "tags": []
   },
   "outputs": [
    {
     "name": "stdout",
     "output_type": "stream",
     "text": [
      "              precision    recall  f1-score   support\n",
      "\n",
      "           0     0.8068    0.8911    0.8468       909\n",
      "           1     0.8788    0.7873    0.8305       912\n",
      "\n",
      "    accuracy                         0.8391      1821\n",
      "   macro avg     0.8428    0.8392    0.8387      1821\n",
      "weighted avg     0.8429    0.8391    0.8387      1821\n",
      "\n"
     ]
    }
   ],
   "source": [
    "print(classification_report(y_test,y_pred_enc, digits=4))"
   ]
  },
  {
   "cell_type": "code",
   "execution_count": 49,
   "id": "41a07cfc-8de8-40c2-8eb5-96767f658af2",
   "metadata": {
    "tags": []
   },
   "outputs": [
    {
     "name": "stdout",
     "output_type": "stream",
     "text": [
      "Accuracy : 0.8391\n",
      "Precision score: 0.8428\n",
      "F1 score : 0.8387\n",
      "AUC Precision-Recall: 0.9181\n"
     ]
    }
   ],
   "source": [
    "print('Accuracy : {0:0.4f}'.format(accuracy_score(y_test, y_pred_enc)))\n",
    "print('Precision score: {0:0.4f}'.format(precision_score(y_test, y_pred_enc, average='macro')))\n",
    "print('F1 score : {0:0.4f}'.format(f1_score(y_test, y_pred_enc,average='macro' )))\n",
    "\n",
    "auc_prc = roc_auc_score(y_test, clf_concrete.predict_proba(X_test)[:,1], average='macro',multi_class='ovr')\n",
    "print('AUC Precision-Recall: {0:0.4f}'.format(auc_prc))"
   ]
  },
  {
   "cell_type": "code",
   "execution_count": null,
   "id": "a3b5dc53-c2fb-49e5-878f-2e1abc3beb76",
   "metadata": {},
   "outputs": [],
   "source": []
  },
  {
   "cell_type": "code",
   "execution_count": null,
   "id": "ac10ec61-b841-423a-aaf9-8d3ece025b98",
   "metadata": {},
   "outputs": [],
   "source": []
  },
  {
   "cell_type": "code",
   "execution_count": 75,
   "id": "e76dbdbc-fba7-4b42-a73e-3fc4932ef765",
   "metadata": {
    "tags": []
   },
   "outputs": [
    {
     "name": "stdout",
     "output_type": "stream",
     "text": [
      "              precision    recall  f1-score   support\n",
      "\n",
      "           0     0.8766    0.8988    0.8876       909\n",
      "           1     0.8965    0.8739    0.8851       912\n",
      "\n",
      "    accuracy                         0.8863      1821\n",
      "   macro avg     0.8866    0.8863    0.8863      1821\n",
      "weighted avg     0.8866    0.8863    0.8863      1821\n",
      "\n"
     ]
    }
   ],
   "source": [
    "print(classification_report(y_test,y_pred_enc, digits=4))"
   ]
  },
  {
   "cell_type": "code",
   "execution_count": 76,
   "id": "b5851b99-96cf-470a-aa31-e9da8a4df866",
   "metadata": {
    "tags": []
   },
   "outputs": [
    {
     "name": "stdout",
     "output_type": "stream",
     "text": [
      "Accuracy : 0.8863\n",
      "Precision score: 0.8866\n",
      "F1 score : 0.8863\n",
      "AUC Precision-Recall: 0.9444\n"
     ]
    }
   ],
   "source": [
    "print('Accuracy : {0:0.4f}'.format(accuracy_score(y_test, y_pred_enc)))\n",
    "print('Precision score: {0:0.4f}'.format(precision_score(y_test, y_pred_enc, average='macro')))\n",
    "print('F1 score : {0:0.4f}'.format(f1_score(y_test, y_pred_enc,average='macro' )))\n",
    "\n",
    "auc_prc = roc_auc_score(y_test, clf_concrete.predict_proba(X_test)[:,1], average='macro',multi_class='ovr')\n",
    "print('AUC Precision-Recall: {0:0.4f}'.format(auc_prc))"
   ]
  },
  {
   "cell_type": "code",
   "execution_count": 65,
   "id": "b005af84-33dc-4966-a1ba-33e84659b4c1",
   "metadata": {
    "tags": []
   },
   "outputs": [
    {
     "name": "stdout",
     "output_type": "stream",
     "text": [
      " Encrypted Model fitting to data took 8 seconds\n"
     ]
    }
   ],
   "source": [
    "t_start = time()\n",
    "clf_concrete = ConcreteLinearSVC(multi_class='ovr',class_weight ='balanced', n_bits=6, random_state=15).fit(X_train, y_train)\n",
    "t_end = time()\n",
    "print(f\" Encrypted Model fitting to data took {int(t_end - t_start)} seconds\")"
   ]
  },
  {
   "cell_type": "code",
   "execution_count": 66,
   "id": "aa67bd2c-c7e3-4959-9d7f-6dd1ff230b01",
   "metadata": {
    "tags": []
   },
   "outputs": [
    {
     "name": "stdout",
     "output_type": "stream",
     "text": [
      " Encrypted Model fitting to data took 75 seconds\n"
     ]
    }
   ],
   "source": [
    "t_start = time()\n",
    "# A circuit needs to be compiled to enable FHE execution\n",
    "circuit = clf_concrete.compile(X_train)\n",
    "# Now that a circuit is compiled, the svm_concrete can predict value with FHE\n",
    "y_pred_enc = clf_concrete.predict(X_test, fhe=\"execute\")\n",
    "t_end = time()\n",
    "print(f\" Encrypted Model fitting to data took {int(t_end - t_start)} seconds\")"
   ]
  },
  {
   "cell_type": "code",
   "execution_count": 67,
   "id": "7aaf20e2-b7d6-4df5-9087-c407ad244ba0",
   "metadata": {
    "tags": []
   },
   "outputs": [
    {
     "name": "stdout",
     "output_type": "stream",
     "text": [
      "              precision    recall  f1-score   support\n",
      "\n",
      "           0     0.8857    0.8691    0.8773       909\n",
      "           1     0.8719    0.8882    0.8800       912\n",
      "\n",
      "    accuracy                         0.8786      1821\n",
      "   macro avg     0.8788    0.8786    0.8786      1821\n",
      "weighted avg     0.8788    0.8786    0.8786      1821\n",
      "\n"
     ]
    }
   ],
   "source": [
    "print(classification_report(y_test, y_pred_enc, digits=4))"
   ]
  },
  {
   "cell_type": "code",
   "execution_count": 68,
   "id": "03aa7e7f-d6cc-4715-aa86-e0c848243e51",
   "metadata": {
    "tags": []
   },
   "outputs": [
    {
     "name": "stdout",
     "output_type": "stream",
     "text": [
      "Accuracy : 0.8786\n",
      "Precision score: 0.8788\n",
      "F1 score : 0.8786\n",
      "AUC Precision-Recall: 0.9424\n"
     ]
    }
   ],
   "source": [
    "print('Accuracy : {0:0.4f}'.format(accuracy_score(y_test, y_pred_enc)))\n",
    "print('Precision score: {0:0.4f}'.format(precision_score(y_test, y_pred_enc, average='macro')))\n",
    "print('F1 score : {0:0.4f}'.format(f1_score(y_test, y_pred_enc,average='macro' )))\n",
    "\n",
    "auc_prc = roc_auc_score(y_test, clf_concrete.predict_proba(X_test)[:,1], average='macro',multi_class='ovr')\n",
    "print('AUC Precision-Recall: {0:0.4f}'.format(auc_prc))"
   ]
  },
  {
   "cell_type": "code",
   "execution_count": 69,
   "id": "e6b85ee1-c3f1-41dd-999d-d655db10e2b0",
   "metadata": {
    "tags": []
   },
   "outputs": [
    {
     "name": "stdout",
     "output_type": "stream",
     "text": [
      " Encrypted Model fitting to data took 8 seconds\n"
     ]
    }
   ],
   "source": [
    "t_start = time()\n",
    "clf_concrete = ConcreteLinearSVC(multi_class='ovr',class_weight ='balanced', n_bits=4, random_state=15).fit(X_train, y_train)\n",
    "t_end = time()\n",
    "print(f\" Encrypted Model fitting to data took {int(t_end - t_start)} seconds\")"
   ]
  },
  {
   "cell_type": "code",
   "execution_count": 70,
   "id": "75d5d6a2-69f1-4d21-a9d9-e27761c78b2c",
   "metadata": {
    "tags": []
   },
   "outputs": [
    {
     "name": "stdout",
     "output_type": "stream",
     "text": [
      " Encrypted Model fitting to data took 70 seconds\n"
     ]
    }
   ],
   "source": [
    "t_start = time()\n",
    "# A circuit needs to be compiled to enable FHE execution\n",
    "circuit = clf_concrete.compile(X_train)\n",
    "# Now that a circuit is compiled, the svm_concrete can predict value with FHE\n",
    "y_pred_enc = clf_concrete.predict(X_test, fhe=\"execute\")\n",
    "t_end = time()\n",
    "print(f\" Encrypted Model fitting to data took {int(t_end - t_start)} seconds\")"
   ]
  },
  {
   "cell_type": "code",
   "execution_count": 71,
   "id": "573d89f1-56a6-4d70-a6ae-4114e85e88de",
   "metadata": {
    "tags": []
   },
   "outputs": [
    {
     "name": "stdout",
     "output_type": "stream",
     "text": [
      "              precision    recall  f1-score   support\n",
      "\n",
      "           0     0.8405    0.8636    0.8519       909\n",
      "           1     0.8602    0.8366    0.8482       912\n",
      "\n",
      "    accuracy                         0.8501      1821\n",
      "   macro avg     0.8503    0.8501    0.8501      1821\n",
      "weighted avg     0.8504    0.8501    0.8501      1821\n",
      "\n"
     ]
    }
   ],
   "source": [
    "print(classification_report(y_test,y_pred_enc, digits=4))"
   ]
  },
  {
   "cell_type": "code",
   "execution_count": 72,
   "id": "d05eadf7-9851-4bff-b183-3cba334ae295",
   "metadata": {
    "tags": []
   },
   "outputs": [
    {
     "name": "stdout",
     "output_type": "stream",
     "text": [
      "Accuracy : 0.8501\n",
      "Precision score: 0.8503\n",
      "F1 score : 0.8501\n",
      "AUC Precision-Recall: 0.9219\n"
     ]
    }
   ],
   "source": [
    "print('Accuracy : {0:0.4f}'.format(accuracy_score(y_test, y_pred_enc)))\n",
    "print('Precision score: {0:0.4f}'.format(precision_score(y_test, y_pred_enc, average='macro')))\n",
    "print('F1 score : {0:0.4f}'.format(f1_score(y_test, y_pred_enc,average='macro' )))\n",
    "\n",
    "auc_prc = roc_auc_score(y_test, clf_concrete.predict_proba(X_test)[:,1], average='macro',multi_class='ovr')\n",
    "print('AUC Precision-Recall: {0:0.4f}'.format(auc_prc))"
   ]
  },
  {
   "cell_type": "code",
   "execution_count": null,
   "id": "99fcb4ae-2570-41b5-b79a-1f623651ab74",
   "metadata": {},
   "outputs": [],
   "source": []
  },
  {
   "cell_type": "markdown",
   "id": "e2bfb88c-4fe3-4e01-b77d-8fb6790a9f76",
   "metadata": {},
   "source": [
    "### XGBoost"
   ]
  },
  {
   "cell_type": "code",
   "execution_count": 76,
   "id": "dafe115f-5965-4942-8ea7-d54fd8f40956",
   "metadata": {
    "tags": []
   },
   "outputs": [
    {
     "name": "stdout",
     "output_type": "stream",
     "text": [
      "Best score: 0.9039077923595649\n",
      "Best parameters: {'learning_rate': 0.1, 'max_depth': 6, 'n_estimators': 60}\n"
     ]
    }
   ],
   "source": [
    "# Let's build our model\n",
    "xbmodel = ensemble.GradientBoostingClassifier()\n",
    "# A gridsearch to find the best parameters\n",
    "parameters = {\n",
    "#    \"n_bits\": [4,6],\n",
    "    \"max_depth\": [6],\n",
    "    \"n_estimators\": [60,80],\n",
    "    \"learning_rate\": [0.01, 0.1]\n",
    "\n",
    "}\n",
    "\n",
    "# Now we have a representation for each tweet, we can train a model on these.\n",
    "grid_search = GridSearchCV(xbmodel, parameters, cv=8, scoring=\"f1_macro\")\n",
    "grid_search.fit(X_train, y_train)\n",
    "\n",
    "# Check the accuracy of the best model\n",
    "print(f\"Best score: {grid_search.best_score_}\")\n",
    "\n",
    "# Check best hyperparameters\n",
    "print(f\"Best parameters: {grid_search.best_params_}\")\n",
    "\n",
    "# Extract best model\n",
    "best_model = grid_search.best_estimator_"
   ]
  },
  {
   "cell_type": "code",
   "execution_count": null,
   "id": "306e60e6-1fad-4524-a75e-083bf36de1a7",
   "metadata": {},
   "outputs": [],
   "source": []
  },
  {
   "cell_type": "code",
   "execution_count": 80,
   "id": "b5232305-dea9-4e2a-a539-dfb484599278",
   "metadata": {
    "tags": []
   },
   "outputs": [
    {
     "name": "stdout",
     "output_type": "stream",
     "text": [
      "Model fitting to training data took 5 seconds\n"
     ]
    }
   ],
   "source": [
    "t_start = time()\n",
    "clf = ensemble.GradientBoostingClassifier(n_estimators=60, learning_rate=0.01, max_depth=6, random_state=15).fit(X_train, y_train)\n",
    "t_end = time()\n",
    "print(f\"Model fitting to training data took {int(t_end - t_start)} seconds\")"
   ]
  },
  {
   "cell_type": "code",
   "execution_count": 81,
   "id": "70aaec0f-a248-48ca-9c85-dbb4cc975ee5",
   "metadata": {
    "tags": []
   },
   "outputs": [],
   "source": [
    "y_pred = clf.predict(X_test)"
   ]
  },
  {
   "cell_type": "code",
   "execution_count": null,
   "id": "e243418c-2020-4bfe-9e13-5d306c2e25e9",
   "metadata": {},
   "outputs": [],
   "source": [
    "# 20 pca"
   ]
  },
  {
   "cell_type": "code",
   "execution_count": 82,
   "id": "42c7c137-40b8-4a91-937f-587d101c8dc6",
   "metadata": {
    "tags": []
   },
   "outputs": [
    {
     "name": "stdout",
     "output_type": "stream",
     "text": [
      "              precision    recall  f1-score   support\n",
      "\n",
      "           0     0.7351    0.7756    0.7548       909\n",
      "           1     0.7633    0.7215    0.7418       912\n",
      "\n",
      "    accuracy                         0.7485      1821\n",
      "   macro avg     0.7492    0.7485    0.7483      1821\n",
      "weighted avg     0.7493    0.7485    0.7483      1821\n",
      "\n"
     ]
    }
   ],
   "source": [
    "print(classification_report(y_test, y_pred, digits =4))"
   ]
  },
  {
   "cell_type": "code",
   "execution_count": 83,
   "id": "4d85ee51-c91f-44e7-9e3a-666818da4ac9",
   "metadata": {
    "tags": []
   },
   "outputs": [
    {
     "name": "stdout",
     "output_type": "stream",
     "text": [
      "Accuracy : 0.7485\n",
      "Precision score: 0.7492\n",
      "F1 score : 0.7483\n",
      "AUC Precision-Recall: 0.8249\n"
     ]
    }
   ],
   "source": [
    "print('Accuracy : {0:0.4f}'.format(accuracy_score(y_test, y_pred)))\n",
    "print('Precision score: {0:0.4f}'.format(precision_score(y_test, y_pred, average='macro')))\n",
    "print('F1 score : {0:0.4f}'.format(f1_score(y_test, y_pred,average='macro' )))\n",
    "\n",
    "auc_prc = roc_auc_score(y_test, clf.predict_proba(X_test)[:,1], average='macro',multi_class='ovr')\n",
    "print('AUC Precision-Recall: {0:0.4f}'.format(auc_prc))"
   ]
  },
  {
   "cell_type": "code",
   "execution_count": null,
   "id": "cd44c513-fd7e-4a6e-a125-0e4b1e6fac11",
   "metadata": {},
   "outputs": [],
   "source": []
  },
  {
   "cell_type": "code",
   "execution_count": 28,
   "id": "fbdd4a4b-b9d7-4e7d-8a0c-737daf17111a",
   "metadata": {
    "tags": []
   },
   "outputs": [
    {
     "name": "stdout",
     "output_type": "stream",
     "text": [
      "              precision    recall  f1-score   support\n",
      "\n",
      "           0     0.7730    0.8878    0.8264       909\n",
      "           1     0.8687    0.7401    0.7993       912\n",
      "\n",
      "    accuracy                         0.8138      1821\n",
      "   macro avg     0.8209    0.8140    0.8129      1821\n",
      "weighted avg     0.8209    0.8138    0.8128      1821\n",
      "\n"
     ]
    }
   ],
   "source": [
    "print(classification_report(y_test, y_pred, digits =4))"
   ]
  },
  {
   "cell_type": "code",
   "execution_count": 29,
   "id": "5333e9f5-e0d5-4c9c-919f-234d4e9676cd",
   "metadata": {
    "tags": []
   },
   "outputs": [
    {
     "name": "stdout",
     "output_type": "stream",
     "text": [
      "Accuracy : 0.8138\n",
      "Precision score: 0.8209\n",
      "F1 score : 0.8129\n",
      "AUC Precision-Recall: 0.9134\n"
     ]
    }
   ],
   "source": [
    "print('Accuracy : {0:0.4f}'.format(accuracy_score(y_test, y_pred)))\n",
    "print('Precision score: {0:0.4f}'.format(precision_score(y_test, y_pred, average='macro')))\n",
    "print('F1 score : {0:0.4f}'.format(f1_score(y_test, y_pred,average='macro' )))\n",
    "\n",
    "auc_prc = roc_auc_score(y_test, clf.predict_proba(X_test)[:,1], average='macro',multi_class='ovr')\n",
    "print('AUC Precision-Recall: {0:0.4f}'.format(auc_prc))"
   ]
  },
  {
   "cell_type": "code",
   "execution_count": 11,
   "id": "9bc281fe-9901-4ceb-b804-c9c74b81ad2c",
   "metadata": {
    "tags": []
   },
   "outputs": [
    {
     "name": "stdout",
     "output_type": "stream",
     "text": [
      "Model fitting to training data took 239 seconds\n"
     ]
    }
   ],
   "source": [
    "t_start = time()\n",
    "clf = ensemble.GradientBoostingClassifier(n_estimators=60, learning_rate= 0.01,\n",
    "    max_depth=5, random_state=15).fit(X_train, y_train)\n",
    "t_end = time()\n",
    "print(f\"Model fitting to training data took {int(t_end - t_start)} seconds\")"
   ]
  },
  {
   "cell_type": "code",
   "execution_count": 12,
   "id": "3c0c8a08-7c57-422d-b9c4-279625f048f8",
   "metadata": {
    "tags": []
   },
   "outputs": [],
   "source": [
    "y_pred = clf.predict(X_test)"
   ]
  },
  {
   "cell_type": "code",
   "execution_count": 13,
   "id": "8d3bc64c-3fbc-418d-aea1-f54bb403ecb3",
   "metadata": {
    "tags": []
   },
   "outputs": [
    {
     "name": "stdout",
     "output_type": "stream",
     "text": [
      "              precision    recall  f1-score   support\n",
      "\n",
      "           0     0.8913    0.8933    0.8923       909\n",
      "           1     0.8934    0.8914    0.8924       912\n",
      "\n",
      "    accuracy                         0.8924      1821\n",
      "   macro avg     0.8924    0.8924    0.8924      1821\n",
      "weighted avg     0.8924    0.8924    0.8924      1821\n",
      "\n"
     ]
    }
   ],
   "source": [
    "print(classification_report(y_test, y_pred, digits =4))"
   ]
  },
  {
   "cell_type": "code",
   "execution_count": 14,
   "id": "9582bf84-261a-4fbd-9c0f-ac2ae38797fd",
   "metadata": {
    "tags": []
   },
   "outputs": [
    {
     "name": "stdout",
     "output_type": "stream",
     "text": [
      "Accuracy : 0.8924\n",
      "Precision score: 0.8924\n",
      "F1 score : 0.8924\n",
      "AUC Precision-Recall: 0.9401\n"
     ]
    }
   ],
   "source": [
    "print('Accuracy : {0:0.4f}'.format(accuracy_score(y_test, y_pred)))\n",
    "print('Precision score: {0:0.4f}'.format(precision_score(y_test, y_pred, average='macro')))\n",
    "print('F1 score : {0:0.4f}'.format(f1_score(y_test, y_pred,average='macro' )))\n",
    "\n",
    "auc_prc = roc_auc_score(y_test, clf.predict_proba(X_test)[:,1], average='macro', multi_class='ovr')\n",
    "print('AUC Precision-Recall: {0:0.4f}'.format(auc_prc))"
   ]
  },
  {
   "cell_type": "code",
   "execution_count": null,
   "id": "da526b64-be46-43a3-a1d0-9036bd858e86",
   "metadata": {},
   "outputs": [],
   "source": []
  },
  {
   "cell_type": "code",
   "execution_count": 34,
   "id": "7f7b891e-c0c2-4ab9-983b-5fda91585d72",
   "metadata": {},
   "outputs": [
    {
     "name": "stdout",
     "output_type": "stream",
     "text": [
      "Model fitting to training data took 311 seconds\n"
     ]
    }
   ],
   "source": [
    "t_start = time()\n",
    "clf = ensemble.GradientBoostingClassifier(n_estimators=80, learning_rate= 0.01, max_depth=5, random_state=15).fit(X_train, y_train)\n",
    "t_end = time()\n",
    "print(f\"Model fitting to training data took {int(t_end - t_start)} seconds\")"
   ]
  },
  {
   "cell_type": "code",
   "execution_count": 35,
   "id": "10ca1231-8d41-4fc0-9ede-6ee6c5339e58",
   "metadata": {
    "tags": []
   },
   "outputs": [],
   "source": [
    "y_pred = clf.predict(X_test)"
   ]
  },
  {
   "cell_type": "code",
   "execution_count": 36,
   "id": "d5b11b2a-2b75-4869-8957-8c06040a091e",
   "metadata": {
    "tags": []
   },
   "outputs": [
    {
     "name": "stdout",
     "output_type": "stream",
     "text": [
      "              precision    recall  f1-score   support\n",
      "\n",
      "           0     0.8944    0.8944    0.8944       909\n",
      "           1     0.8947    0.8947    0.8947       912\n",
      "\n",
      "    accuracy                         0.8946      1821\n",
      "   macro avg     0.8946    0.8946    0.8946      1821\n",
      "weighted avg     0.8946    0.8946    0.8946      1821\n",
      "\n"
     ]
    }
   ],
   "source": [
    "print(classification_report(y_test, y_pred, digits =4))"
   ]
  },
  {
   "cell_type": "code",
   "execution_count": 37,
   "id": "ee72cbeb-2e09-47ea-8696-b3554a8dfbb9",
   "metadata": {
    "tags": []
   },
   "outputs": [
    {
     "name": "stdout",
     "output_type": "stream",
     "text": [
      "Accuracy : 0.8946\n",
      "Precision score: 0.8946\n",
      "F1 score : 0.8946\n",
      "AUC Precision-Recall: 0.9445\n"
     ]
    }
   ],
   "source": [
    "print('Accuracy : {0:0.4f}'.format(accuracy_score(y_test, y_pred)))\n",
    "print('Precision score: {0:0.4f}'.format(precision_score(y_test, y_pred, average='macro')))\n",
    "print('F1 score : {0:0.4f}'.format(f1_score(y_test, y_pred,average='macro' )))\n",
    "\n",
    "auc_prc = roc_auc_score(y_test, clf.predict_proba(X_test)[:,1], average='macro', multi_class='ovr')\n",
    "print('AUC Precision-Recall: {0:0.4f}'.format(auc_prc))"
   ]
  },
  {
   "cell_type": "code",
   "execution_count": null,
   "id": "990a4b98-caf1-4bed-8b73-56b2fa97285a",
   "metadata": {},
   "outputs": [],
   "source": []
  },
  {
   "cell_type": "markdown",
   "id": "f3e11793-533b-4664-bc2d-97e390330af7",
   "metadata": {},
   "source": [
    "### Concrete XGBoost"
   ]
  },
  {
   "cell_type": "code",
   "execution_count": 22,
   "id": "7eb4d5ec-3122-434b-9e6f-e6fc5e56fa76",
   "metadata": {
    "tags": []
   },
   "outputs": [],
   "source": [
    "from concrete.ml.sklearn import XGBClassifier as ConcreteXGBClassifier"
   ]
  },
  {
   "cell_type": "code",
   "execution_count": 71,
   "id": "afbec77f-182d-4e72-b18b-6ae8908b4b17",
   "metadata": {
    "tags": []
   },
   "outputs": [
    {
     "name": "stdout",
     "output_type": "stream",
     "text": [
      "Best score: 0.9049289598267656\n",
      "Best parameters: {'learning_rate': 0.1, 'max_depth': 6, 'n_estimators': 80}\n"
     ]
    }
   ],
   "source": [
    "# 20 pca\n",
    "model = ConcreteXGBClassifier()\n",
    "\n",
    "# A gridsearch to find the best parameters\n",
    "parameters = {\n",
    "#    \"n_bits\": [4,6],\n",
    "    \"max_depth\": [6],\n",
    "    \"n_estimators\": [60,80],\n",
    "    \"learning_rate\": [0.01, 0.1]\n",
    "}\n",
    "\n",
    "# Now we have a representation for each tweet, we can train a model on these.\n",
    "grid_search = GridSearchCV(model, parameters, cv=8, scoring=\"f1_macro\")\n",
    "grid_search.fit(X_train, y_train)\n",
    "\n",
    "# Check the accuracy of the best model\n",
    "print(f\"Best score: {grid_search.best_score_}\")\n",
    "\n",
    "# Check best hyperparameters\n",
    "print(f\"Best parameters: {grid_search.best_params_}\")\n",
    "\n",
    "# Extract best model\n",
    "best_model = grid_search.best_estimator_"
   ]
  },
  {
   "cell_type": "code",
   "execution_count": 72,
   "id": "5d4a04cd-dc06-40a3-bb5e-f58aeea50f1f",
   "metadata": {
    "tags": []
   },
   "outputs": [
    {
     "name": "stdout",
     "output_type": "stream",
     "text": [
      "Model fitting to training data took 1 seconds\n"
     ]
    }
   ],
   "source": [
    "t_start = time()\n",
    "enc_model1 = ConcreteXGBClassifier( max_depth = 6, n_estimators=80, learning_rate = 0.1, n_bits=8, n_jobs=-1, random_state=15).fit(X_train, y_train)\n",
    "t_end = time()\n",
    "print(f\"Model fitting to training data took {int(t_end - t_start)} seconds\")"
   ]
  },
  {
   "cell_type": "code",
   "execution_count": 73,
   "id": "03273889-86c9-4faa-924d-66540fb3ee2c",
   "metadata": {
    "tags": []
   },
   "outputs": [
    {
     "name": "stdout",
     "output_type": "stream",
     "text": [
      "Model encrypting data took 15 seconds\n"
     ]
    }
   ],
   "source": [
    "t_start = time()\n",
    "# A circuit needs to be compiled to enable FHE execution\n",
    "circuit = enc_model1.compile(X_train)\n",
    "# predict value with FHE\n",
    "\n",
    "y_pred_enc = enc_model1.predict(X_test, fhe=\"simulate\")\n",
    "\n",
    "t_end = time()\n",
    "print(f\"Model encrypting data took {int(t_end - t_start)} seconds\")"
   ]
  },
  {
   "cell_type": "code",
   "execution_count": 74,
   "id": "f2a66233-fe8a-4106-9fd0-56448f6ffdf9",
   "metadata": {
    "tags": []
   },
   "outputs": [
    {
     "name": "stdout",
     "output_type": "stream",
     "text": [
      "              precision    recall  f1-score   support\n",
      "\n",
      "           0     0.7060    0.9087    0.7946       909\n",
      "           1     0.8725    0.6228    0.7268       912\n",
      "\n",
      "    accuracy                         0.7655      1821\n",
      "   macro avg     0.7892    0.7657    0.7607      1821\n",
      "weighted avg     0.7894    0.7655    0.7607      1821\n",
      "\n"
     ]
    }
   ],
   "source": [
    "# 20 pca\n",
    "print(classification_report(y_test, y_pred_enc, digits =4))"
   ]
  },
  {
   "cell_type": "code",
   "execution_count": 75,
   "id": "fc4c122c-89c1-4c54-ac59-2fcb540524c9",
   "metadata": {
    "tags": []
   },
   "outputs": [
    {
     "name": "stdout",
     "output_type": "stream",
     "text": [
      "Accuracy : 0.7655\n",
      "Precision score: 0.7892\n",
      "F1 score : 0.7607\n",
      "AUC Precision-Recall: 0.8840\n"
     ]
    }
   ],
   "source": [
    "# 20 pca\n",
    "print('Accuracy : {0:0.4f}'.format(accuracy_score(y_test, y_pred_enc)))\n",
    "print('Precision score: {0:0.4f}'.format(precision_score(y_test, y_pred_enc, average='macro')))\n",
    "print('F1 score : {0:0.4f}'.format(f1_score(y_test, y_pred_enc,average='macro' )))\n",
    "\n",
    "auc_prc = roc_auc_score(y_test, enc_model1.predict_proba(X_test)[:,1], average='macro',multi_class='ovr')\n",
    "print('AUC Precision-Recall: {0:0.4f}'.format(auc_prc))"
   ]
  },
  {
   "cell_type": "code",
   "execution_count": null,
   "id": "42c77166-e50d-4522-8489-989907566af1",
   "metadata": {},
   "outputs": [],
   "source": []
  },
  {
   "cell_type": "code",
   "execution_count": null,
   "id": "34e461ec-43af-4256-9f60-2ab3630776a8",
   "metadata": {},
   "outputs": [],
   "source": []
  },
  {
   "cell_type": "code",
   "execution_count": null,
   "id": "e1f2e160-9700-4285-ae62-ba1a8727c8b2",
   "metadata": {},
   "outputs": [],
   "source": [
    "#learning_rate= 0.01, max_depth=5,"
   ]
  },
  {
   "cell_type": "code",
   "execution_count": 30,
   "id": "8dfea187-a2e3-41c1-a133-53962034b4bc",
   "metadata": {
    "tags": []
   },
   "outputs": [
    {
     "name": "stdout",
     "output_type": "stream",
     "text": [
      "Model fitting to training data took 0 seconds\n"
     ]
    }
   ],
   "source": [
    "t_start = time()\n",
    "enc_model1 = ConcreteXGBClassifier(  n_estimators=80 , learning_rate= 0.01, max_depth=5, n_bits=8, n_jobs=-1, random_state=15).fit(X_train, y_train)\n",
    "t_end = time()\n",
    "print(f\"Model fitting to training data took {int(t_end - t_start)} seconds\")"
   ]
  },
  {
   "cell_type": "code",
   "execution_count": 31,
   "id": "d76fc167-fc6e-4a0e-882f-12408765e809",
   "metadata": {
    "tags": []
   },
   "outputs": [
    {
     "name": "stdout",
     "output_type": "stream",
     "text": [
      "Model encrypting data took 7 seconds\n"
     ]
    }
   ],
   "source": [
    "t_start = time()\n",
    "# A circuit needs to be compiled to enable FHE execution\n",
    "circuit = enc_model1.compile(X_train)\n",
    "# predict value with FHE\n",
    "\n",
    "y_pred_enc = enc_model1.predict(X_test, fhe=\"simulate\")\n",
    "\n",
    "t_end = time()\n",
    "print(f\"Model encrypting data took {int(t_end - t_start)} seconds\")"
   ]
  },
  {
   "cell_type": "code",
   "execution_count": 32,
   "id": "d98bb3b2-0878-4d9f-b043-621018df1f11",
   "metadata": {
    "tags": []
   },
   "outputs": [
    {
     "name": "stdout",
     "output_type": "stream",
     "text": [
      "              precision    recall  f1-score   support\n",
      "\n",
      "           0     0.7748    0.6282    0.6938       909\n",
      "           1     0.6882    0.8180    0.7475       912\n",
      "\n",
      "    accuracy                         0.7232      1821\n",
      "   macro avg     0.7315    0.7231    0.7206      1821\n",
      "weighted avg     0.7314    0.7232    0.7207      1821\n",
      "\n"
     ]
    }
   ],
   "source": [
    "print(classification_report(y_test, y_pred_enc, digits =4))"
   ]
  },
  {
   "cell_type": "code",
   "execution_count": 33,
   "id": "ad640571-0b2a-4ab2-b49a-294cd2e39955",
   "metadata": {
    "tags": []
   },
   "outputs": [
    {
     "name": "stdout",
     "output_type": "stream",
     "text": [
      "Accuracy : 0.7232\n",
      "Precision score: 0.7315\n",
      "F1 score : 0.7206\n",
      "AUC Precision-Recall: 0.8307\n"
     ]
    }
   ],
   "source": [
    "print('Accuracy : {0:0.4f}'.format(accuracy_score(y_test, y_pred_enc)))\n",
    "print('Precision score: {0:0.4f}'.format(precision_score(y_test, y_pred_enc, average='macro')))\n",
    "print('F1 score : {0:0.4f}'.format(f1_score(y_test, y_pred_enc,average='macro' )))\n",
    "\n",
    "auc_prc = roc_auc_score(y_test, enc_model1.predict_proba(X_test)[:,1], average='macro',multi_class='ovr')\n",
    "print('AUC Precision-Recall: {0:0.4f}'.format(auc_prc))"
   ]
  },
  {
   "cell_type": "code",
   "execution_count": null,
   "id": "6ca3135d-9575-449f-b729-1c1d9a61de7d",
   "metadata": {},
   "outputs": [],
   "source": []
  },
  {
   "cell_type": "code",
   "execution_count": null,
   "id": "b7134e79-ae1f-42af-89b4-cb5be6dbaefe",
   "metadata": {},
   "outputs": [],
   "source": []
  },
  {
   "cell_type": "code",
   "execution_count": 17,
   "id": "744ab07a-20eb-43ad-99fb-48fdd62e186d",
   "metadata": {
    "tags": []
   },
   "outputs": [
    {
     "name": "stdout",
     "output_type": "stream",
     "text": [
      "Best score: 0.9077581723724206\n",
      "Best parameters: {'max_depth': 5, 'n_estimators': 60, 'n_jobs': -1}\n"
     ]
    }
   ],
   "source": [
    "# Let's build our model\n",
    "model = ConcreteXGBClassifier()\n",
    "\n",
    "# A gridsearch to find the best parameters\n",
    "parameters = {\n",
    "#    \"n_bits\": [4,6],\n",
    "    \"max_depth\": [5,6],\n",
    "    \"n_estimators\": [60,80],\n",
    "    \"n_jobs\": [-1] # \"n_jobs\":[2]\n",
    "}\n",
    "\n",
    "# Now we have a representation for each tweet, we can train a model on these.\n",
    "grid_search = GridSearchCV(model, parameters, cv=8, scoring=\"f1_macro\")\n",
    "grid_search.fit(X_train, y_train)\n",
    "\n",
    "# Check the accuracy of the best model\n",
    "print(f\"Best score: {grid_search.best_score_}\")\n",
    "\n",
    "# Check best hyperparameters\n",
    "print(f\"Best parameters: {grid_search.best_params_}\")\n",
    "\n",
    "# Extract best model\n",
    "best_model = grid_search.best_estimator_"
   ]
  },
  {
   "cell_type": "code",
   "execution_count": null,
   "id": "dc379c54-9876-4748-8066-41ee4d9a6499",
   "metadata": {},
   "outputs": [],
   "source": []
  },
  {
   "cell_type": "code",
   "execution_count": 22,
   "id": "736d0ffd-4211-45e8-9b3f-b671bfa2dde6",
   "metadata": {
    "tags": []
   },
   "outputs": [
    {
     "name": "stdout",
     "output_type": "stream",
     "text": [
      "Model fitting to training data took 2 seconds\n"
     ]
    }
   ],
   "source": [
    "t_start = time()\n",
    "enc_model1 = ConcreteXGBClassifier( max_depth = 5, n_estimators=60 , n_bits=8, n_jobs=-1, random_state=15).fit(X_train, y_train)\n",
    "t_end = time()\n",
    "print(f\"Model fitting to training data took {int(t_end - t_start)} seconds\")"
   ]
  },
  {
   "cell_type": "code",
   "execution_count": 23,
   "id": "fca49063-7923-4d87-8326-564a38c06be4",
   "metadata": {
    "tags": []
   },
   "outputs": [
    {
     "name": "stdout",
     "output_type": "stream",
     "text": [
      "Model encrypting data took 49 seconds\n"
     ]
    }
   ],
   "source": [
    "t_start = time()\n",
    "# A circuit needs to be compiled to enable FHE execution\n",
    "circuit = enc_model1.compile(X_train)\n",
    "# predict value with FHE\n",
    "\n",
    "y_pred_enc = enc_model1.predict(X_test, fhe=\"simulate\")\n",
    "\n",
    "t_end = time()\n",
    "print(f\"Model encrypting data took {int(t_end - t_start)} seconds\")"
   ]
  },
  {
   "cell_type": "code",
   "execution_count": 24,
   "id": "2ed3618c-55a5-4b46-b4a8-16ec095f84b8",
   "metadata": {
    "tags": []
   },
   "outputs": [
    {
     "name": "stdout",
     "output_type": "stream",
     "text": [
      "              precision    recall  f1-score   support\n",
      "\n",
      "           0     0.9082    0.9142    0.9112       909\n",
      "           1     0.9139    0.9079    0.9109       912\n",
      "\n",
      "    accuracy                         0.9110      1821\n",
      "   macro avg     0.9111    0.9110    0.9110      1821\n",
      "weighted avg     0.9111    0.9110    0.9110      1821\n",
      "\n"
     ]
    }
   ],
   "source": [
    "print(classification_report(y_test, y_pred_enc, digits =4))"
   ]
  },
  {
   "cell_type": "code",
   "execution_count": 25,
   "id": "3d493b21-16dd-4413-aa4a-2c75a6635fa2",
   "metadata": {
    "tags": []
   },
   "outputs": [
    {
     "name": "stdout",
     "output_type": "stream",
     "text": [
      "Accuracy : 0.9110\n",
      "Precision score: 0.9111\n",
      "F1 score : 0.9110\n",
      "AUC Precision-Recall: 0.9661\n"
     ]
    }
   ],
   "source": [
    "print('Accuracy : {0:0.4f}'.format(accuracy_score(y_test, y_pred_enc)))\n",
    "print('Precision score: {0:0.4f}'.format(precision_score(y_test, y_pred_enc, average='macro')))\n",
    "print('F1 score : {0:0.4f}'.format(f1_score(y_test, y_pred_enc,average='macro' )))\n",
    "\n",
    "auc_prc = roc_auc_score(y_test, enc_model1.predict_proba(X_test)[:,1], average='macro',multi_class='ovr')\n",
    "print('AUC Precision-Recall: {0:0.4f}'.format(auc_prc))"
   ]
  },
  {
   "cell_type": "code",
   "execution_count": null,
   "id": "b73048b6-6ee0-4fba-ae09-cb84e503661a",
   "metadata": {},
   "outputs": [],
   "source": []
  },
  {
   "cell_type": "code",
   "execution_count": 18,
   "id": "d1958e9c-9c27-43d9-9bcc-0bedd4922ebc",
   "metadata": {},
   "outputs": [
    {
     "name": "stdout",
     "output_type": "stream",
     "text": [
      "Model fitting to training data took 2 seconds\n"
     ]
    }
   ],
   "source": [
    "t_start = time()\n",
    "enc_model1 = ConcreteXGBClassifier( max_depth = 5, n_estimators=60 , n_bits=6, n_jobs=-1, random_state=15).fit(X_train, y_train)\n",
    "t_end = time()\n",
    "print(f\"Model fitting to training data took {int(t_end - t_start)} seconds\")"
   ]
  },
  {
   "cell_type": "code",
   "execution_count": 19,
   "id": "9ee3a221-69fd-4c5d-9c60-90d3c804de07",
   "metadata": {},
   "outputs": [
    {
     "name": "stdout",
     "output_type": "stream",
     "text": [
      "Model encrypting data took 47 seconds\n"
     ]
    }
   ],
   "source": [
    "t_start = time()\n",
    "# A circuit needs to be compiled to enable FHE execution\n",
    "circuit = enc_model1.compile(X_train)\n",
    "# predict value with FHE\n",
    "\n",
    "y_pred_enc = enc_model1.predict(X_test, fhe=\"simulate\")\n",
    "\n",
    "t_end = time()\n",
    "print(f\"Model encrypting data took {int(t_end - t_start)} seconds\")"
   ]
  },
  {
   "cell_type": "code",
   "execution_count": 20,
   "id": "be68a2d1-4798-408d-8674-7fb057dce3dc",
   "metadata": {},
   "outputs": [
    {
     "name": "stdout",
     "output_type": "stream",
     "text": [
      "              precision    recall  f1-score   support\n",
      "\n",
      "           0     0.8849    0.9131    0.8988       909\n",
      "           1     0.9105    0.8816    0.8958       912\n",
      "\n",
      "    accuracy                         0.8973      1821\n",
      "   macro avg     0.8977    0.8973    0.8973      1821\n",
      "weighted avg     0.8977    0.8973    0.8973      1821\n",
      "\n"
     ]
    }
   ],
   "source": [
    "print(classification_report(y_test, y_pred_enc, digits =4))"
   ]
  },
  {
   "cell_type": "code",
   "execution_count": 21,
   "id": "9ff4a6ad-bdb1-4b07-84b9-8228a77486b1",
   "metadata": {},
   "outputs": [
    {
     "name": "stdout",
     "output_type": "stream",
     "text": [
      "Accuracy : 0.8973\n",
      "Precision score: 0.8977\n",
      "F1 score : 0.8973\n",
      "AUC Precision-Recall: 0.9627\n"
     ]
    }
   ],
   "source": [
    "print('Accuracy : {0:0.4f}'.format(accuracy_score(y_test, y_pred_enc)))\n",
    "print('Precision score: {0:0.4f}'.format(precision_score(y_test, y_pred_enc, average='macro')))\n",
    "print('F1 score : {0:0.4f}'.format(f1_score(y_test, y_pred_enc,average='macro' )))\n",
    "\n",
    "auc_prc = roc_auc_score(y_test, enc_model1.predict_proba(X_test)[:,1], average='macro',multi_class='ovr')\n",
    "print('AUC Precision-Recall: {0:0.4f}'.format(auc_prc))"
   ]
  },
  {
   "cell_type": "code",
   "execution_count": null,
   "id": "fd4dd82e-00f7-48a2-9bea-48d42923b393",
   "metadata": {},
   "outputs": [],
   "source": []
  }
 ],
 "metadata": {
  "availableInstances": [
   {
    "_defaultOrder": 0,
    "_isFastLaunch": true,
    "category": "General purpose",
    "gpuNum": 0,
    "hideHardwareSpecs": false,
    "memoryGiB": 4,
    "name": "ml.t3.medium",
    "vcpuNum": 2
   },
   {
    "_defaultOrder": 1,
    "_isFastLaunch": false,
    "category": "General purpose",
    "gpuNum": 0,
    "hideHardwareSpecs": false,
    "memoryGiB": 8,
    "name": "ml.t3.large",
    "vcpuNum": 2
   },
   {
    "_defaultOrder": 2,
    "_isFastLaunch": false,
    "category": "General purpose",
    "gpuNum": 0,
    "hideHardwareSpecs": false,
    "memoryGiB": 16,
    "name": "ml.t3.xlarge",
    "vcpuNum": 4
   },
   {
    "_defaultOrder": 3,
    "_isFastLaunch": false,
    "category": "General purpose",
    "gpuNum": 0,
    "hideHardwareSpecs": false,
    "memoryGiB": 32,
    "name": "ml.t3.2xlarge",
    "vcpuNum": 8
   },
   {
    "_defaultOrder": 4,
    "_isFastLaunch": true,
    "category": "General purpose",
    "gpuNum": 0,
    "hideHardwareSpecs": false,
    "memoryGiB": 8,
    "name": "ml.m5.large",
    "vcpuNum": 2
   },
   {
    "_defaultOrder": 5,
    "_isFastLaunch": false,
    "category": "General purpose",
    "gpuNum": 0,
    "hideHardwareSpecs": false,
    "memoryGiB": 16,
    "name": "ml.m5.xlarge",
    "vcpuNum": 4
   },
   {
    "_defaultOrder": 6,
    "_isFastLaunch": false,
    "category": "General purpose",
    "gpuNum": 0,
    "hideHardwareSpecs": false,
    "memoryGiB": 32,
    "name": "ml.m5.2xlarge",
    "vcpuNum": 8
   },
   {
    "_defaultOrder": 7,
    "_isFastLaunch": false,
    "category": "General purpose",
    "gpuNum": 0,
    "hideHardwareSpecs": false,
    "memoryGiB": 64,
    "name": "ml.m5.4xlarge",
    "vcpuNum": 16
   },
   {
    "_defaultOrder": 8,
    "_isFastLaunch": false,
    "category": "General purpose",
    "gpuNum": 0,
    "hideHardwareSpecs": false,
    "memoryGiB": 128,
    "name": "ml.m5.8xlarge",
    "vcpuNum": 32
   },
   {
    "_defaultOrder": 9,
    "_isFastLaunch": false,
    "category": "General purpose",
    "gpuNum": 0,
    "hideHardwareSpecs": false,
    "memoryGiB": 192,
    "name": "ml.m5.12xlarge",
    "vcpuNum": 48
   },
   {
    "_defaultOrder": 10,
    "_isFastLaunch": false,
    "category": "General purpose",
    "gpuNum": 0,
    "hideHardwareSpecs": false,
    "memoryGiB": 256,
    "name": "ml.m5.16xlarge",
    "vcpuNum": 64
   },
   {
    "_defaultOrder": 11,
    "_isFastLaunch": false,
    "category": "General purpose",
    "gpuNum": 0,
    "hideHardwareSpecs": false,
    "memoryGiB": 384,
    "name": "ml.m5.24xlarge",
    "vcpuNum": 96
   },
   {
    "_defaultOrder": 12,
    "_isFastLaunch": false,
    "category": "General purpose",
    "gpuNum": 0,
    "hideHardwareSpecs": false,
    "memoryGiB": 8,
    "name": "ml.m5d.large",
    "vcpuNum": 2
   },
   {
    "_defaultOrder": 13,
    "_isFastLaunch": false,
    "category": "General purpose",
    "gpuNum": 0,
    "hideHardwareSpecs": false,
    "memoryGiB": 16,
    "name": "ml.m5d.xlarge",
    "vcpuNum": 4
   },
   {
    "_defaultOrder": 14,
    "_isFastLaunch": false,
    "category": "General purpose",
    "gpuNum": 0,
    "hideHardwareSpecs": false,
    "memoryGiB": 32,
    "name": "ml.m5d.2xlarge",
    "vcpuNum": 8
   },
   {
    "_defaultOrder": 15,
    "_isFastLaunch": false,
    "category": "General purpose",
    "gpuNum": 0,
    "hideHardwareSpecs": false,
    "memoryGiB": 64,
    "name": "ml.m5d.4xlarge",
    "vcpuNum": 16
   },
   {
    "_defaultOrder": 16,
    "_isFastLaunch": false,
    "category": "General purpose",
    "gpuNum": 0,
    "hideHardwareSpecs": false,
    "memoryGiB": 128,
    "name": "ml.m5d.8xlarge",
    "vcpuNum": 32
   },
   {
    "_defaultOrder": 17,
    "_isFastLaunch": false,
    "category": "General purpose",
    "gpuNum": 0,
    "hideHardwareSpecs": false,
    "memoryGiB": 192,
    "name": "ml.m5d.12xlarge",
    "vcpuNum": 48
   },
   {
    "_defaultOrder": 18,
    "_isFastLaunch": false,
    "category": "General purpose",
    "gpuNum": 0,
    "hideHardwareSpecs": false,
    "memoryGiB": 256,
    "name": "ml.m5d.16xlarge",
    "vcpuNum": 64
   },
   {
    "_defaultOrder": 19,
    "_isFastLaunch": false,
    "category": "General purpose",
    "gpuNum": 0,
    "hideHardwareSpecs": false,
    "memoryGiB": 384,
    "name": "ml.m5d.24xlarge",
    "vcpuNum": 96
   },
   {
    "_defaultOrder": 20,
    "_isFastLaunch": false,
    "category": "General purpose",
    "gpuNum": 0,
    "hideHardwareSpecs": true,
    "memoryGiB": 0,
    "name": "ml.geospatial.interactive",
    "supportedImageNames": [
     "sagemaker-geospatial-v1-0"
    ],
    "vcpuNum": 0
   },
   {
    "_defaultOrder": 21,
    "_isFastLaunch": true,
    "category": "Compute optimized",
    "gpuNum": 0,
    "hideHardwareSpecs": false,
    "memoryGiB": 4,
    "name": "ml.c5.large",
    "vcpuNum": 2
   },
   {
    "_defaultOrder": 22,
    "_isFastLaunch": false,
    "category": "Compute optimized",
    "gpuNum": 0,
    "hideHardwareSpecs": false,
    "memoryGiB": 8,
    "name": "ml.c5.xlarge",
    "vcpuNum": 4
   },
   {
    "_defaultOrder": 23,
    "_isFastLaunch": false,
    "category": "Compute optimized",
    "gpuNum": 0,
    "hideHardwareSpecs": false,
    "memoryGiB": 16,
    "name": "ml.c5.2xlarge",
    "vcpuNum": 8
   },
   {
    "_defaultOrder": 24,
    "_isFastLaunch": false,
    "category": "Compute optimized",
    "gpuNum": 0,
    "hideHardwareSpecs": false,
    "memoryGiB": 32,
    "name": "ml.c5.4xlarge",
    "vcpuNum": 16
   },
   {
    "_defaultOrder": 25,
    "_isFastLaunch": false,
    "category": "Compute optimized",
    "gpuNum": 0,
    "hideHardwareSpecs": false,
    "memoryGiB": 72,
    "name": "ml.c5.9xlarge",
    "vcpuNum": 36
   },
   {
    "_defaultOrder": 26,
    "_isFastLaunch": false,
    "category": "Compute optimized",
    "gpuNum": 0,
    "hideHardwareSpecs": false,
    "memoryGiB": 96,
    "name": "ml.c5.12xlarge",
    "vcpuNum": 48
   },
   {
    "_defaultOrder": 27,
    "_isFastLaunch": false,
    "category": "Compute optimized",
    "gpuNum": 0,
    "hideHardwareSpecs": false,
    "memoryGiB": 144,
    "name": "ml.c5.18xlarge",
    "vcpuNum": 72
   },
   {
    "_defaultOrder": 28,
    "_isFastLaunch": false,
    "category": "Compute optimized",
    "gpuNum": 0,
    "hideHardwareSpecs": false,
    "memoryGiB": 192,
    "name": "ml.c5.24xlarge",
    "vcpuNum": 96
   },
   {
    "_defaultOrder": 29,
    "_isFastLaunch": true,
    "category": "Accelerated computing",
    "gpuNum": 1,
    "hideHardwareSpecs": false,
    "memoryGiB": 16,
    "name": "ml.g4dn.xlarge",
    "vcpuNum": 4
   },
   {
    "_defaultOrder": 30,
    "_isFastLaunch": false,
    "category": "Accelerated computing",
    "gpuNum": 1,
    "hideHardwareSpecs": false,
    "memoryGiB": 32,
    "name": "ml.g4dn.2xlarge",
    "vcpuNum": 8
   },
   {
    "_defaultOrder": 31,
    "_isFastLaunch": false,
    "category": "Accelerated computing",
    "gpuNum": 1,
    "hideHardwareSpecs": false,
    "memoryGiB": 64,
    "name": "ml.g4dn.4xlarge",
    "vcpuNum": 16
   },
   {
    "_defaultOrder": 32,
    "_isFastLaunch": false,
    "category": "Accelerated computing",
    "gpuNum": 1,
    "hideHardwareSpecs": false,
    "memoryGiB": 128,
    "name": "ml.g4dn.8xlarge",
    "vcpuNum": 32
   },
   {
    "_defaultOrder": 33,
    "_isFastLaunch": false,
    "category": "Accelerated computing",
    "gpuNum": 4,
    "hideHardwareSpecs": false,
    "memoryGiB": 192,
    "name": "ml.g4dn.12xlarge",
    "vcpuNum": 48
   },
   {
    "_defaultOrder": 34,
    "_isFastLaunch": false,
    "category": "Accelerated computing",
    "gpuNum": 1,
    "hideHardwareSpecs": false,
    "memoryGiB": 256,
    "name": "ml.g4dn.16xlarge",
    "vcpuNum": 64
   },
   {
    "_defaultOrder": 35,
    "_isFastLaunch": false,
    "category": "Accelerated computing",
    "gpuNum": 1,
    "hideHardwareSpecs": false,
    "memoryGiB": 61,
    "name": "ml.p3.2xlarge",
    "vcpuNum": 8
   },
   {
    "_defaultOrder": 36,
    "_isFastLaunch": false,
    "category": "Accelerated computing",
    "gpuNum": 4,
    "hideHardwareSpecs": false,
    "memoryGiB": 244,
    "name": "ml.p3.8xlarge",
    "vcpuNum": 32
   },
   {
    "_defaultOrder": 37,
    "_isFastLaunch": false,
    "category": "Accelerated computing",
    "gpuNum": 8,
    "hideHardwareSpecs": false,
    "memoryGiB": 488,
    "name": "ml.p3.16xlarge",
    "vcpuNum": 64
   },
   {
    "_defaultOrder": 38,
    "_isFastLaunch": false,
    "category": "Accelerated computing",
    "gpuNum": 8,
    "hideHardwareSpecs": false,
    "memoryGiB": 768,
    "name": "ml.p3dn.24xlarge",
    "vcpuNum": 96
   },
   {
    "_defaultOrder": 39,
    "_isFastLaunch": false,
    "category": "Memory Optimized",
    "gpuNum": 0,
    "hideHardwareSpecs": false,
    "memoryGiB": 16,
    "name": "ml.r5.large",
    "vcpuNum": 2
   },
   {
    "_defaultOrder": 40,
    "_isFastLaunch": false,
    "category": "Memory Optimized",
    "gpuNum": 0,
    "hideHardwareSpecs": false,
    "memoryGiB": 32,
    "name": "ml.r5.xlarge",
    "vcpuNum": 4
   },
   {
    "_defaultOrder": 41,
    "_isFastLaunch": false,
    "category": "Memory Optimized",
    "gpuNum": 0,
    "hideHardwareSpecs": false,
    "memoryGiB": 64,
    "name": "ml.r5.2xlarge",
    "vcpuNum": 8
   },
   {
    "_defaultOrder": 42,
    "_isFastLaunch": false,
    "category": "Memory Optimized",
    "gpuNum": 0,
    "hideHardwareSpecs": false,
    "memoryGiB": 128,
    "name": "ml.r5.4xlarge",
    "vcpuNum": 16
   },
   {
    "_defaultOrder": 43,
    "_isFastLaunch": false,
    "category": "Memory Optimized",
    "gpuNum": 0,
    "hideHardwareSpecs": false,
    "memoryGiB": 256,
    "name": "ml.r5.8xlarge",
    "vcpuNum": 32
   },
   {
    "_defaultOrder": 44,
    "_isFastLaunch": false,
    "category": "Memory Optimized",
    "gpuNum": 0,
    "hideHardwareSpecs": false,
    "memoryGiB": 384,
    "name": "ml.r5.12xlarge",
    "vcpuNum": 48
   },
   {
    "_defaultOrder": 45,
    "_isFastLaunch": false,
    "category": "Memory Optimized",
    "gpuNum": 0,
    "hideHardwareSpecs": false,
    "memoryGiB": 512,
    "name": "ml.r5.16xlarge",
    "vcpuNum": 64
   },
   {
    "_defaultOrder": 46,
    "_isFastLaunch": false,
    "category": "Memory Optimized",
    "gpuNum": 0,
    "hideHardwareSpecs": false,
    "memoryGiB": 768,
    "name": "ml.r5.24xlarge",
    "vcpuNum": 96
   },
   {
    "_defaultOrder": 47,
    "_isFastLaunch": false,
    "category": "Accelerated computing",
    "gpuNum": 1,
    "hideHardwareSpecs": false,
    "memoryGiB": 16,
    "name": "ml.g5.xlarge",
    "vcpuNum": 4
   },
   {
    "_defaultOrder": 48,
    "_isFastLaunch": false,
    "category": "Accelerated computing",
    "gpuNum": 1,
    "hideHardwareSpecs": false,
    "memoryGiB": 32,
    "name": "ml.g5.2xlarge",
    "vcpuNum": 8
   },
   {
    "_defaultOrder": 49,
    "_isFastLaunch": false,
    "category": "Accelerated computing",
    "gpuNum": 1,
    "hideHardwareSpecs": false,
    "memoryGiB": 64,
    "name": "ml.g5.4xlarge",
    "vcpuNum": 16
   },
   {
    "_defaultOrder": 50,
    "_isFastLaunch": false,
    "category": "Accelerated computing",
    "gpuNum": 1,
    "hideHardwareSpecs": false,
    "memoryGiB": 128,
    "name": "ml.g5.8xlarge",
    "vcpuNum": 32
   },
   {
    "_defaultOrder": 51,
    "_isFastLaunch": false,
    "category": "Accelerated computing",
    "gpuNum": 1,
    "hideHardwareSpecs": false,
    "memoryGiB": 256,
    "name": "ml.g5.16xlarge",
    "vcpuNum": 64
   },
   {
    "_defaultOrder": 52,
    "_isFastLaunch": false,
    "category": "Accelerated computing",
    "gpuNum": 4,
    "hideHardwareSpecs": false,
    "memoryGiB": 192,
    "name": "ml.g5.12xlarge",
    "vcpuNum": 48
   },
   {
    "_defaultOrder": 53,
    "_isFastLaunch": false,
    "category": "Accelerated computing",
    "gpuNum": 4,
    "hideHardwareSpecs": false,
    "memoryGiB": 384,
    "name": "ml.g5.24xlarge",
    "vcpuNum": 96
   },
   {
    "_defaultOrder": 54,
    "_isFastLaunch": false,
    "category": "Accelerated computing",
    "gpuNum": 8,
    "hideHardwareSpecs": false,
    "memoryGiB": 768,
    "name": "ml.g5.48xlarge",
    "vcpuNum": 192
   },
   {
    "_defaultOrder": 55,
    "_isFastLaunch": false,
    "category": "Accelerated computing",
    "gpuNum": 8,
    "hideHardwareSpecs": false,
    "memoryGiB": 1152,
    "name": "ml.p4d.24xlarge",
    "vcpuNum": 96
   },
   {
    "_defaultOrder": 56,
    "_isFastLaunch": false,
    "category": "Accelerated computing",
    "gpuNum": 8,
    "hideHardwareSpecs": false,
    "memoryGiB": 1152,
    "name": "ml.p4de.24xlarge",
    "vcpuNum": 96
   }
  ],
  "kernelspec": {
   "display_name": "Python 3 (Data Science 3.0)",
   "language": "python",
   "name": "python3__SAGEMAKER_INTERNAL__arn:aws:sagemaker:eu-west-1:470317259841:image/sagemaker-data-science-310-v1"
  },
  "language_info": {
   "codemirror_mode": {
    "name": "ipython",
    "version": 3
   },
   "file_extension": ".py",
   "mimetype": "text/x-python",
   "name": "python",
   "nbconvert_exporter": "python",
   "pygments_lexer": "ipython3",
   "version": "3.10.6"
  }
 },
 "nbformat": 4,
 "nbformat_minor": 5
}
